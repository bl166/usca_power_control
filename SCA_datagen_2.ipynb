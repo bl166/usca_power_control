{
 "cells": [
  {
   "cell_type": "code",
   "execution_count": 44,
   "metadata": {},
   "outputs": [],
   "source": [
    "%load_ext autoreload\n",
    "%autoreload 2\n",
    "\n",
    "from tqdm.notebook import tqdm\n",
    "from tqdm.auto import trange\n",
    "import itertools as it\n",
    "import h5py\n",
    "from copy import deepcopy\n",
    "\n",
    "import numpy as np\n",
    "import cvxpy as cp\n",
    "import networkx as nx\n",
    "import matplotlib.pyplot as plt\n",
    "\n",
    "import torch\n",
    "import torch.nn as nn\n",
    "from torch_geometric.utils import dense_to_sparse\n",
    "\n",
    "from sca import *\n",
    "from utils import *\n",
    "from models_uf import *\n"
   ]
  },
  {
   "cell_type": "markdown",
   "metadata": {},
   "source": [
    "## load data"
   ]
  },
  {
   "cell_type": "code",
   "execution_count": 130,
   "metadata": {},
   "outputs": [
    {
     "name": "stdout",
     "output_type": "stream",
     "text": [
      "2020-12-23 23:02:19 | <HDF5 dataset \"channel_to_noise_matched\": shape (1000, 4, 4), type \"<f4\">\n",
      "2020-12-23 23:02:19 | <class 'float'>\n",
      "2020-12-23 23:02:19 | 1.0\n"
     ]
    }
   ],
   "source": [
    "dfn3 = '../../data/results_hataUrban_noSF.h5'\n",
    "X_tr, y_tr = [],[]\n",
    "with h5py.File(dfn3, \"r\") as handle:\n",
    "    print( handle['input'][\"channel_to_noise_matched\"])\n",
    "    print( type(handle['input']['PA inefficency'][...].item()))\n",
    "    print( handle['input']['Pc'][...])"
   ]
  },
  {
   "cell_type": "code",
   "execution_count": 45,
   "metadata": {},
   "outputs": [
    {
     "data": {
      "application/vnd.jupyter.widget-view+json": {
       "model_id": "af2e0ac506f94592af3e03c096ebfb93",
       "version_major": 2,
       "version_minor": 0
      },
      "text/plain": [
       "HBox(children=(FloatProgress(value=0.0, max=1000.0), HTML(value='')))"
      ]
     },
     "metadata": {},
     "output_type": "display_data"
    },
    {
     "name": "stdout",
     "output_type": "stream",
     "text": [
      "\n"
     ]
    },
    {
     "data": {
      "application/vnd.jupyter.widget-view+json": {
       "model_id": "2980a21b31eb4bba84c8eb618a78f8cf",
       "version_major": 2,
       "version_minor": 0
      },
      "text/plain": [
       "HBox(children=(FloatProgress(value=0.0, max=1000.0), HTML(value='')))"
      ]
     },
     "metadata": {},
     "output_type": "display_data"
    },
    {
     "name": "stdout",
     "output_type": "stream",
     "text": [
      "\n",
      "2020-12-27 17:41:17 | (51000, 17) torch.Size([51000, 4])\n",
      "2020-12-27 17:41:17 | (51000, 17) torch.Size([51000, 4])\n"
     ]
    }
   ],
   "source": [
    "#--- data---\n",
    "\n",
    "num_ue = 4\n",
    "mu = 4\n",
    "Pc = 1\n",
    "\n",
    "device = torch.device('cpu')\n",
    "\n",
    "# # train data\n",
    "# dfn3 = '../../data/dset%d.h5'%num_ue\n",
    "# with h5py.File(dfn3, \"r\") as handle:\n",
    "#     X_tr = handle['training']['input'][...]\n",
    "#     y_tr = handle['training']['xopt'][...]\n",
    "    \n",
    "# # validation data\n",
    "# dfn4 = '../../data/dset%d.h5'%num_ue\n",
    "# with h5py.File(dfn4, \"r\") as handle:\n",
    "#     X_va = handle['validation']['input'][...]\n",
    "#     y_va = handle['validation']['xopt'][...]\n",
    "      \n",
    "        \n",
    "#--- data---\n",
    "\n",
    "\n",
    "# train data\n",
    "dfn3 = '../../data/results_hataUrban_noSF.h5'\n",
    "X_tr, y_tr = [],[]\n",
    "with h5py.File(dfn3, \"r\") as handle:\n",
    "    Hs = handle['input'][\"channel_to_noise_matched\"]\n",
    "    Plin = 10**(np.asarray(handle['input']['PdB'][...], dtype=np.float)/10)\n",
    "    xopt = handle['xopt']\n",
    "    \n",
    "    assert num_ue==Hs.shape[1]\n",
    "\n",
    "    for hidx in trange(Hs.shape[0]):\n",
    "        edge_index_tr, h = dense_to_sparse(torch.from_numpy(Hs[hidx].astype(float)))\n",
    "        x1 = (h.reshape((-1,1))*Plin).T # -->(h1p1, h2p1, h3p1, ...)\n",
    "        X_tr.append(np.hstack((x1, Plin.reshape(-1,1))))\n",
    "        y_tr.append(xopt[hidx,...] )                   \n",
    "\n",
    "y_tr = np.concatenate((y_tr))\n",
    "X_tr = np.concatenate((X_tr))\n",
    "y_tr = y_tr[~np.any(np.isnan(X_tr),-1)]     \n",
    "X_tr = X_tr[~np.any(np.isnan(X_tr),-1)]\n",
    "\n",
    "\n",
    "# validation data\n",
    "dfn4 = '../../data/results_hataUrban.h5'\n",
    "X_va, y_va = [],[]\n",
    "with h5py.File(dfn4, \"r\") as handle:\n",
    "    Hs = handle['input'][\"channel_to_noise_matched\"]\n",
    "    Plin = 10**(np.asarray(handle['input']['PdB'][...], dtype=np.float)/10)\n",
    "    xopt = handle['xopt']\n",
    "    \n",
    "    for hidx in trange(Hs.shape[0]):\n",
    "        edge_index_va, h = dense_to_sparse(torch.from_numpy(Hs[hidx].astype(float)))\n",
    "        x1 = (h.reshape((-1,1))*Plin).T # -->(h1p1, h2p1, h3p1, ...)\n",
    "        X_va.append(np.hstack((x1, Plin.reshape(-1,1))))\n",
    "        y_va.append(xopt[hidx,...] )\n",
    "\n",
    "y_va = np.concatenate((y_va))\n",
    "X_va = np.concatenate((X_va))\n",
    "y_va = y_va[~np.any(np.isnan(X_va),-1)]     \n",
    "X_va = X_va[~np.any(np.isnan(X_va),-1)]\n",
    "\n",
    "        \n",
    "#--- (end)---\n",
    "\n",
    "        \n",
    "# to torch tensor\n",
    "y_tr = torch.from_numpy(y_tr).float().to(device)\n",
    "y_va = torch.from_numpy(y_va).float().to(device)\n",
    "\n",
    "print(X_tr.shape, y_tr.shape)\n",
    "print(X_va.shape, y_va.shape)\n"
   ]
  },
  {
   "cell_type": "code",
   "execution_count": 133,
   "metadata": {},
   "outputs": [
    {
     "data": {
      "text/plain": [
       "Text(0.5, 1.0, 'Test allocation histogram')"
      ]
     },
     "execution_count": 133,
     "metadata": {},
     "output_type": "execute_result"
    },
    {
     "data": {
      "image/png": "[encoded data removed]",
      "text/plain": [
       "<Figure size 576x216 with 2 Axes>"
      ]
     },
     "metadata": {
      "needs_background": "light"
     },
     "output_type": "display_data"
    }
   ],
   "source": [
    "torch.cuda.empty_cache()\n",
    "plt.figure(figsize=(8,3))\n",
    "plt.subplot(121)\n",
    "plt.hist(y_tr.numpy().flatten())\n",
    "plt.title('Training/validation allocatiom histogram')\n",
    "plt.subplot(122)\n",
    "plt.hist(y_va.numpy().flatten())\n",
    "plt.title('Test allocation histogram')"
   ]
  },
  {
   "cell_type": "code",
   "execution_count": 42,
   "metadata": {},
   "outputs": [
    {
     "data": {
      "text/plain": [
       "[1, 2, 4]"
      ]
     },
     "execution_count": 42,
     "metadata": {},
     "output_type": "execute_result"
    }
   ],
   "source": [
    "[i for i in [1,2,4]]"
   ]
  },
  {
   "cell_type": "markdown",
   "metadata": {},
   "source": [
    "## unfolded sca pipeline"
   ]
  },
  {
   "cell_type": "code",
   "execution_count": 135,
   "metadata": {
    "scrolled": true
   },
   "outputs": [
    {
     "name": "stdout",
     "output_type": "stream",
     "text": [
      "2020-12-24 04:34:10 | torch.Size([25500, 21]) torch.Size([25500, 21]) torch.Size([25500, 4]) torch.Size([25500, 4])\n",
      "2020-12-24 04:34:10 | 0-fold: train opt wsee 7.876275 / val opt wsee 7.827026 / test opt wsee 9.227342\n"
     ]
    },
    {
     "data": {
      "application/vnd.jupyter.widget-view+json": {
       "model_id": "b36e7ba3a59644c5b63ce2d043a77f25",
       "version_major": 2,
       "version_minor": 0
      },
      "text/plain": [
       "HBox(children=(FloatProgress(value=0.0, description='1-th fold:', max=200.0, style=ProgressStyle(description_w…"
      ]
     },
     "metadata": {},
     "output_type": "display_data"
    },
    {
     "name": "stdout",
     "output_type": "stream",
     "text": [
      "2020-12-24 04:34:11 | 0: train loss 0.811207 / val loss 0.442298 / test loss 0.828272\n",
      "2020-12-24 04:34:11 | 0: train wsee 5.079382 / val wsee 5.706871 / test wsee 6.209196\n",
      "2020-12-24 04:34:11 | \n",
      "2020-12-24 04:34:11 | 1: train loss 0.238009 / val loss 0.093517 / test loss 0.191886\n",
      "2020-12-24 04:34:11 | 1: train wsee 5.645555 / val wsee 5.696015 / test wsee 5.961827\n",
      "2020-12-24 04:34:11 | \n",
      "2020-12-24 04:34:12 | 2: train loss 0.156488 / val loss 0.036801 / test loss 0.050996\n",
      "2020-12-24 04:34:12 | 2: train wsee 5.978916 / val wsee 6.119485 / test wsee 6.493530\n",
      "2020-12-24 04:34:12 | \n",
      "2020-12-24 04:34:13 | 3: train loss 0.095766 / val loss 0.011591 / test loss 0.013991\n",
      "2020-12-24 04:34:13 | 3: train wsee 6.441408 / val wsee 7.010986 / test wsee 7.941950\n",
      "2020-12-24 04:34:13 | \n",
      "2020-12-24 04:34:13 | 4: train loss 0.075442 / val loss 0.000569 / test loss 0.000681\n",
      "2020-12-24 04:34:13 | 4: train wsee 7.291217 / val wsee 7.422494 / test wsee 8.415025\n",
      "2020-12-24 04:34:13 | \n",
      "2020-12-24 04:34:14 | 5: train loss 0.050037 / val loss 0.000774 / test loss 0.000719\n",
      "2020-12-24 04:34:14 | 5: train wsee 7.513279 / val wsee 7.587535 / test wsee 8.709243\n",
      "2020-12-24 04:34:14 | \n",
      "2020-12-24 04:34:15 | 6: train loss 0.007151 / val loss 0.000449 / test loss 0.000501\n",
      "2020-12-24 04:34:15 | 6: train wsee 7.646687 / val wsee 7.622872 / test wsee 8.723763\n",
      "2020-12-24 04:34:15 | \n",
      "2020-12-24 04:34:15 | 7: train loss 0.020932 / val loss 0.000589 / test loss 0.000581\n",
      "2020-12-24 04:34:15 | 7: train wsee 7.639590 / val wsee 7.608045 / test wsee 8.716857\n",
      "2020-12-24 04:34:15 | \n",
      "2020-12-24 04:34:16 | 8: train loss 0.011307 / val loss 0.039857 / test loss 0.076792\n",
      "2020-12-24 04:34:16 | 8: train wsee 7.657989 / val wsee 7.610553 / test wsee 8.689859\n",
      "2020-12-24 04:34:16 | \n",
      "2020-12-24 04:34:17 | 9: train loss 0.016413 / val loss 0.062155 / test loss 0.117339\n",
      "2020-12-24 04:34:17 | 9: train wsee 7.667607 / val wsee 7.572934 / test wsee 8.647690\n",
      "2020-12-24 04:34:17 | \n",
      "2020-12-24 04:34:17 | 10: train loss 0.013649 / val loss 0.000300 / test loss 0.000466\n",
      "2020-12-24 04:34:17 | 10: train wsee 7.678562 / val wsee 7.667058 / test wsee 8.770601\n",
      "2020-12-24 04:34:17 | \n",
      "2020-12-24 04:34:18 | 11: train loss 0.008951 / val loss 0.089096 / test loss 0.172594\n",
      "2020-12-24 04:34:18 | 11: train wsee 7.688695 / val wsee 7.582732 / test wsee 8.651688\n",
      "2020-12-24 04:34:18 | \n",
      "\n"
     ]
    },
    {
     "ename": "KeyboardInterrupt",
     "evalue": "",
     "output_type": "error",
     "traceback": [
      "\u001b[0;31m-------------------------------------------------------------------------\u001b[0m",
      "\u001b[0;31mKeyboardInterrupt\u001b[0m                       Traceback (most recent call last)",
      "\u001b[0;32m<ipython-input-135-c7b27b8b0041>\u001b[0m in \u001b[0;36m<module>\u001b[0;34m\u001b[0m\n\u001b[1;32m     88\u001b[0m \u001b[0;34m\u001b[0m\u001b[0m\n\u001b[1;32m     89\u001b[0m             \u001b[0mopt\u001b[0m\u001b[0;34m.\u001b[0m\u001b[0mzero_grad\u001b[0m\u001b[0;34m(\u001b[0m\u001b[0;34m)\u001b[0m\u001b[0;34m\u001b[0m\u001b[0;34m\u001b[0m\u001b[0m\n\u001b[0;32m---> 90\u001b[0;31m             \u001b[0mloss\u001b[0m\u001b[0;34m.\u001b[0m\u001b[0mbackward\u001b[0m\u001b[0;34m(\u001b[0m\u001b[0mtorch\u001b[0m\u001b[0;34m.\u001b[0m\u001b[0mones\u001b[0m\u001b[0;34m(\u001b[0m\u001b[0mnum_ue\u001b[0m\u001b[0;34m)\u001b[0m\u001b[0;34m.\u001b[0m\u001b[0mto\u001b[0m\u001b[0;34m(\u001b[0m\u001b[0mdevice\u001b[0m\u001b[0;34m)\u001b[0m\u001b[0;34m)\u001b[0m \u001b[0;31m#vector loss\u001b[0m\u001b[0;34m\u001b[0m\u001b[0;34m\u001b[0m\u001b[0m\n\u001b[0m\u001b[1;32m     91\u001b[0m \u001b[0;34m\u001b[0m\u001b[0m\n\u001b[1;32m     92\u001b[0m             \u001b[0mtorch\u001b[0m\u001b[0;34m.\u001b[0m\u001b[0mnn\u001b[0m\u001b[0;34m.\u001b[0m\u001b[0mutils\u001b[0m\u001b[0;34m.\u001b[0m\u001b[0mclip_grad_norm_\u001b[0m\u001b[0;34m(\u001b[0m\u001b[0mmodel\u001b[0m\u001b[0;34m.\u001b[0m\u001b[0mparameters\u001b[0m\u001b[0;34m(\u001b[0m\u001b[0;34m)\u001b[0m\u001b[0;34m,\u001b[0m \u001b[0;36m1\u001b[0m\u001b[0;34m)\u001b[0m\u001b[0;34m\u001b[0m\u001b[0;34m\u001b[0m\u001b[0m\n",
      "\u001b[0;32m/opt/conda/lib/python3.7/site-packages/torch/tensor.py\u001b[0m in \u001b[0;36mbackward\u001b[0;34m(self, gradient, retain_graph, create_graph)\u001b[0m\n\u001b[1;32m    183\u001b[0m                 \u001b[0mproducts\u001b[0m\u001b[0;34m.\u001b[0m \u001b[0mDefaults\u001b[0m \u001b[0mto\u001b[0m\u001b[0;31m \u001b[0m\u001b[0;31m`\u001b[0m\u001b[0;31m`\u001b[0m\u001b[0;32mFalse\u001b[0m\u001b[0;31m`\u001b[0m\u001b[0;31m`\u001b[0m\u001b[0;34m.\u001b[0m\u001b[0;34m\u001b[0m\u001b[0;34m\u001b[0m\u001b[0m\n\u001b[1;32m    184\u001b[0m         \"\"\"\n\u001b[0;32m--> 185\u001b[0;31m         \u001b[0mtorch\u001b[0m\u001b[0;34m.\u001b[0m\u001b[0mautograd\u001b[0m\u001b[0;34m.\u001b[0m\u001b[0mbackward\u001b[0m\u001b[0;34m(\u001b[0m\u001b[0mself\u001b[0m\u001b[0;34m,\u001b[0m \u001b[0mgradient\u001b[0m\u001b[0;34m,\u001b[0m \u001b[0mretain_graph\u001b[0m\u001b[0;34m,\u001b[0m \u001b[0mcreate_graph\u001b[0m\u001b[0;34m)\u001b[0m\u001b[0;34m\u001b[0m\u001b[0;34m\u001b[0m\u001b[0m\n\u001b[0m\u001b[1;32m    186\u001b[0m \u001b[0;34m\u001b[0m\u001b[0m\n\u001b[1;32m    187\u001b[0m     \u001b[0;32mdef\u001b[0m \u001b[0mregister_hook\u001b[0m\u001b[0;34m(\u001b[0m\u001b[0mself\u001b[0m\u001b[0;34m,\u001b[0m \u001b[0mhook\u001b[0m\u001b[0;34m)\u001b[0m\u001b[0;34m:\u001b[0m\u001b[0;34m\u001b[0m\u001b[0;34m\u001b[0m\u001b[0m\n",
      "\u001b[0;32m/opt/conda/lib/python3.7/site-packages/torch/autograd/__init__.py\u001b[0m in \u001b[0;36mbackward\u001b[0;34m(tensors, grad_tensors, retain_graph, create_graph, grad_variables)\u001b[0m\n\u001b[1;32m    125\u001b[0m     Variable._execution_engine.run_backward(\n\u001b[1;32m    126\u001b[0m         \u001b[0mtensors\u001b[0m\u001b[0;34m,\u001b[0m \u001b[0mgrad_tensors\u001b[0m\u001b[0;34m,\u001b[0m \u001b[0mretain_graph\u001b[0m\u001b[0;34m,\u001b[0m \u001b[0mcreate_graph\u001b[0m\u001b[0;34m,\u001b[0m\u001b[0;34m\u001b[0m\u001b[0;34m\u001b[0m\u001b[0m\n\u001b[0;32m--> 127\u001b[0;31m         allow_unreachable=True)  # allow_unreachable flag\n\u001b[0m\u001b[1;32m    128\u001b[0m \u001b[0;34m\u001b[0m\u001b[0m\n\u001b[1;32m    129\u001b[0m \u001b[0;34m\u001b[0m\u001b[0m\n",
      "\u001b[0;31mKeyboardInterrupt\u001b[0m: "
     ]
    }
   ],
   "source": [
    "\n",
    "in_size = num_ue**2 + num_ue + 1\n",
    "out_size = num_ue\n",
    "\n",
    "h_sizes = [128, 64, 32, 32, 32, 16, 8]\n",
    "activs = ['elu', 'relu', 'elu', 'relu', 'elu', 'relu',  'elu']\n",
    "\n",
    "k_fold = 2\n",
    "bs = 512\n",
    "num_l = 3 # 1 2 3\n",
    "nepochs = 200\n",
    "learning_rate = 0.001#001\n",
    "\n",
    "init = 'full'\n",
    "rseed= 42\n",
    "loss_which= ['mse','wsee']\n",
    "architecture = USCA_MLP_R # USCA_MLP\n",
    "inner_optim='learned-mlp' \n",
    "\n",
    "mstr = architecture.__name__.replace('_','.')+'+'+inner_optim.replace('-','.')\n",
    "fix='%s_kf+%d_bs+%d_nl+%d_lr+%2e_pinit+%s_loss+%s_rseed+%d'%(\n",
    "    mstr, k_fold, bs, num_l, learning_rate, init, '+'.join(loss_which), rseed)\n",
    "\n",
    "\n",
    "import numpy as np\n",
    "from sklearn.model_selection import StratifiedKFold\n",
    "\n",
    "skf = StratifiedKFold(n_splits=k_fold, shuffle=True, random_state=rseed)\n",
    "tr_loss, va_loss, te_loss = {},{},{}\n",
    "tr_wsee, va_wsee, te_wsee = {},{},{}\n",
    "tr_wsee_opt, va_wsee_opt, te_wsee_opt = {},{},{}\n",
    "\n",
    "# add initial pt (max)\n",
    "X_tr_ = torch.from_numpy(np.hstack((init_p(X_tr[:,-1], num_ue, method=init), X_tr))).float().to(device)\n",
    "X_va_ = torch.from_numpy(np.hstack((init_p(X_va[:,-1], num_ue, method=init), X_va))).float().to(device)\n",
    "\n",
    "for k, (train_index, valid_index) in enumerate(skf.split(X_tr, np.asarray([True]*y_tr.shape[0]))):\n",
    "    # k fold cross validation\n",
    "    \n",
    "    X_train, y_train = X_tr_[train_index], y_tr[train_index]\n",
    "    X_valid, y_valid = X_tr_[valid_index], y_tr[valid_index]\n",
    "    X_test, y_test   = X_va_[valid_index], y_va[valid_index]\n",
    "    \n",
    "#     raise\n",
    "    \n",
    "    print(X_train.shape, X_valid.shape, y_train.shape, y_valid.shape)\n",
    "    \n",
    "    tr_loss[k], va_loss[k], te_loss[k] = [],[],[]\n",
    "    tr_wsee[k], va_wsee[k], te_wsee[k] = [],[],[]\n",
    "    tr_wsee_opt[k] = f_wsee_torch(y_train, X_train, mu, Pc, 'mean').item()\n",
    "    va_wsee_opt[k] = f_wsee_torch(y_valid, X_valid, mu, Pc, 'mean').item()\n",
    "    te_wsee_opt[k] = f_wsee_torch(y_test, X_test, mu, Pc, 'mean').item()\n",
    "    \n",
    "    print('%d-fold: train opt wsee %.6f / val opt wsee %.6f / test opt wsee %.6f'%(\n",
    "            k, tr_wsee_opt[k], va_wsee_opt[k], te_wsee_opt[k]))\n",
    "    \n",
    "    model = architecture(num_l, in_size, out_size, h_sizes, activs=activs, channel_info={'mu':mu, 'Pc':Pc},\n",
    "                     dropout=0, inner_optim=inner_optim).to(device)\n",
    "    opt = torch.optim.Adam(model.parameters(), lr=learning_rate)\n",
    "#     opt = torch.optim.SGD(model.parameters(), lr=learning_rate)\n",
    "    \n",
    "    count_parameters(model)\n",
    "    \n",
    "    for epoch in trange(nepochs, desc='%d-th fold:'%(k+1)):\n",
    "        model.train()\n",
    "        perm_i = np.random.permutation(y_train.shape[0])\n",
    "\n",
    "        running_loss, running_wsee = 0,0\n",
    "        for i in range(len(perm_i)//bs):\n",
    "#             print(i,end='\\r')\n",
    "\n",
    "            i_s, i_e = i*bs, (i+1)*bs\n",
    "\n",
    "            y_true = y_train[i_s:i_e]\n",
    "            x = X_train[i_s:i_e]\n",
    "\n",
    "            y_pred, gamma = model(x)\n",
    "#             print(y_pred)\n",
    "\n",
    "            \n",
    "            mse = torch.mean((y_pred-y_true)**2, dim=0)\n",
    "            wsee = f_wsee_torch(y_pred, x, mu, Pc, 'vector')\n",
    "\n",
    "            loss = 0\n",
    "            if 'mse' in loss_which:\n",
    "                loss += mse\n",
    "            if 'wsee' in loss_which:\n",
    "                loss -= wsee\n",
    "                \n",
    "            opt.zero_grad()\n",
    "            loss.backward(torch.ones(num_ue).to(device)) #vector loss\n",
    "        \n",
    "            torch.nn.utils.clip_grad_norm_(model.parameters(), 1)\n",
    "            opt.step()    \n",
    "\n",
    "            running_loss += torch.mean(mse).item()\n",
    "            running_wsee += torch.mean(wsee).item()\n",
    "\n",
    "#             if not i%100:\n",
    "#                 print('%d:%d/%d'%(epoch,i,y_tr.shape[0]), torch.mean(loss).item())\n",
    "        tr_loss[k].append(running_loss/(i+1))\n",
    "        tr_wsee[k].append(running_wsee/(i+1)*num_ue)\n",
    "\n",
    "        model.eval()\n",
    "        # validation\n",
    "        yp_valid, gamma = model( X_valid )        \n",
    "        vloss = torch.mean((yp_valid-y_valid)**2).item()\n",
    "        vobj = f_wsee_torch(yp_valid, X_valid, mu, Pc, 'mean').item()\n",
    "        va_loss[k].append(vloss) \n",
    "        va_wsee[k].append(vobj) \n",
    "\n",
    "        # test\n",
    "        yp_test, gamma = model( X_test )\n",
    "        tloss = torch.mean((yp_test-y_test)**2).item()\n",
    "        tobj = f_wsee_torch(yp_test, X_test, mu, Pc, 'mean').item()\n",
    "        te_loss[k].append(tloss) \n",
    "        te_wsee[k].append(tobj)      \n",
    "\n",
    "        print('%d: train loss %.6f / val loss %.6f / test loss %.6f'%(\n",
    "            epoch, tr_loss[k][-1], va_loss[k][-1], te_loss[k][-1]))\n",
    "        print('%d: train wsee %.6f / val wsee %.6f / test wsee %.6f'%(\n",
    "            epoch, tr_wsee[k][-1], va_wsee[k][-1], te_wsee[k][-1])) \n",
    "        print()\n",
    "        \n",
    "#     break\n",
    "\n",
    "\n"
   ]
  },
  {
   "cell_type": "code",
   "execution_count": 55,
   "metadata": {},
   "outputs": [],
   "source": [
    "import json\n",
    "\n",
    "list_to_save = ['tr_loss', 'va_loss', 'te_loss', 'tr_wsee', 'va_wsee', 'te_wsee']\n",
    "\n",
    "with open('./results/%s.json'%fix, 'w') as fp:\n",
    "    evals = {'tr_loss':tr_loss, 'va_loss':va_loss, 'te_loss':te_loss, \n",
    "             'tr_wsee':tr_wsee, 'va_wsee':va_wsee, 'te_wsee':te_wsee}\n",
    "    json.dump(evals, fp)\n"
   ]
  },
  {
   "cell_type": "code",
   "execution_count": 56,
   "metadata": {},
   "outputs": [
    {
     "data": {
      "image/png": "[encoded data removed]",
      "text/plain": [
       "<Figure size 1200x600 with 1 Axes>"
      ]
     },
     "metadata": {
      "needs_background": "light"
     },
     "output_type": "display_data"
    }
   ],
   "source": [
    "\n",
    "plt.figure(figsize=(6,3),  dpi=200)\n",
    "\n",
    "for ph, loss in zip([\"train\", \"valid\", \"test\"],[tr_loss, va_loss, te_loss]):\n",
    "\n",
    "    m = np.mean(list(loss.values()),0)\n",
    "    e = np.std(list(loss.values()),0)\n",
    "\n",
    "    plt.plot(range(epoch+1), m, '-', linewidth=1, label='%s loss'%ph)\n",
    "    plt.fill_between(range(epoch+1), m-e, m+e,\n",
    "        alpha=.5, #edgecolor='#3F7F4C', facecolor='#7EFF99',\n",
    "        linewidth=0, label=None)\n",
    "\n",
    "plt.xlabel('epochs')\n",
    "plt.ylabel('mse')\n",
    "plt.legend()\n",
    "\n",
    "plt.yscale('log')\n",
    "# plt.xscale('log')\n",
    "plt.title('Train and validated channels w/o SF, tested w/ SF')\n",
    "\n",
    "plt.show()"
   ]
  },
  {
   "cell_type": "code",
   "execution_count": 150,
   "metadata": {},
   "outputs": [],
   "source": [
    "torch.cuda.empty_cache()"
   ]
  },
  {
   "cell_type": "code",
   "execution_count": 59,
   "metadata": {},
   "outputs": [
    {
     "data": {
      "image/png": "[encoded data removed]",
      "text/plain": [
       "<Figure size 1200x600 with 1 Axes>"
      ]
     },
     "metadata": {
      "needs_background": "light"
     },
     "output_type": "display_data"
    }
   ],
   "source": [
    "colors = plt.rcParams['axes.prop_cycle'].by_key()['color']\n",
    "\n",
    "plt.figure(figsize=(6,3),  dpi=200)\n",
    "\n",
    "for i, (ph, loss) in enumerate(zip([\"train\", \"valid\", \"test\"],[tr_wsee, va_wsee, te_wsee])):\n",
    "\n",
    "#     plt.plot(range(epoch+1), list(loss.values())[1], '-', linewidth=1, label='%s wsee'%ph, color=colors[i])\n",
    "    m = np.mean(list(loss.values()),0)\n",
    "    e = np.std(list(loss.values()),0)\n",
    "\n",
    "    plt.plot(range(epoch+1), m, '-', linewidth=1, label='%s wsee'%ph, color=colors[i])\n",
    "    plt.fill_between(range(epoch+1), m-e, m+e,\n",
    "        alpha=.5, #edgecolor='#3F7F4C', facecolor='#7EFF99',\n",
    "        linewidth=0, label=None)\n",
    "\n",
    "plt.plot([0, epoch], [va_wsee_opt[0]]*2, '--', linewidth=1, label='val/train wsee (opt)',color=colors[1])\n",
    "plt.plot([0, epoch], [te_wsee_opt[0]]*2, '--', linewidth=1, label='test opt wsee (opt)',color=colors[2])\n",
    "\n",
    "\n",
    "\n",
    "plt.xlabel('epochs')\n",
    "plt.ylabel('wsee')\n",
    "# plt.legend()\n",
    "\n",
    "# plt.yscale('log')\n",
    "# plt.xscale('log')\n",
    "plt.title('Train and validated channels w/o SF, tested w/ SF')\n",
    "\n",
    "plt.show()"
   ]
  },
  {
   "cell_type": "code",
   "execution_count": null,
   "metadata": {},
   "outputs": [],
   "source": [
    "y_va, torch.from_numpy(y_va).float()"
   ]
  },
  {
   "cell_type": "code",
   "execution_count": null,
   "metadata": {},
   "outputs": [],
   "source": [
    "Plin, xopt"
   ]
  },
  {
   "cell_type": "code",
   "execution_count": 74,
   "metadata": {
    "scrolled": true
   },
   "outputs": [
    {
     "name": "stdout",
     "output_type": "stream",
     "text": [
      "<HDF5 dataset \"Channels\": shape (1000, 4, 4, 2), type \"<c8\">\n"
     ]
    },
    {
     "ename": "RuntimeError",
     "evalue": "No active exception to reraise",
     "output_type": "error",
     "traceback": [
      "\u001b[0;31m-------------------------------------------------------------------------\u001b[0m",
      "\u001b[0;31mRuntimeError\u001b[0m                            Traceback (most recent call last)",
      "\u001b[0;32m<ipython-input-74-f5c60963894e>\u001b[0m in \u001b[0;36m<module>\u001b[0;34m\u001b[0m\n\u001b[1;32m     11\u001b[0m \u001b[0;32mwith\u001b[0m \u001b[0mh5py\u001b[0m\u001b[0;34m.\u001b[0m\u001b[0mFile\u001b[0m\u001b[0;34m(\u001b[0m\u001b[0mdfn4\u001b[0m\u001b[0;34m,\u001b[0m \u001b[0;34m\"r\"\u001b[0m\u001b[0;34m)\u001b[0m \u001b[0;32mas\u001b[0m \u001b[0mhandle\u001b[0m\u001b[0;34m:\u001b[0m\u001b[0;34m\u001b[0m\u001b[0;34m\u001b[0m\u001b[0m\n\u001b[1;32m     12\u001b[0m     \u001b[0mprint\u001b[0m\u001b[0;34m(\u001b[0m\u001b[0mhandle\u001b[0m\u001b[0;34m[\u001b[0m\u001b[0;34m'input'\u001b[0m\u001b[0;34m]\u001b[0m\u001b[0;34m[\u001b[0m\u001b[0;34m'Channels'\u001b[0m\u001b[0;34m]\u001b[0m\u001b[0;34m)\u001b[0m\u001b[0;34m\u001b[0m\u001b[0;34m\u001b[0m\u001b[0m\n\u001b[0;32m---> 13\u001b[0;31m     \u001b[0;32mraise\u001b[0m\u001b[0;34m\u001b[0m\u001b[0;34m\u001b[0m\u001b[0m\n\u001b[0m\u001b[1;32m     14\u001b[0m     \u001b[0mHs\u001b[0m \u001b[0;34m=\u001b[0m \u001b[0mhandle\u001b[0m\u001b[0;34m[\u001b[0m\u001b[0;34m'input'\u001b[0m\u001b[0;34m]\u001b[0m\u001b[0;34m[\u001b[0m\u001b[0;34m\"channel_to_noise_matched\"\u001b[0m\u001b[0;34m]\u001b[0m\u001b[0;34m\u001b[0m\u001b[0;34m\u001b[0m\u001b[0m\n\u001b[1;32m     15\u001b[0m     \u001b[0mPlin\u001b[0m \u001b[0;34m=\u001b[0m \u001b[0;36m10\u001b[0m\u001b[0;34m**\u001b[0m\u001b[0;34m(\u001b[0m\u001b[0mnp\u001b[0m\u001b[0;34m.\u001b[0m\u001b[0masarray\u001b[0m\u001b[0;34m(\u001b[0m\u001b[0mhandle\u001b[0m\u001b[0;34m[\u001b[0m\u001b[0;34m'input'\u001b[0m\u001b[0;34m]\u001b[0m\u001b[0;34m[\u001b[0m\u001b[0;34m'PdB'\u001b[0m\u001b[0;34m]\u001b[0m\u001b[0;34m[\u001b[0m\u001b[0;34m...\u001b[0m\u001b[0;34m]\u001b[0m\u001b[0;34m,\u001b[0m \u001b[0mdtype\u001b[0m\u001b[0;34m=\u001b[0m\u001b[0mnp\u001b[0m\u001b[0;34m.\u001b[0m\u001b[0mfloat\u001b[0m\u001b[0;34m)\u001b[0m\u001b[0;34m/\u001b[0m\u001b[0;36m10\u001b[0m\u001b[0;34m)\u001b[0m\u001b[0;34m\u001b[0m\u001b[0;34m\u001b[0m\u001b[0m\n",
      "\u001b[0;31mRuntimeError\u001b[0m: No active exception to reraise"
     ]
    }
   ],
   "source": [
    "#--- data---\n",
    "\n",
    "num_ue = 4\n",
    "mu = 4\n",
    "Pc = 1\n",
    "\n",
    "device = torch.device('cuda')\n",
    "\n",
    "\n",
    "dfn4 = '../../data/results_hataUrban.h5'\n",
    "with h5py.File(dfn4, \"r\") as handle:\n",
    "    print(handle['input']['Channels'])\n",
    "    raise\n",
    "    Hs = handle['input'][\"channel_to_noise_matched\"]\n",
    "    Plin = 10**(np.asarray(handle['input']['PdB'][...], dtype=np.float)/10)\n",
    "    xopt = handle['xopt']\n",
    "    print(xopt.shape)\n",
    "    \n",
    "\n",
    "#--- (end)---\n",
    "\n",
    "        \n",
    "print(X_tr.shape, y_tr.shape)\n",
    "print(X_va.shape, y_va.shape)\n"
   ]
  },
  {
   "cell_type": "code",
   "execution_count": 6,
   "metadata": {},
   "outputs": [
    {
     "name": "stdout",
     "output_type": "stream",
     "text": [
      "21 4\n"
     ]
    },
    {
     "data": {
      "application/vnd.jupyter.widget-view+json": {
       "model_id": "0624bbfcb64c473f8ae97dbad967c5c0",
       "version_major": 2,
       "version_minor": 0
      },
      "text/plain": [
       "HBox(children=(FloatProgress(value=0.0, max=25500.0), HTML(value='')))"
      ]
     },
     "metadata": {},
     "output_type": "display_data"
    },
    {
     "name": "stdout",
     "output_type": "stream",
     "text": [
      "\n",
      "7.8270745\n",
      "tensor(7.8270)\n"
     ]
    }
   ],
   "source": [
    "# X_train --> p0, Hs, Pmax; Pc, mu\n",
    "\n",
    "n, d = X_valid.shape\n",
    "nue = np.floor(d**.5).astype(int)\n",
    "print(d, nue)\n",
    "assert nue**2+nue+1 == d\n",
    "\n",
    "p0_valid = X_valid[:, :nue].numpy()\n",
    "hs_valid = X_valid[:, nue:-1].view(-1, nue, nue).numpy()\n",
    "pmax_valid = X_valid[:, -1].numpy()\n",
    "\n",
    "eeval2 = []\n",
    "for ni in trange(n):\n",
    "    p0 = p0_valid[ni]\n",
    "    p = pmax_valid[ni]\n",
    "    h = hs_valid[ni]/p\n",
    "    \n",
    "    y = y_valid[ni].numpy()\n",
    "\n",
    "    eeval2.append(f_wsee(y, h, mu, Pc ))\n",
    "    \n",
    "print(np.mean(eeval2))\n",
    "print(f_wsee_torch(y_valid, X_valid, mu, Pc, 'mean'))"
   ]
  },
  {
   "cell_type": "markdown",
   "metadata": {},
   "source": [
    "## classical SCA"
   ]
  },
  {
   "cell_type": "code",
   "execution_count": 34,
   "metadata": {
    "scrolled": true
   },
   "outputs": [
    {
     "name": "stdout",
     "output_type": "stream",
     "text": [
      "21 4\n"
     ]
    },
    {
     "data": {
      "application/vnd.jupyter.widget-view+json": {
       "model_id": "1772e6c0b79b4a178f1f1c4b3d853267",
       "version_major": 2,
       "version_minor": 0
      },
      "text/plain": [
       "HBox(children=(FloatProgress(value=0.0, max=25500.0), HTML(value='')))"
      ]
     },
     "metadata": {},
     "output_type": "display_data"
    },
    {
     "name": "stdout",
     "output_type": "stream",
     "text": [
      "[[nan nan nan nan]\n",
      " [nan nan nan nan]\n",
      " [nan nan nan nan]\n",
      " [nan nan nan nan]]\n",
      "[nan nan nan nan]\n",
      "\n"
     ]
    },
    {
     "ename": "RuntimeError",
     "evalue": "No active exception to reraise",
     "output_type": "error",
     "traceback": [
      "\u001b[0;31m-------------------------------------------------------------------------\u001b[0m",
      "\u001b[0;31mRuntimeError\u001b[0m                            Traceback (most recent call last)",
      "\u001b[0;32m<ipython-input-34-5fa01fd7556a>\u001b[0m in \u001b[0;36m<module>\u001b[0;34m\u001b[0m\n\u001b[1;32m     31\u001b[0m \u001b[0;34m\u001b[0m\u001b[0m\n\u001b[1;32m     32\u001b[0m     \u001b[0;32mif\u001b[0m \u001b[0mnp\u001b[0m\u001b[0;34m.\u001b[0m\u001b[0misnan\u001b[0m\u001b[0;34m(\u001b[0m\u001b[0mO\u001b[0m\u001b[0;34m[\u001b[0m\u001b[0;34m-\u001b[0m\u001b[0;36m1\u001b[0m\u001b[0;34m]\u001b[0m\u001b[0;34m)\u001b[0m\u001b[0;34m:\u001b[0m\u001b[0;34m\u001b[0m\u001b[0;34m\u001b[0m\u001b[0m\n\u001b[0;32m---> 33\u001b[0;31m         \u001b[0;32mraise\u001b[0m\u001b[0;34m\u001b[0m\u001b[0;34m\u001b[0m\u001b[0m\n\u001b[0m\u001b[1;32m     34\u001b[0m \u001b[0;34m\u001b[0m\u001b[0m\n\u001b[1;32m     35\u001b[0m     \u001b[0meeval\u001b[0m\u001b[0;34m.\u001b[0m\u001b[0mappend\u001b[0m\u001b[0;34m(\u001b[0m\u001b[0mO\u001b[0m\u001b[0;34m[\u001b[0m\u001b[0;34m-\u001b[0m\u001b[0;36m1\u001b[0m\u001b[0;34m]\u001b[0m\u001b[0;34m)\u001b[0m\u001b[0;34m\u001b[0m\u001b[0;34m\u001b[0m\u001b[0m\n",
      "\u001b[0;31mRuntimeError\u001b[0m: No active exception to reraise"
     ]
    }
   ],
   "source": [
    "from copy import deepcopy\n",
    "\n",
    "n, d = X_valid.shape\n",
    "nue = np.floor(d**.5).astype(int)\n",
    "print(d, nue)\n",
    "assert nue**2+nue+1 == d\n",
    "\n",
    "xx = deepcopy(X_valid)\n",
    "\n",
    "p0_valid = xx[:, :nue].numpy()\n",
    "hs_valid = xx[:, nue:-1].view(-1, nue, nue).numpy()\n",
    "pmax_valid = xx[:, -1].numpy()\n",
    "\n",
    "eeval = []\n",
    "for ni in trange(n):\n",
    "    if 1:#not ni or pmax_valid[ni-1] > pmax_valid[ni]:\n",
    "        p0 = p0_valid[ni]\n",
    "    else:\n",
    "        p0 = P[-1]\n",
    "    p = pmax_valid[ni]\n",
    "    h = hs_valid[ni]/p\n",
    "    \n",
    "    O, P = SCA(h, mu = mu, Pc = Pc, Pmax = p, pt = p0, \n",
    "               SolverMaxIter = 100, MaxIter = 100, \n",
    "               parm_alpha = 1e-8, parm_beta = 0.01, \n",
    "               RelTolFun = 1e-12, RelTolVal = 1e-12,\n",
    "               InnerOpt='sgd')\n",
    "    if np.isnan(O[-1]):\n",
    "        P[-1] = p0_valid[ni]\n",
    "        O[-1] = f_wsee(P[-1], h, mu, Pc)\n",
    "        \n",
    "    if np.isnan(O[-1]):\n",
    "        raise\n",
    "        \n",
    "    eeval.append(O[-1])\n",
    "#     print(O[-1], P[-1])"
   ]
  },
  {
   "cell_type": "code",
   "execution_count": 35,
   "metadata": {},
   "outputs": [
    {
     "data": {
      "text/plain": [
       "5.611654"
      ]
     },
     "execution_count": 35,
     "metadata": {},
     "output_type": "execute_result"
    }
   ],
   "source": [
    "np.nanmean(eeval)"
   ]
  },
  {
   "cell_type": "code",
   "execution_count": 33,
   "metadata": {},
   "outputs": [
    {
     "data": {
      "text/plain": [
       "0"
      ]
     },
     "execution_count": 33,
     "metadata": {},
     "output_type": "execute_result"
    }
   ],
   "source": [
    "np.isnan(eeval).sum()"
   ]
  },
  {
   "cell_type": "code",
   "execution_count": 22,
   "metadata": {},
   "outputs": [
    {
     "data": {
      "application/vnd.jupyter.widget-view+json": {
       "model_id": "4157083a45604e169fb7663e8783107e",
       "version_major": 2,
       "version_minor": 0
      },
      "text/plain": [
       "HBox(children=(FloatProgress(value=0.0, max=1.0), HTML(value='')))"
      ]
     },
     "metadata": {},
     "output_type": "display_data"
    },
    {
     "data": {
      "application/vnd.jupyter.widget-view+json": {
       "model_id": "64f6b1f5466f48fbbfef2de4a290e856",
       "version_major": 2,
       "version_minor": 0
      },
      "text/plain": [
       "HBox(children=(FloatProgress(value=0.0, description='6', max=51.0, style=ProgressStyle(description_width='init…"
      ]
     },
     "metadata": {},
     "output_type": "display_data"
    },
    {
     "name": "stdout",
     "output_type": "stream",
     "text": [
      "LAST init is best! ; objective ee = 6.262806407694444 ; #outer iters = 3 ; pt = [0.001 0.001 0.001 0.001] ; Pmax = 0.001\n",
      "LAST init is best! ; objective ee = 6.605945633230211 ; #outer iters = 3 ; pt = [0.00125893 0.00125893 0.00125893 0.00125893] ; Pmax = 0.0012589254117941675\n",
      "LAST init is best! ; objective ee = 6.9611462015690035 ; #outer iters = 3 ; pt = [0.00158489 0.00158489 0.00158489 0.00158489] ; Pmax = 0.001584893192461114\n",
      "LAST init is best! ; objective ee = 7.327483956831625 ; #outer iters = 3 ; pt = [0.00199526 0.00199526 0.00199526 0.00199526] ; Pmax = 0.001995262314968879\n",
      "LAST init is best! ; objective ee = 7.703539293687565 ; #outer iters = 3 ; pt = [0.00251189 0.00251189 0.00251189 0.00251189] ; Pmax = 0.0025118864315095794\n",
      "LAST init is best! ; objective ee = 8.087388069331169 ; #outer iters = 3 ; pt = [0.00316228 0.00316228 0.00316228 0.00316228] ; Pmax = 0.0031622776601683794\n",
      "LAST init is best! ; objective ee = 8.476586419303965 ; #outer iters = 3 ; pt = [0.00398107 0.00398107 0.00398107 0.00398107] ; Pmax = 0.003981071705534973\n",
      "LAST init is best! ; objective ee = 8.868128970569838 ; #outer iters = 3 ; pt = [0.00501187 0.00501187 0.00501187 0.00501187] ; Pmax = 0.005011872336272725\n",
      "LAST init is best! ; objective ee = 9.258365131195658 ; #outer iters = 3 ; pt = [0.00630957 0.00630957 0.00630957 0.00630957] ; Pmax = 0.00630957344480193\n",
      "LAST init is best! ; objective ee = 9.642866084972766 ; #outer iters = 3 ; pt = [0.00794328 0.00794328 0.00794328 0.00794328] ; Pmax = 0.007943282347242814\n",
      "LAST init is best! ; objective ee = 10.016240169987823 ; #outer iters = 3 ; pt = [0.01 0.01 0.01 0.01] ; Pmax = 0.01\n",
      "LAST init is best! ; objective ee = 10.371907529974592 ; #outer iters = 3 ; pt = [0.01258925 0.01258925 0.01258925 0.01258925] ; Pmax = 0.012589254117941675\n",
      "LAST init is best! ; objective ee = 10.701862824451817 ; #outer iters = 3 ; pt = [0.01584893 0.01584893 0.01584893 0.01584893] ; Pmax = 0.015848931924611134\n",
      "LAST init is best! ; objective ee = 10.996469355938153 ; #outer iters = 3 ; pt = [0.01995262 0.01995262 0.01995262 0.01995262] ; Pmax = 0.0199526231496888\n",
      "LAST init is best! ; objective ee = 11.244352640536862 ; #outer iters = 3 ; pt = [0.02511887 0.02511887 0.02511887 0.02511887] ; Pmax = 0.025118864315095794\n",
      "LAST init is best! ; objective ee = 11.43247889857985 ; #outer iters = 3 ; pt = [0.03162277 0.03162277 0.03162277 0.03162277] ; Pmax = 0.03162277660168379\n",
      "LAST init is best! ; objective ee = 11.546519981838273 ; #outer iters = 3 ; pt = [0.03981072 0.03981072 0.03981072 0.03981072] ; Pmax = 0.039810717055349734\n",
      "LAST init is best! ; objective ee = 11.571594898892101 ; #outer iters = 3 ; pt = [0.05011872 0.05011872 0.05011872 0.05011872] ; Pmax = 0.05011872336272722\n",
      "LAST init is best! ; objective ee = 11.571594898892132 ; #outer iters = 2 ; pt = [0.05011872 0.05011872 0.05011872 0.05011872] ; Pmax = 0.06309573444801933\n",
      "LAST init is best! ; objective ee = 11.571594898892203 ; #outer iters = 2 ; pt = [0.05011872 0.05011872 0.05011872 0.05011872] ; Pmax = 0.07943282347242814\n",
      "LAST init is best! ; objective ee = 11.571594898892322 ; #outer iters = 2 ; pt = [0.05011872 0.05011872 0.05011872 0.05011872] ; Pmax = 0.1\n",
      "LAST init is best! ; objective ee = 11.75351504795577 ; #outer iters = 69 ; pt = [0.07874004 0.04090031 0.07874004 0.07874004] ; Pmax = 0.12589254117941673\n",
      "LAST init is best! ; objective ee = 11.767917064410954 ; #outer iters = 86 ; pt = [0.08805741 0.03612179 0.08805741 0.08805741] ; Pmax = 0.15848931924611134\n",
      "LAST init is best! ; objective ee = 11.767917064410957 ; #outer iters = 2 ; pt = [0.08805741 0.03612179 0.08805741 0.08805741] ; Pmax = 0.19952623149688797\n",
      "LAST init is best! ; objective ee = 11.76791706441096 ; #outer iters = 2 ; pt = [0.08805741 0.03612179 0.08805741 0.08805741] ; Pmax = 0.251188643150958\n",
      "LAST init is best! ; objective ee = 11.846860445431712 ; #outer iters = 33 ; pt = [0.13165654 0.02921959 0.13165654 0.07997422] ; Pmax = 0.31622776601683794\n",
      "LAST init is best! ; objective ee = 11.84972903597728 ; #outer iters = 6 ; pt = [0.14215576 0.02806822 0.14215576 0.07682292] ; Pmax = 0.3981071705534972\n",
      "LAST init is best! ; objective ee = 11.84972903597728 ; #outer iters = 2 ; pt = [0.14215576 0.02806822 0.14215576 0.07682292] ; Pmax = 0.5011872336272722\n",
      "LAST init is best! ; objective ee = 11.84974209814058 ; #outer iters = 21 ; pt = [0.14285634 0.02801494 0.14308365 0.07667709] ; Pmax = 0.6309573444801932\n",
      "LAST init is best! ; objective ee = 11.850611606756244 ; #outer iters = 75 ; pt = [0.14783823 0.02763683 0.15187324 0.07564221] ; Pmax = 0.7943282347242815\n",
      "LAST init is best! ; objective ee = 11.850611606756365 ; #outer iters = 2 ; pt = [0.14783823 0.02763683 0.15187324 0.07564221] ; Pmax = 1.0\n",
      "LAST init is best! ; objective ee = 11.850611606756384 ; #outer iters = 2 ; pt = [0.14783823 0.02763683 0.15187324 0.07564221] ; Pmax = 1.2589254117941673\n",
      "LAST init is best! ; objective ee = 11.853554107854107 ; #outer iters = 4 ; pt = [0.15517318 0.02708686 0.17380089 0.07413693] ; Pmax = 1.5848931924611136\n",
      "LAST init is best! ; objective ee = 11.853554107854107 ; #outer iters = 2 ; pt = [0.15517318 0.02708686 0.17380089 0.07413693] ; Pmax = 1.9952623149688795\n",
      "LAST init is best! ; objective ee = 11.853554107854123 ; #outer iters = 2 ; pt = [0.15517318 0.02708686 0.17380089 0.07413693] ; Pmax = 2.51188643150958\n",
      "LAST init is best! ; objective ee = 11.853554107854123 ; #outer iters = 2 ; pt = [0.15517318 0.02708686 0.17380089 0.07413693] ; Pmax = 3.1622776601683795\n",
      "LAST init is best! ; objective ee = 11.853554107854123 ; #outer iters = 2 ; pt = [0.15517318 0.02708686 0.17380089 0.07413693] ; Pmax = 3.9810717055349722\n",
      "LAST init is best! ; objective ee = 11.853554107854123 ; #outer iters = 2 ; pt = [0.15517318 0.02708686 0.17380089 0.07413693] ; Pmax = 5.011872336272722\n",
      "LAST init is best! ; objective ee = 11.853573897963207 ; #outer iters = 3 ; pt = [0.15520954 0.02742653 0.17390478 0.07464265] ; Pmax = 6.309573444801933\n",
      "LAST init is best! ; objective ee = 11.853595690146825 ; #outer iters = 63 ; pt = [0.15522237 0.02760368 0.17394142 0.07487837] ; Pmax = 7.943282347242816\n",
      "LAST init is best! ; objective ee = 11.854222654769623 ; #outer iters = 5 ; pt = [0.15525948 0.02862087 0.17404736 0.0757691 ] ; Pmax = 10.0\n",
      "LAST init is best! ; objective ee = 11.854222654769623 ; #outer iters = 2 ; pt = [0.15525948 0.02862087 0.17404736 0.0757691 ] ; Pmax = 12.589254117941675\n",
      "LAST init is best! ; objective ee = 11.854222654769623 ; #outer iters = 2 ; pt = [0.15525948 0.02862087 0.17404736 0.0757691 ] ; Pmax = 15.848931924611133\n",
      "LAST init is best! ; objective ee = 11.854222654769623 ; #outer iters = 2 ; pt = [0.15525948 0.02862087 0.17404736 0.0757691 ] ; Pmax = 19.952623149688797\n",
      "LAST init is best! ; objective ee = 11.854222654769623 ; #outer iters = 2 ; pt = [0.15525948 0.02862087 0.17404736 0.0757691 ] ; Pmax = 25.118864315095795\n",
      "LAST init is best! ; objective ee = 11.854222654769625 ; #outer iters = 2 ; pt = [0.15525948 0.02862087 0.17404736 0.0757691 ] ; Pmax = 31.622776601683793\n",
      "LAST init is best! ; objective ee = 11.854222654769625 ; #outer iters = 2 ; pt = [0.15525948 0.02862087 0.17404736 0.0757691 ] ; Pmax = 39.810717055349734\n",
      "LAST init is best! ; objective ee = 11.854222654769625 ; #outer iters = 2 ; pt = [0.15525948 0.02862087 0.17404736 0.0757691 ] ; Pmax = 50.11872336272722\n",
      "LAST init is best! ; objective ee = 11.854222654769625 ; #outer iters = 2 ; pt = [0.15525948 0.02862087 0.17404736 0.0757691 ] ; Pmax = 63.09573444801933\n",
      "LAST init is best! ; objective ee = 11.854222654769625 ; #outer iters = 2 ; pt = [0.15525948 0.02862087 0.17404736 0.0757691 ] ; Pmax = 79.43282347242814\n",
      "LAST init is best! ; objective ee = 11.854222654769625 ; #outer iters = 2 ; pt = [0.15525948 0.02862087 0.17404736 0.0757691 ] ; Pmax = 100.0\n",
      "\n",
      "\n",
      "last\n",
      "#iters: 9.12 (+- 19.49 )\n",
      "#eeval: 10.92 (+- 1.60 )\n",
      "\n",
      "full\n",
      "#iters: 1.00 (+- 0.00 )\n",
      "#eeval: nan (+- nan )\n",
      "\n"
     ]
    },
    {
     "name": "stderr",
     "output_type": "stream",
     "text": [
      "/opt/conda/lib/python3.7/site-packages/numpy/core/fromnumeric.py:3335: RuntimeWarning: Mean of empty slice.\n",
      "  out=out, **kwargs)\n",
      "/opt/conda/lib/python3.7/site-packages/numpy/core/_methods.py:161: RuntimeWarning: invalid value encountered in double_scalars\n",
      "  ret = ret.dtype.type(ret / rcount)\n",
      "/opt/conda/lib/python3.7/site-packages/numpy/core/_methods.py:217: RuntimeWarning: Degrees of freedom <= 0 for slice\n",
      "  keepdims=keepdims)\n",
      "/opt/conda/lib/python3.7/site-packages/numpy/core/_methods.py:186: RuntimeWarning: invalid value encountered in true_divide\n",
      "  arrmean, rcount, out=arrmean, casting='unsafe', subok=False)\n",
      "/opt/conda/lib/python3.7/site-packages/numpy/core/_methods.py:209: RuntimeWarning: invalid value encountered in double_scalars\n",
      "  ret = ret.dtype.type(ret / rcount)\n"
     ]
    },
    {
     "data": {
      "application/vnd.jupyter.widget-view+json": {
       "model_id": "8b62aa0e62a943de9303c259cb4e909e",
       "version_major": 2,
       "version_minor": 0
      },
      "text/plain": [
       "HBox(children=(FloatProgress(value=0.0, max=1.0), HTML(value='')))"
      ]
     },
     "metadata": {},
     "output_type": "display_data"
    },
    {
     "data": {
      "application/vnd.jupyter.widget-view+json": {
       "model_id": "f28013ad38a74a608f28c028e01bdb40",
       "version_major": 2,
       "version_minor": 0
      },
      "text/plain": [
       "HBox(children=(FloatProgress(value=0.0, description='6', max=51.0, style=ProgressStyle(description_width='init…"
      ]
     },
     "metadata": {},
     "output_type": "display_data"
    },
    {
     "name": "stderr",
     "output_type": "stream",
     "text": [
      "/opt/conda/lib/python3.7/site-packages/cvxpy/problems/problem.py:1055: UserWarning: Solution may be inaccurate. Try another solver, adjusting the solver settings, or solve with verbose=True for more information.\n",
      "  \"Solution may be inaccurate. Try another solver, \"\n"
     ]
    },
    {
     "name": "stdout",
     "output_type": "stream",
     "text": [
      "LAST init is best! ; objective ee = -inf ; #outer iters = 1 ; pt = [0.001 0.001 0.001 0.001] ; Pmax = 0.001\n",
      "LAST init is best! ; objective ee = -inf ; #outer iters = 1 ; pt = [0.00125893 0.00125893 0.00125893 0.00125893] ; Pmax = 0.0012589254117941675\n",
      "LAST init is best! ; objective ee = -inf ; #outer iters = 1 ; pt = [0.00158489 0.00158489 0.00158489 0.00158489] ; Pmax = 0.001584893192461114\n",
      "LAST init is best! ; objective ee = -inf ; #outer iters = 1 ; pt = [0.00199526 0.00199526 0.00199526 0.00199526] ; Pmax = 0.001995262314968879\n",
      "LAST init is best! ; objective ee = -inf ; #outer iters = 1 ; pt = [0.00251189 0.00251189 0.00251189 0.00251189] ; Pmax = 0.0025118864315095794\n",
      "LAST init is best! ; objective ee = -inf ; #outer iters = 1 ; pt = [0.00316228 0.00316228 0.00316228 0.00316228] ; Pmax = 0.0031622776601683794\n",
      "LAST init is best! ; objective ee = -inf ; #outer iters = 1 ; pt = [0.00398107 0.00398107 0.00398107 0.00398107] ; Pmax = 0.003981071705534973\n",
      "LAST init is best! ; objective ee = -inf ; #outer iters = 1 ; pt = [0.00501187 0.00501187 0.00501187 0.00501187] ; Pmax = 0.005011872336272725\n",
      "LAST init is best! ; objective ee = -inf ; #outer iters = 1 ; pt = [0.00630957 0.00630957 0.00630957 0.00630957] ; Pmax = 0.00630957344480193\n",
      "LAST init is best! ; objective ee = -inf ; #outer iters = 1 ; pt = [0.00794328 0.00794328 0.00794328 0.00794328] ; Pmax = 0.007943282347242814\n",
      "LAST init is best! ; objective ee = -inf ; #outer iters = 1 ; pt = [0.01 0.01 0.01 0.01] ; Pmax = 0.01\n",
      "LAST init is best! ; objective ee = -inf ; #outer iters = 1 ; pt = [0.01258925 0.01258925 0.01258925 0.01258925] ; Pmax = 0.012589254117941675\n",
      "LAST init is best! ; objective ee = -inf ; #outer iters = 1 ; pt = [0.01584893 0.01584893 0.01584893 0.01584893] ; Pmax = 0.015848931924611134\n",
      "LAST init is best! ; objective ee = -inf ; #outer iters = 1 ; pt = [0.01995262 0.01995262 0.01995262 0.01995262] ; Pmax = 0.0199526231496888\n",
      "LAST init is best! ; objective ee = -inf ; #outer iters = 1 ; pt = [0.02511886 0.02511886 0.02511886 0.02511886] ; Pmax = 0.025118864315095794\n",
      "LAST init is best! ; objective ee = -inf ; #outer iters = 1 ; pt = [0.03162278 0.03162278 0.03162278 0.03162278] ; Pmax = 0.03162277660168379\n",
      "LAST init is best! ; objective ee = -inf ; #outer iters = 1 ; pt = [0.03981072 0.03981072 0.03981072 0.03981072] ; Pmax = 0.039810717055349734\n",
      "LAST init is best! ; objective ee = -inf ; #outer iters = 1 ; pt = [0.05011872 0.05011872 0.05011872 0.05011872] ; Pmax = 0.05011872336272722\n",
      "LAST init is best! ; objective ee = -inf ; #outer iters = 1 ; pt = [0.06309573 0.06309573 0.06309573 0.06309573] ; Pmax = 0.06309573444801933\n",
      "LAST init is best! ; objective ee = -inf ; #outer iters = 1 ; pt = [0.07943282 0.07943282 0.07943282 0.07943282] ; Pmax = 0.07943282347242814\n",
      "LAST init is best! ; objective ee = -inf ; #outer iters = 1 ; pt = [0.1 0.1 0.1 0.1] ; Pmax = 0.1\n",
      "LAST init is best! ; objective ee = -inf ; #outer iters = 1 ; pt = [0.12589254 0.12589254 0.12589254 0.12589254] ; Pmax = 0.12589254117941673\n",
      "LAST init is best! ; objective ee = -inf ; #outer iters = 1 ; pt = [0.15848932 0.15848932 0.15848932 0.15848932] ; Pmax = 0.15848931924611134\n",
      "LAST init is best! ; objective ee = -inf ; #outer iters = 1 ; pt = [0.19952623 0.19952623 0.19952623 0.19952623] ; Pmax = 0.19952623149688797\n",
      "LAST init is best! ; objective ee = -inf ; #outer iters = 1 ; pt = [0.25118864 0.25118864 0.25118864 0.25118864] ; Pmax = 0.251188643150958\n",
      "LAST init is best! ; objective ee = -inf ; #outer iters = 1 ; pt = [0.31622777 0.31622777 0.31622777 0.31622777] ; Pmax = 0.31622776601683794\n",
      "LAST init is best! ; objective ee = -inf ; #outer iters = 1 ; pt = [0.39810717 0.39810717 0.39810717 0.39810717] ; Pmax = 0.3981071705534972\n",
      "LAST init is best! ; objective ee = -inf ; #outer iters = 1 ; pt = [0.50118723 0.50118723 0.50118723 0.50118723] ; Pmax = 0.5011872336272722\n",
      "LAST init is best! ; objective ee = -inf ; #outer iters = 1 ; pt = [0.63095734 0.63095734 0.63095734 0.63095734] ; Pmax = 0.6309573444801932\n",
      "LAST init is best! ; objective ee = -inf ; #outer iters = 1 ; pt = [0.79432823 0.79432823 0.79432823 0.79432823] ; Pmax = 0.7943282347242815\n",
      "LAST init is best! ; objective ee = -inf ; #outer iters = 1 ; pt = [1. 1. 1. 1.] ; Pmax = 1.0\n",
      "LAST init is best! ; objective ee = -inf ; #outer iters = 1 ; pt = [1.25892541 1.25892541 1.25892541 1.25892541] ; Pmax = 1.2589254117941673\n",
      "LAST init is best! ; objective ee = -inf ; #outer iters = 1 ; pt = [1.58489319 1.58489319 1.58489319 1.58489319] ; Pmax = 1.5848931924611136\n",
      "LAST init is best! ; objective ee = -inf ; #outer iters = 1 ; pt = [1.99526231 1.99526231 1.99526231 1.99526231] ; Pmax = 1.9952623149688795\n",
      "LAST init is best! ; objective ee = -inf ; #outer iters = 1 ; pt = [2.51188643 2.51188643 2.51188643 2.51188643] ; Pmax = 2.51188643150958\n",
      "LAST init is best! ; objective ee = -inf ; #outer iters = 1 ; pt = [3.16227766 3.16227766 3.16227766 3.16227766] ; Pmax = 3.1622776601683795\n",
      "LAST init is best! ; objective ee = -inf ; #outer iters = 1 ; pt = [3.98107171 3.98107171 3.98107171 3.98107171] ; Pmax = 3.9810717055349722\n",
      "LAST init is best! ; objective ee = -inf ; #outer iters = 1 ; pt = [5.01187234 5.01187234 5.01187234 5.01187234] ; Pmax = 5.011872336272722\n",
      "LAST init is best! ; objective ee = -inf ; #outer iters = 1 ; pt = [6.30957344 6.30957344 6.30957344 6.30957344] ; Pmax = 6.309573444801933\n",
      "LAST init is best! ; objective ee = -inf ; #outer iters = 1 ; pt = [7.94328235 7.94328235 7.94328235 7.94328235] ; Pmax = 7.943282347242816\n",
      "LAST init is best! ; objective ee = -inf ; #outer iters = 1 ; pt = [10. 10. 10. 10.] ; Pmax = 10.0\n",
      "LAST init is best! ; objective ee = -inf ; #outer iters = 1 ; pt = [12.58925412 12.58925412 12.58925412 12.58925412] ; Pmax = 12.589254117941675\n",
      "LAST init is best! ; objective ee = -inf ; #outer iters = 1 ; pt = [15.84893192 15.84893192 15.84893192 15.84893192] ; Pmax = 15.848931924611133\n",
      "LAST init is best! ; objective ee = -inf ; #outer iters = 1 ; pt = [19.95262315 19.95262315 19.95262315 19.95262315] ; Pmax = 19.952623149688797\n",
      "LAST init is best! ; objective ee = -inf ; #outer iters = 1 ; pt = [25.11886432 25.11886432 25.11886432 25.11886432] ; Pmax = 25.118864315095795\n",
      "LAST init is best! ; objective ee = -inf ; #outer iters = 1 ; pt = [31.6227766 31.6227766 31.6227766 31.6227766] ; Pmax = 31.622776601683793\n",
      "LAST init is best! ; objective ee = -inf ; #outer iters = 1 ; pt = [39.81071706 39.81071706 39.81071706 39.81071706] ; Pmax = 39.810717055349734\n",
      "LAST init is best! ; objective ee = -inf ; #outer iters = 1 ; pt = [50.11872336 50.11872336 50.11872336 50.11872336] ; Pmax = 50.11872336272722\n",
      "LAST init is best! ; objective ee = -inf ; #outer iters = 1 ; pt = [63.09573445 63.09573445 63.09573445 63.09573445] ; Pmax = 63.09573444801933\n",
      "LAST init is best! ; objective ee = -inf ; #outer iters = 1 ; pt = [79.43282347 79.43282347 79.43282347 79.43282347] ; Pmax = 79.43282347242814\n",
      "LAST init is best! ; objective ee = -inf ; #outer iters = 1 ; pt = [100. 100. 100. 100.] ; Pmax = 100.0\n",
      "\n",
      "\n",
      "last\n",
      "#iters: 1.00 (+- 0.00 )\n",
      "#eeval: nan (+- nan )\n",
      "\n",
      "full\n",
      "#iters: 1.00 (+- 0.00 )\n",
      "#eeval: nan (+- nan )\n",
      "\n"
     ]
    }
   ],
   "source": [
    "\n",
    "num_ue = 4\n",
    "mu = 4\n",
    "Pc = 1\n",
    "\n",
    "INITS = ['last','full']#,'rand']\n",
    "OPTIM = ['sgd', 'cvx']\n",
    "\n",
    "INNER_MAXIT = [6]#, 2, 5, 10, 15, 20, 35, 50, 100, 150, 200]\n",
    "# outer_maxit = [1, 2, 5, 10, 20, 50, 150]\n",
    "\n",
    "log_outiters = dict(zip(INITS,[[] for _ in INITS]))\n",
    "log_all = dict(zip(OPTIM,[[] for _ in OPTIM]))\n",
    "\n",
    "for opt in OPTIM:\n",
    "    \n",
    "    for im in INNER_MAXIT:\n",
    "\n",
    "        log_monitor = {\n",
    "            'objective':dict(zip(INITS,[[] for _ in INITS])),\n",
    "            'pwr_alloc':dict(zip(INITS,[[] for _ in INITS]))\n",
    "        }\n",
    "\n",
    "\n",
    "        dfn1 = '../../data/wsee%d-processed.h5'%num_ue\n",
    "        with h5py.File(dfn1, \"r\") as f:\n",
    "            PdB = f['input']['PdB'][...] # this is fixed\n",
    "\n",
    "        assert np.allclose(PdB, np.array(range(-30,20+1,1)))\n",
    "        Plin = 10**(np.asarray(PdB/10))\n",
    "\n",
    "        dfn2 = '../../data_my/channels-%d.h5'%num_ue\n",
    "    #     dfn2 = '../../data_my/channels-HataSuburban-%d.h5'%num_ue\n",
    "        with h5py.File(dfn2, \"r\") as f:\n",
    "            # Get the data\n",
    "            data = {k:{kk: v[:] for kk,v in f[k].items()} for k in f.keys()}\n",
    "\n",
    "            Hs = data['input']['channel_to_noise_matched']\n",
    "\n",
    "            for hidx in tqdm([456]):#trange(Hs.shape[0]):#tqdm(np.random.permutation(Hs.shape[0])):\n",
    "\n",
    "                h = Hs[hidx]\n",
    "                pt = None\n",
    "\n",
    "                p_perm = list(range(len(Plin)))#\n",
    "                for pidx in tqdm(p_perm, desc=str(im)):\n",
    "\n",
    "                    p = Plin[pidx]\n",
    "\n",
    "                    O = dict(zip(INITS,[[] for _ in INITS]))\n",
    "                    P = dict(zip(INITS,[[] for _ in INITS]))\n",
    "                    \n",
    "                    for istr in INITS: #['last','full']\n",
    "                        if istr == 'last' and pt is not None:\n",
    "                            p0 = pt\n",
    "                        elif istr == 'full' or pt is None:\n",
    "                            p0 = np.full(num_ue, p)\n",
    "                        else:\n",
    "                            raise NotImplemented\n",
    "                            \n",
    "                        try:\n",
    "                            assert istr == 'last' # dont do full \n",
    "                            O[istr], P[istr] = SCA(h, mu, Pc, Pmax = p, pt = p0, \n",
    "                                                    SolverMaxIter=im, MaxIter = 1000, \n",
    "                                                    parm_alpha = 1e-8, parm_beta = 0.01, \n",
    "                                                    RelTolFun = 1e-12, RelTolVal = 1e-12, \n",
    "                                                    InnerOpt=opt)\n",
    "                        except:\n",
    "                            O[istr], P[istr] = [-np.inf], [np.full(num_ue, p)]\n",
    "                            \n",
    "                    # best init\n",
    "                    bstr = max(O, key=lambda key: O[key][-1]) \n",
    "                    pt = P[bstr][-1]\n",
    "\n",
    "                    print('%s init is best!'%bstr.upper(), \n",
    "                          '; objective ee =', O[bstr][-1], \n",
    "                          '; #outer iters =', len(O[bstr]),\n",
    "                          '; pt =', pt, '; Pmax =', p)\n",
    "\n",
    "                    [log_monitor['objective'][k].append(v) for k,v in O.items()]\n",
    "                    [log_monitor['pwr_alloc'][k].append(v) for k,v in P.items()]\n",
    "\n",
    "                break\n",
    "\n",
    "            lens = {}\n",
    "            for k,v in log_monitor['objective'].items():\n",
    "                lens[k] = np.array([len(vv) for vv in v])\n",
    "\n",
    "            eeval = {}\n",
    "            for k,v in log_monitor['objective'].items():\n",
    "                eeval[k] = np.array([vv[-1] for vv in v])\n",
    "\n",
    "            for k,v in log_monitor['objective'].items():\n",
    "                length = [len(vv) for vv in v]\n",
    "                ee = eeval[k][eeval[k]>=0]\n",
    "\n",
    "                print(k)\n",
    "                print('#iters: %.2f'%np.mean(length), \"(+- %.2f\"%np.std(length), \")\")\n",
    "                print('#eeval: %.2f'%np.mean(ee), \"(+- %.2f\"%np.std(ee), \")\")\n",
    "                print()\n",
    "                log_outiters[k].append(length)\n",
    "                \n",
    "    log_all[opt] = deepcopy(log_monitor)\n"
   ]
  },
  {
   "cell_type": "code",
   "execution_count": null,
   "metadata": {
    "scrolled": true
   },
   "outputs": [],
   "source": [
    "\n",
    "num_ue = 7\n",
    "mu = 4\n",
    "Pc = 1\n",
    "\n",
    "INITS = ['last','full']#,'rand']\n",
    "OPTIM = ['sgd', 'cvx']\n",
    "\n",
    "INNER_MAXIT = [6]#, 2, 5, 10, 15, 20, 35, 50, 100, 150, 200]\n",
    "# outer_maxit = [1, 2, 5, 10, 20, 50, 150]\n",
    "\n",
    "log_outiters = dict(zip(INITS,[[] for _ in INITS]))\n",
    "log_all = dict(zip(OPTIM,[[] for _ in OPTIM]))\n",
    "\n",
    "for opt in OPTIM:\n",
    "    \n",
    "    for im in INNER_MAXIT:\n",
    "\n",
    "        log_monitor = {\n",
    "            'objective':dict(zip(INITS,[[] for _ in INITS])),\n",
    "            'pwr_alloc':dict(zip(INITS,[[] for _ in INITS]))\n",
    "        }\n",
    "\n",
    "\n",
    "        dfn1 = '../../data/wsee%d-processed.h5'%num_ue\n",
    "        with h5py.File(dfn1, \"r\") as f:\n",
    "            PdB = f['input']['PdB'][...] # this is fixed\n",
    "\n",
    "        assert np.allclose(PdB, np.array(range(-30,20+1,1)))\n",
    "        Plin = 10**(np.asarray(PdB/10))\n",
    "\n",
    "        dfn2 = '../../data_my/channels-%d.h5'%num_ue\n",
    "    #     dfn2 = '../../data_my/channels-HataSuburban-%d.h5'%num_ue\n",
    "        with h5py.File(dfn2, \"r\") as f:\n",
    "            # Get the data\n",
    "            data = {k:{kk: v[:] for kk,v in f[k].items()} for k in f.keys()}\n",
    "\n",
    "            Hs = data['input']['channel_to_noise_matched']\n",
    "\n",
    "            for hidx in tqdm([456]):#trange(Hs.shape[0]):#tqdm(np.random.permutation(Hs.shape[0])):\n",
    "\n",
    "                h = Hs[hidx]\n",
    "                pt = None\n",
    "\n",
    "                p_perm = list(range(len(Plin)))#\n",
    "                for pidx in tqdm(p_perm, desc=str(im)):\n",
    "\n",
    "                    p = Plin[pidx]\n",
    "\n",
    "                    O = dict(zip(INITS,[[] for _ in INITS]))\n",
    "                    P = dict(zip(INITS,[[] for _ in INITS]))\n",
    "                    \n",
    "                    for istr in INITS: #['last','full']\n",
    "                        if istr == 'last' and pt is not None:\n",
    "                            p0 = pt\n",
    "                        elif istr == 'full' or pt is None:\n",
    "                            p0 = np.full(num_ue, p)\n",
    "                        else:\n",
    "                            raise NotImplemented\n",
    "                            \n",
    "                        try:\n",
    "                            assert istr == 'last' # dont do full \n",
    "                            O[istr], P[istr] = SCA(h, mu, Pc, Pmax = p, pt = p0, \n",
    "                                                    SolverMaxIter=im, MaxIter = 1000, \n",
    "                                                    parm_alpha = 1e-8, parm_beta = 0.01, \n",
    "                                                    RelTolFun = 1e-12, RelTolVal = 1e-12, \n",
    "                                                    InnerOpt=opt)\n",
    "                        except:\n",
    "                            O[istr], P[istr] = [-np.inf], [np.full(num_ue, p)]\n",
    "                            \n",
    "                    # best init\n",
    "                    bstr = max(O, key=lambda key: O[key][-1]) \n",
    "                    pt = P[bstr][-1]\n",
    "\n",
    "                    print('%s init is best!'%bstr.upper(), \n",
    "                          '; objective ee =', O[bstr][-1], \n",
    "                          '; #outer iters =', len(O[bstr]),\n",
    "                          '; pt =', pt, '; Pmax =', p)\n",
    "\n",
    "                    [log_monitor['objective'][k].append(v) for k,v in O.items()]\n",
    "                    [log_monitor['pwr_alloc'][k].append(v) for k,v in P.items()]\n",
    "\n",
    "                break\n",
    "\n",
    "            lens = {}\n",
    "            for k,v in log_monitor['objective'].items():\n",
    "                lens[k] = np.array([len(vv) for vv in v])\n",
    "\n",
    "            eeval = {}\n",
    "            for k,v in log_monitor['objective'].items():\n",
    "                eeval[k] = np.array([vv[-1] for vv in v])\n",
    "\n",
    "            for k,v in log_monitor['objective'].items():\n",
    "                length = [len(vv) for vv in v]\n",
    "                ee = eeval[k][eeval[k]>=0]\n",
    "\n",
    "                print(k)\n",
    "                print('#iters: %.2f'%np.mean(length), \"(+- %.2f\"%np.std(length), \")\")\n",
    "                print('#eeval: %.2f'%np.mean(ee), \"(+- %.2f\"%np.std(ee), \")\")\n",
    "                print()\n",
    "                log_outiters[k].append(length)\n",
    "                \n",
    "    log_all[opt] = deepcopy(log_monitor)\n"
   ]
  },
  {
   "cell_type": "code",
   "execution_count": null,
   "metadata": {},
   "outputs": [],
   "source": [
    "pt.shape"
   ]
  },
  {
   "cell_type": "code",
   "execution_count": null,
   "metadata": {
    "scrolled": false
   },
   "outputs": [],
   "source": [
    "fig, ax = plt.subplots(1,3, figsize=(10,3), dpi=200)\n",
    "for i, (k,v) in enumerate(log_outiters.items()): \n",
    "    ax[i].boxplot(np.array(v).T, showmeans=True)\n",
    "\n",
    "    ax[i].set_title(k)\n",
    "    ax[i].set_xticks(range(1,len(INNER_MAXIT)+1))\n",
    "    ax[i].set_xticklabels(INNER_MAXIT)\n",
    "    ax[i].set_yscale('log')\n",
    "    ax[i].set_xlabel('# inner iters')\n",
    "    \n",
    "ax[0].set_ylabel('# outer iters')\n",
    "# plt.legend()\n",
    "plt.show()"
   ]
  },
  {
   "cell_type": "code",
   "execution_count": null,
   "metadata": {},
   "outputs": [],
   "source": [
    "\n",
    "# visualize channels and plin\n",
    "\n",
    "H = np.array(h)\n",
    "np.fill_diagonal(H, 0)\n",
    "\n",
    "G = nx.from_numpy_matrix(H, create_using=nx.DiGraph)\n",
    "pos = nx.spring_layout(G)\n",
    "edge_labels = dict([((u,v,), f\"{d['weight']:.2f}\") for u,v,d in G.edges(data=True)])\n",
    "\n",
    "edges = G.edges()\n",
    "weights = [G[u][v]['weight']/50 for u,v in edges]\n",
    "\n",
    "plt.figure(figsize=(13,4))\n",
    "plt.subplot(121)\n",
    "nx.draw(G, pos, node_size=1000,font_size=14,\n",
    "        width=weights, with_labels=True) \n",
    "nx.draw_networkx_edge_labels(G, pos, edge_labels=edge_labels)\n",
    "\n",
    "plt.subplot(122)\n",
    "plt.plot(Plin,'.')\n",
    "plt.ylabel('P_max')\n",
    "plt.show()\n",
    "\n",
    "\n"
   ]
  },
  {
   "cell_type": "code",
   "execution_count": null,
   "metadata": {},
   "outputs": [],
   "source": [
    "plt.figure(figsize=(10,4), dpi=200)\n",
    "\n",
    "plt.plot([v[-1] for v in log_all['sgd']['objective']['last']], '.', alpha=.7, label='sgd')\n",
    "plt.plot([v[-1] for v in log_all['cvx']['objective']['last']], '.', alpha=.7, label='cvx')\n",
    "\n",
    "plt.legend()\n",
    "plt.show()"
   ]
  },
  {
   "cell_type": "code",
   "execution_count": null,
   "metadata": {
    "scrolled": true
   },
   "outputs": [],
   "source": [
    "lens = {}\n",
    "for k,v in log_monitor['objective'].items():\n",
    "    lens[k] = np.array([len(vv) for vv in v])\n",
    "\n",
    "eeval = {}\n",
    "for k,v in log_monitor['objective'].items():\n",
    "    eeval[k] = np.array([vv[-1] for vv in v])\n",
    "    \n",
    "for k,v in log_monitor['objective'].items():\n",
    "    length = [len(vv) for vv in v]\n",
    "    ee = eeval[k][eeval[k]>=0]\n",
    "    \n",
    "    print(k)\n",
    "    print('#iters: %.2f'%np.mean(length), \"(+- %.2f\"%np.std(length), \")\")\n",
    "    print('#eeval: %.2f'%np.mean(ee), \"(+- %.2f\"%np.std(ee), \")\")\n",
    "    print()\n",
    "    \n",
    "    \n",
    "# # plot ee\n",
    "# for k,v in log_monitor['objective'].items():\n",
    "#     plt.plot(p_perm, eeval[k],'.', label=k, alpha=.7)\n",
    "# #     plt.plot(eeval[k],'.', label=k, alpha=.7)\n",
    "# plt.xticks(range(len(Plin))[::5], [np.round(pl,1) for pl in Plin[::5]])\n",
    "# plt.legend()\n",
    "# plt.show()"
   ]
  },
  {
   "cell_type": "markdown",
   "metadata": {},
   "source": [
    "# MLP"
   ]
  },
  {
   "cell_type": "code",
   "execution_count": null,
   "metadata": {},
   "outputs": [],
   "source": []
  },
  {
   "cell_type": "code",
   "execution_count": 46,
   "metadata": {},
   "outputs": [
    {
     "name": "stdout",
     "output_type": "stream",
     "text": [
      "2020-12-27 17:41:27 | +------------+------------+\n",
      "|  Modules   | Parameters |\n",
      "+------------+------------+\n",
      "| fc1.weight |    2176    |\n",
      "|  fc1.bias  |    128     |\n",
      "| fc2.weight |    8192    |\n",
      "|  fc2.bias  |     64     |\n",
      "| fc3.weight |    2048    |\n",
      "|  fc3.bias  |     32     |\n",
      "| fc4.weight |    512     |\n",
      "|  fc4.bias  |     16     |\n",
      "| fc5.weight |    128     |\n",
      "|  fc5.bias  |     8      |\n",
      "| fc6.weight |     32     |\n",
      "|  fc6.bias  |     4      |\n",
      "+------------+------------+\n",
      "2020-12-27 17:41:27 | Total Trainable Params: 13340\n",
      "2020-12-27 17:41:27 | +--------------+------------+\n",
      "|   Modules    | Parameters |\n",
      "+--------------+------------+\n",
      "| conv1.weight |     32     |\n",
      "|  conv1.bias  |     32     |\n",
      "| conv2.weight |    4096    |\n",
      "|  conv2.bias  |    128     |\n",
      "| conv3.weight |    8192    |\n",
      "|  conv3.bias  |     64     |\n",
      "| conv4.weight |    1024    |\n",
      "|  conv4.bias  |     16     |\n",
      "| conv5.weight |    128     |\n",
      "|  conv5.bias  |     8      |\n",
      "| conv6.weight |     8      |\n",
      "|  conv6.bias  |     1      |\n",
      "+--------------+------------+\n",
      "2020-12-27 17:41:27 | Total Trainable Params: 13729\n"
     ]
    },
    {
     "data": {
      "text/plain": [
       "13729"
      ]
     },
     "execution_count": 46,
     "metadata": {},
     "output_type": "execute_result"
    }
   ],
   "source": [
    "import torch\n",
    "import torch.nn as nn\n",
    "from torch_geometric.nn import GCNConv\n",
    "from torch_geometric.utils import dense_to_sparse\n",
    "import torch.nn.functional as F\n",
    "\n",
    "from tqdm.auto import trange\n",
    "\n",
    "# layer = ([128, 64, 32, 16, 8], ['elu', 'relu', 'elu', 'relu', 'elu'])\n",
    "class MLP(nn.Module):\n",
    "    def __init__(self, input_size):\n",
    "        super(MLP, self).__init__()\n",
    "        # permutation\n",
    "        self.fc1 = nn.Linear(input_size**2+1, 128)\n",
    "        self.fc2 = nn.Linear(128, 64)\n",
    "        self.fc3 = nn.Linear(64, 32)\n",
    "        self.fc4 = nn.Linear(32, 16)\n",
    "        self.fc5 = nn.Linear(16, 8)\n",
    "        self.fc6 = nn.Linear(8, input_size)\n",
    "        self.elu = nn.ELU()\n",
    "        self.relu = nn.ReLU()\n",
    "        \n",
    "    def forward(self, x):\n",
    "        x = self.elu(self.fc1(x))\n",
    "        x = F.dropout(x, training=self.training)\n",
    "        x = self.relu(self.fc2(x))\n",
    "        x = F.dropout(x, training=self.training)\n",
    "        x = self.elu(self.fc3(x))\n",
    "        x = F.dropout(x, training=self.training)\n",
    "        x = self.relu(self.fc4(x))\n",
    "        x = self.elu(self.fc5(x))\n",
    "        x = self.fc6(x)\n",
    "        \n",
    "        return x\n",
    "    \n",
    "    \n",
    "class GCN(torch.nn.Module):\n",
    "    def __init__(self, dim):\n",
    "        super(GCN, self).__init__()\n",
    "        self.conv1 = GCNConv(dim, 32)\n",
    "        self.conv2 = GCNConv(32, 128)\n",
    "        self.conv3 = GCNConv(128, 64)\n",
    "        self.conv4 = GCNConv(64, 16)\n",
    "        self.conv5 = GCNConv(16, 8)\n",
    "        self.conv6 = GCNConv(8, dim)\n",
    "#         self.final = nn.Linear(dim, dim) \n",
    "\n",
    "    def forward(self, x, edge_index, edge_weights):\n",
    "#         x, edge_index = data.x, data.edge_index\n",
    "\n",
    "        x = F.elu(self.conv1(x, edge_index, edge_weight=edge_weights))\n",
    "#         x = F.dropout(x, training=self.training)\n",
    "        \n",
    "        x = F.relu(self.conv2(x, edge_index, edge_weight=edge_weights))\n",
    "#         x = F.dropout(x, training=self.training)\n",
    "        \n",
    "        x = F.elu(self.conv3(x, edge_index, edge_weight=edge_weights))\n",
    "#         x = F.dropout(x, training=self.training)\n",
    "        \n",
    "        x = F.relu(self.conv4(x, edge_index, edge_weight=edge_weights))\n",
    "#         x = F.dropout(x, training=self.training)\n",
    "        \n",
    "        x = F.elu(self.conv5(x, edge_index, edge_weight=edge_weights))\n",
    "#         x = F.dropout(x, training=self.training)\n",
    "\n",
    "        x = self.conv6(x, edge_index, edge_weight=edge_weights)\n",
    "\n",
    "#         return F.log_softmax(x, dim=1)\n",
    "        return x#self.final(x)\n",
    "\n",
    "\n",
    "\n",
    "from prettytable import PrettyTable\n",
    "\n",
    "def count_parameters(model):\n",
    "    table = PrettyTable([\"Modules\", \"Parameters\"])\n",
    "    total_params = 0\n",
    "    for name, parameter in model.named_parameters():\n",
    "        if not parameter.requires_grad: continue\n",
    "        param = parameter.numel()\n",
    "        table.add_row([name, param])\n",
    "        total_params+=param\n",
    "    print(table)\n",
    "    print(f\"Total Trainable Params: {total_params}\")\n",
    "    return total_params\n",
    "    \n",
    "count_parameters(MLP(num_ue))\n",
    "count_parameters(GCN(1))"
   ]
  },
  {
   "cell_type": "code",
   "execution_count": null,
   "metadata": {},
   "outputs": [],
   "source": []
  },
  {
   "cell_type": "code",
   "execution_count": null,
   "metadata": {},
   "outputs": [],
   "source": []
  },
  {
   "cell_type": "markdown",
   "metadata": {},
   "source": [
    "# GCN LEARNING (obsolete)"
   ]
  },
  {
   "cell_type": "code",
   "execution_count": 53,
   "metadata": {
    "scrolled": true
   },
   "outputs": [
    {
     "name": "stdout",
     "output_type": "stream",
     "text": [
      "2020-12-27 17:45:05 | (25500, 17) (25500, 17) torch.Size([25500, 4]) torch.Size([25500, 4])\n"
     ]
    },
    {
     "data": {
      "application/vnd.jupyter.widget-view+json": {
       "model_id": "dac4445a61144c37a22056944edfff55",
       "version_major": 2,
       "version_minor": 0
      },
      "text/plain": [
       "HBox(children=(FloatProgress(value=0.0, description='1-th fold:', max=500.0, style=ProgressStyle(description_w…"
      ]
     },
     "metadata": {},
     "output_type": "display_data"
    },
    {
     "name": "stdout",
     "output_type": "stream",
     "text": [
      "\n"
     ]
    },
    {
     "ename": "RuntimeError",
     "evalue": "No active exception to reraise",
     "output_type": "error",
     "traceback": [
      "\u001b[0;31m-------------------------------------------------------------------------\u001b[0m",
      "\u001b[0;31mRuntimeError\u001b[0m                            Traceback (most recent call last)",
      "\u001b[0;32m<ipython-input-53-2a35c6442607>\u001b[0m in \u001b[0;36m<module>\u001b[0;34m\u001b[0m\n\u001b[1;32m     55\u001b[0m \u001b[0;34m\u001b[0m\u001b[0m\n\u001b[1;32m     56\u001b[0m             \u001b[0mloss\u001b[0m \u001b[0;34m=\u001b[0m \u001b[0mtorch\u001b[0m\u001b[0;34m.\u001b[0m\u001b[0mmean\u001b[0m\u001b[0;34m(\u001b[0m\u001b[0;34m(\u001b[0m\u001b[0my_pred\u001b[0m\u001b[0;34m-\u001b[0m\u001b[0my_true\u001b[0m\u001b[0;34m)\u001b[0m\u001b[0;34m**\u001b[0m\u001b[0;36m2\u001b[0m\u001b[0;34m,\u001b[0m \u001b[0mdim\u001b[0m\u001b[0;34m=\u001b[0m\u001b[0;36m0\u001b[0m\u001b[0;34m)\u001b[0m\u001b[0;34m\u001b[0m\u001b[0;34m\u001b[0m\u001b[0m\n\u001b[0;32m---> 57\u001b[0;31m             \u001b[0;32mraise\u001b[0m\u001b[0;34m\u001b[0m\u001b[0;34m\u001b[0m\u001b[0m\n\u001b[0m\u001b[1;32m     58\u001b[0m \u001b[0;34m\u001b[0m\u001b[0m\n\u001b[1;32m     59\u001b[0m             \u001b[0mopt\u001b[0m\u001b[0;34m.\u001b[0m\u001b[0mzero_grad\u001b[0m\u001b[0;34m(\u001b[0m\u001b[0;34m)\u001b[0m\u001b[0;34m\u001b[0m\u001b[0;34m\u001b[0m\u001b[0m\n",
      "\u001b[0;31mRuntimeError\u001b[0m: No active exception to reraise"
     ]
    }
   ],
   "source": [
    "device = torch.device('cuda')\n",
    "# model = MLP(num_ue).to(device)\n",
    "# opt = torch.optim.Adam(model.parameters(), lr=0.01)\n",
    "    \n",
    "k_fold = 2\n",
    "bs = 256\n",
    "\n",
    "import numpy as np\n",
    "from sklearn.model_selection import StratifiedKFold\n",
    "\n",
    "skf = StratifiedKFold(n_splits=k_fold, shuffle=True, random_state=42)\n",
    "tr_loss1, va_loss1, te_loss1 = {},{},{}\n",
    "\n",
    "for k, (train_index, valid_index) in enumerate(skf.split(X_tr, np.asarray([True]*y_tr.shape[0]))):\n",
    "    # k fold cross validation\n",
    "    \n",
    "    X_train, y_train = X_tr[train_index], y_tr[train_index]\n",
    "    X_valid, y_valid = X_tr[valid_index], y_tr[valid_index]\n",
    "    X_test, y_test   = X_va[valid_index], y_va[valid_index]\n",
    "    \n",
    "    print(X_train.shape, X_valid.shape, y_train.shape, y_valid.shape)\n",
    "    \n",
    "    tr_loss1[k], va_loss1[k], te_loss1[k] = [],[],[]\n",
    "    \n",
    "#     model = MLP(num_ue).to(device)\n",
    "    model = GCN(1).to(device)\n",
    "#     opt = torch.optim.Adam(model.parameters(), lr=0.1, weight_decay=5e-4)\n",
    "    opt = torch.optim.SGD(model.parameters(), lr=0.01)\n",
    "    \n",
    "    for epoch in trange(500, desc='%d-th fold:'%(k+1)):\n",
    "        model.train()\n",
    "        perm_i = np.random.permutation(y_train.shape[0])\n",
    "\n",
    "        running_loss = 0\n",
    "        for i in range(len(perm_i)//bs):\n",
    "\n",
    "            i_s, i_e = i*bs, (i+1)*bs\n",
    "\n",
    "            # ----------\n",
    "            shift = torch.Tensor(\n",
    "                np.array([np.arange(bs)*num_ue,]*num_ue**2).T.reshape(-1)\n",
    "            ).repeat(1, 2).view(2,-1).long()\n",
    "            edge_index_batch = (edge_index_tr.repeat(1, bs)+shift).to(device) #edge_index_tr=edge_index_va\n",
    "\n",
    "            y_init = 10**torch.from_numpy(\n",
    "                np.array([X_tr[i_s:i_e,-1],]*num_ue).transpose()\n",
    "            ).float().to(device) # init at max power\n",
    "#             y_init = torch.randn_like(y_init)\n",
    "            edge_weight_batch = 10**torch.from_numpy(X_tr[i_s:i_e,:-1].reshape((-1))).float().to(device)                \n",
    "            signal =  y_init.reshape((-1,1))\n",
    "            # ----------\n",
    "\n",
    "            y_true = 10**y_tr[i_s:i_e].float().to(device)\n",
    "            y_pred = model(signal, edge_index_batch, edge_weight_batch).reshape(y_true.shape)\n",
    "\n",
    "            loss = torch.mean((y_pred-y_true)**2, dim=0)\n",
    "            raise\n",
    "\n",
    "            opt.zero_grad()\n",
    "            loss.backward(torch.ones(num_ue).to(device)) #vector loss\n",
    "            opt.step()    \n",
    "\n",
    "            running_loss += torch.mean(loss).item()\n",
    "\n",
    "#             if not i%100:\n",
    "#                 print('%d:%d/%d'%(epoch,i,y_tr.shape[0]), torch.mean(loss).item())\n",
    "        tr_loss1[k].append(running_loss/(i+1))\n",
    "    \n",
    "\n",
    "        model.eval()\n",
    "        # validation\n",
    "        bs_va = y_valid.shape[0]\n",
    "        running_loss = 0\n",
    "        for i in range(y_valid.shape[0]//bs_va):\n",
    "\n",
    "            i_s, i_e = i*bs_va, (i+1)*bs_va\n",
    "\n",
    "            # ----------\n",
    "            shift = torch.Tensor(\n",
    "                np.array([np.arange(bs_va)*num_ue,]*num_ue**2).T.reshape(-1)\n",
    "            ).repeat(1, 2).view(2,-1).long()\n",
    "            edge_index_batch = (edge_index_tr.repeat(1, bs_va)+shift).to(device) #edge_index_tr=edge_index_va\n",
    "\n",
    "            y_init = 10**torch.from_numpy( # max initialization\n",
    "                np.array([X_valid[i_s:i_e,-1],]*num_ue).transpose()\n",
    "            ).float().to(device) # init at max power\n",
    "#             y_init = torch.randn_like(y_init)\n",
    "            edge_weight_batch = 10**torch.from_numpy(X_valid[i_s:i_e,:-1].reshape((-1))).float().to(device)                \n",
    "            signal =  y_init.reshape((-1,1))\n",
    "            # ----------\n",
    "\n",
    "            y_true = 10**y_valid[i_s:i_e].float().to(device)\n",
    "            y_pred = model(signal, edge_index_batch, edge_weight_batch).reshape(y_true.shape)\n",
    "\n",
    "            loss = torch.mean((y_pred-y_true)**2, dim=0)\n",
    "            running_loss += torch.mean(loss).item()\n",
    "            \n",
    "        va_loss1[k].append(running_loss/(i+1))\n",
    "\n",
    "        # test\n",
    "        bs_va = y_va.shape[0]\n",
    "        running_loss = 0\n",
    "        for i in range(y_va.shape[0]//bs_va):\n",
    "\n",
    "            i_s, i_e = i*bs_va, (i+1)*bs_va\n",
    "\n",
    "            # ----------\n",
    "            shift = torch.Tensor(\n",
    "                np.array([np.arange(bs_va)*num_ue,]*num_ue**2).T.reshape(-1)\n",
    "            ).repeat(1, 2).view(2,-1).long()\n",
    "            edge_index_batch = (edge_index_tr.repeat(1, bs_va)+shift).to(device) #edge_index_tr=edge_index_va\n",
    "\n",
    "            y_init = 10**torch.from_numpy(\n",
    "                np.array([X_va[i_s:i_e,-1],]*num_ue).transpose()\n",
    "            ).float().to(device) # init at max power\n",
    "#             y_init = torch.randn_like(y_init)\n",
    "            \n",
    "            edge_weight_batch = 10**torch.from_numpy(X_va[i_s:i_e,:-1].reshape((-1))).float().to(device)                \n",
    "            signal =  y_init.reshape((-1,1))\n",
    "            # ----------\n",
    "\n",
    "            y_true = 10**y_va[i_s:i_e].float().to(device)\n",
    "            y_pred = model(signal, edge_index_batch, edge_weight_batch).reshape(y_true.shape)\n",
    "\n",
    "            loss = torch.mean((y_pred-y_true)**2, dim=0)\n",
    "            running_loss += torch.mean(loss).item()\n",
    "            \n",
    "        te_loss1[k].append(running_loss/(i+1))    \n",
    "        \n",
    "        # -------\n",
    "\n",
    "        print('%d: train loss %.6f / val loss %.6f / test loss %.6f'%(\n",
    "            epoch, tr_loss1[k][-1], va_loss1[k][-1], te_loss1[k][-1]))\n",
    "        \n",
    "#     break"
   ]
  },
  {
   "cell_type": "code",
   "execution_count": 55,
   "metadata": {},
   "outputs": [
    {
     "data": {
      "text/plain": [
       "torch.Size([256, 4])"
      ]
     },
     "execution_count": 55,
     "metadata": {},
     "output_type": "execute_result"
    }
   ],
   "source": [
    "y_init.shape"
   ]
  },
  {
   "cell_type": "code",
   "execution_count": 54,
   "metadata": {},
   "outputs": [
    {
     "data": {
      "text/plain": [
       "(torch.Size([1024, 1]), torch.Size([2, 4096]))"
      ]
     },
     "execution_count": 54,
     "metadata": {},
     "output_type": "execute_result"
    }
   ],
   "source": [
    "signal.shape, edge_index_batch.shape"
   ]
  },
  {
   "cell_type": "code",
   "execution_count": null,
   "metadata": {},
   "outputs": [],
   "source": [
    "from utils import *\n",
    "f(y_true[0].cpu().numpy(), h, mu, Pc), f(y_pred[0].detach().cpu().numpy(), h, mu, Pc)"
   ]
  },
  {
   "cell_type": "code",
   "execution_count": null,
   "metadata": {},
   "outputs": [],
   "source": [
    "y_true[0].cpu().numpy(), y_pred[0].detach().cpu().numpy(), Pc"
   ]
  },
  {
   "cell_type": "code",
   "execution_count": null,
   "metadata": {},
   "outputs": [],
   "source": [
    "h * y_true[0].cpu().numpy()"
   ]
  },
  {
   "cell_type": "code",
   "execution_count": null,
   "metadata": {},
   "outputs": [],
   "source": [
    "\n",
    "fig, ax = plt.subplots(1,2, dpi=150, sharey=True)\n",
    "\n",
    "for ph, loss in zip([\"train\", \"valid\", \"test\"],[tr_loss, va_loss, te_loss]):\n",
    "\n",
    "    m = np.mean(list(loss.values()),0)\n",
    "    e = np.std(list(loss.values()),0)\n",
    "\n",
    "    ax[0].plot(range(epoch+1), m, '-', linewidth=1, label='%s loss'%ph)\n",
    "    ax[0].fill_between(range(epoch+1), m-e, m+e,\n",
    "        alpha=.5, #edgecolor='#3F7F4C', facecolor='#7EFF99',\n",
    "        linewidth=0, label=None)\n",
    "\n",
    "for ph, loss in zip([\"train\", \"valid\", \"test\"],[tr_loss1, va_loss1, te_loss1]):\n",
    "\n",
    "    m = np.mean(list(loss.values()),0)\n",
    "    e = np.std(list(loss.values()),0)\n",
    "\n",
    "    ax[1].plot(range(epoch+1), m, '-', linewidth=1, label='%s loss'%ph)\n",
    "    ax[1].fill_between(range(epoch+1), m-e, m+e,\n",
    "        alpha=.5, #edgecolor='#3F7F4C', facecolor='#7EFF99',\n",
    "        linewidth=0, label=None)\n",
    "\n",
    "ax[1].set_xlabel('epochs')\n",
    "ax[0].set_xlabel('epochs')\n",
    "ax[0].set_ylabel('mse')\n",
    "\n",
    "ax[0].set_title('MLP')\n",
    "ax[1].set_title('GCN')\n",
    "\n",
    "plt.legend(bbox_to_anchor=(0.8,-0.1), loc=\"lower right\", \n",
    "                bbox_transform=fig.transFigure, ncol=3)\n",
    "\n",
    "plt.yscale('log')\n",
    "plt.suptitle('Train and validated channels w/o SF, tested w/ SF')\n",
    "\n",
    "plt.show()"
   ]
  },
  {
   "cell_type": "markdown",
   "metadata": {},
   "source": [
    "# MLP LEARNING"
   ]
  },
  {
   "cell_type": "code",
   "execution_count": null,
   "metadata": {
    "scrolled": true
   },
   "outputs": [],
   "source": [
    "device = torch.device('cpu')\n",
    "# model = MLP(num_ue).to(device)\n",
    "# opt = torch.optim.Adam(model.parameters(), lr=0.01)\n",
    "    \n",
    "k_fold = 2\n",
    "bs = 256\n",
    "\n",
    "\n",
    "import numpy as np\n",
    "from sklearn.model_selection import StratifiedKFold\n",
    "\n",
    "skf = StratifiedKFold(n_splits=k_fold, shuffle=True, random_state=42)\n",
    "tr_loss, va_loss, te_loss = {},{},{}\n",
    "\n",
    "for k, (train_index, valid_index) in enumerate(skf.split(X_tr, np.asarray([True]*y_tr.shape[0]))):\n",
    "    # k fold cross validation\n",
    "    \n",
    "    X_train, y_train = X_tr[train_index], y_tr[train_index]\n",
    "    X_valid, y_valid = X_tr[valid_index], y_tr[valid_index]\n",
    "    X_test, y_test   = X_va[valid_index], y_va[valid_index]\n",
    "    \n",
    "    print(X_train.shape, X_valid.shape, y_train.shape, y_valid.shape)\n",
    "    \n",
    "    tr_loss[k], va_loss[k], te_loss[k] = [],[],[]\n",
    "    \n",
    "    model = MLP(num_ue).to(device)\n",
    "#     opt = torch.optim.Adam(model.parameters(), lr=0.01)\n",
    "    opt = torch.optim.SGD(model.parameters(), lr=0.4)\n",
    "    \n",
    "    for epoch in trange(500, desc='%d-th fold:'%(k+1)):\n",
    "        model.train()\n",
    "        perm_i = np.random.permutation(y_train.shape[0])\n",
    "\n",
    "        running_loss = 0\n",
    "        for i in range(len(perm_i)//bs):\n",
    "\n",
    "            i_s, i_e = i*bs, (i+1)*bs\n",
    "\n",
    "            y_true = 10**torch.from_numpy(y_train[i_s:i_e]).float().to(device)\n",
    "            x = torch.from_numpy(X_train[i_s:i_e]).float().to(device)\n",
    "\n",
    "            y_pred = model(x)\n",
    "\n",
    "            loss = torch.mean(((y_pred-y_true)/y_true)**2, dim=0)\n",
    "\n",
    "            opt.zero_grad()\n",
    "            loss.backward(torch.ones(num_ue).to(device)) #vector loss\n",
    "            opt.step()    \n",
    "\n",
    "            running_loss += torch.mean(loss).item()\n",
    "\n",
    "#             if not i%100:\n",
    "#                 print('%d:%d/%d'%(epoch,i,y_tr.shape[0]), torch.mean(loss).item())\n",
    "        tr_loss[k].append(running_loss/(i+1))\n",
    "\n",
    "        model.eval()\n",
    "        # validation\n",
    "        y_pred = model( torch.from_numpy(X_valid).float().to(device) )\n",
    "        y_true = 10**torch.from_numpy(y_valid).float().to(device)\n",
    "        va_loss[k].append(torch.mean(((y_pred-y_true)/y_true)**2).item())   \n",
    "\n",
    "        # test\n",
    "        y_pred = model( torch.from_numpy(X_va).float().to(device) )\n",
    "        y_true = 10**torch.from_numpy(y_va).float().to(device)\n",
    "        te_loss[k].append(torch.mean(((y_pred-y_true)/y_true)**2).item())\n",
    "\n",
    "        print('%d: train loss %.6f / val loss %.6f / test loss %.6f'%(\n",
    "            epoch, tr_loss[k][-1], va_loss[k][-1], te_loss[k][-1]))\n",
    "        \n",
    "#     break"
   ]
  },
  {
   "cell_type": "code",
   "execution_count": null,
   "metadata": {},
   "outputs": [],
   "source": [
    "y_pred"
   ]
  },
  {
   "cell_type": "code",
   "execution_count": null,
   "metadata": {},
   "outputs": [],
   "source": [
    "[ss for ss in s][0].shape"
   ]
  },
  {
   "cell_type": "code",
   "execution_count": null,
   "metadata": {},
   "outputs": [],
   "source": [
    "\n",
    "plt.figure(figsize=(6,3),  dpi=200)\n",
    "\n",
    "\n",
    "for ph, loss in zip([\"train\", \"valid\", \"test\"],[tr_loss, va_loss, te_loss]):\n",
    "\n",
    "    m = np.mean(list(loss.values()),0)\n",
    "    e = np.std(list(loss.values()),0)\n",
    "\n",
    "    plt.plot(range(epoch+1), m, '-', linewidth=1, label='%s loss'%ph)\n",
    "    plt.fill_between(range(epoch+1), m-e, m+e,\n",
    "        alpha=.5, #edgecolor='#3F7F4C', facecolor='#7EFF99',\n",
    "        linewidth=0, label=None)\n",
    "\n",
    "\n",
    "# plt.plot(range(epoch+1), np.mean(list(tr_loss.values()),0), '-', label='train loss')\n",
    "# plt.plot(range(epoch+1), np.mean(list(va_loss.values()),0), '-', label='validation loss')\n",
    "# plt.plot(range(epoch+1), np.mean(list(te_loss.values()),0), '-.', label='test loss')\n",
    "\n",
    "plt.xlabel('epochs')\n",
    "plt.ylabel('mse')\n",
    "plt.legend()\n",
    "\n",
    "plt.yscale('log')\n",
    "plt.title('Train and validated channels w/o SF, tested w/ SF')\n",
    "\n",
    "plt.show()"
   ]
  },
  {
   "cell_type": "code",
   "execution_count": null,
   "metadata": {},
   "outputs": [],
   "source": []
  },
  {
   "cell_type": "code",
   "execution_count": null,
   "metadata": {},
   "outputs": [],
   "source": []
  },
  {
   "cell_type": "code",
   "execution_count": null,
   "metadata": {},
   "outputs": [],
   "source": [
    "ax"
   ]
  },
  {
   "cell_type": "code",
   "execution_count": null,
   "metadata": {},
   "outputs": [],
   "source": [
    "def histogram(sample,bins=10, alpha=1, ax=None, label=None):\n",
    "    if not bins:\n",
    "        bins='auto'\n",
    "    bin_height,bin_boundary = np.histogram(sample,bins=bins)\n",
    "    width = bin_boundary[1]-bin_boundary[0]\n",
    "    bin_height = bin_height/float(max(bin_height))\n",
    "    if ax is not None:\n",
    "        ax.bar(bin_boundary[:-1],bin_height,width = width, alpha=alpha, label=label)\n",
    "    else:\n",
    "        plt.bar(bin_boundary[:-1],bin_height,width = width, alpha=alpha, label=label)\n",
    "\n",
    "\n",
    "fig, ax = plt.subplots(1,2, figsize=(8,3), dpi=200)#, sharex=False, sharey=False)\n",
    "\n",
    "histogram(X_va.flatten(),bins=80, alpha=.6, ax=ax[0], label='test')\n",
    "histogram(X_tr.flatten(),bins=80, alpha=.6, ax=ax[0], label='train')\n",
    "\n",
    "histogram(y_va.flatten(),bins=200, alpha=.6, ax=ax[1], label='test (SF)')\n",
    "histogram(y_tr.flatten(),bins=200, alpha=.6, ax=ax[1], label='train (noSF)')\n",
    "\n",
    "ax[0].set_yscale('log')\n",
    "ax[1].set_yscale('log')\n",
    "\n",
    "ax[0].set_title(\"channels\")\n",
    "ax[1].set_title(\"optim power alloc\")\n",
    "\n",
    "# plt.title(\"Data - hataUrban\")\n",
    "plt.legend()\n",
    "plt.show()\n",
    "\n",
    "\n"
   ]
  },
  {
   "cell_type": "code",
   "execution_count": null,
   "metadata": {},
   "outputs": [],
   "source": [
    "plt.hist(np.random.randn(300,3))\n"
   ]
  },
  {
   "cell_type": "code",
   "execution_count": null,
   "metadata": {},
   "outputs": [],
   "source": [
    "plt.plot(p_perm, ee[14], '.', label='mlp', alpha=.7)\n",
    "#     plt.plot(eeval[k],'.', label=k, alpha=.7)\n",
    "plt.xticks(range(len(Plin))[::5], [np.round(pl,1) for pl in Plin[::5]])\n",
    "plt.legend()\n",
    "plt.show()"
   ]
  },
  {
   "cell_type": "code",
   "execution_count": null,
   "metadata": {},
   "outputs": [],
   "source": []
  },
  {
   "cell_type": "code",
   "execution_count": null,
   "metadata": {},
   "outputs": [],
   "source": []
  },
  {
   "cell_type": "code",
   "execution_count": null,
   "metadata": {},
   "outputs": [],
   "source": []
  },
  {
   "cell_type": "code",
   "execution_count": null,
   "metadata": {},
   "outputs": [],
   "source": []
  },
  {
   "cell_type": "code",
   "execution_count": null,
   "metadata": {},
   "outputs": [],
   "source": [
    "\n",
    "        "
   ]
  },
  {
   "cell_type": "code",
   "execution_count": null,
   "metadata": {
    "scrolled": true
   },
   "outputs": [],
   "source": [
    "p0, Pmax, model.pvar\n",
    "f(model.pvar.detach().numpy(), h0)"
   ]
  },
  {
   "cell_type": "code",
   "execution_count": null,
   "metadata": {
    "scrolled": true
   },
   "outputs": [],
   "source": [
    "fig, ax = plt.subplots(1,2,figsize=(9,3))\n",
    "\n",
    "ax[0].plot(np.array(ll).mean(-1))\n",
    "\n",
    "ax[1].plot(ee)\n",
    "\n",
    "plt.show()"
   ]
  },
  {
   "cell_type": "code",
   "execution_count": null,
   "metadata": {},
   "outputs": [],
   "source": [
    "fig, ax = plt.subplots(1,2,figsize=(9,3))\n",
    "\n",
    "ax[0].plot(np.array(ll).mean(-1))\n",
    "\n",
    "ax[1].plot(ee)\n",
    "\n",
    "plt.show()"
   ]
  }
 ],
 "metadata": {
  "kernelspec": {
   "display_name": "Python 3",
   "language": "python",
   "name": "python3"
  },
  "language_info": {
   "codemirror_mode": {
    "name": "ipython",
    "version": 3
   },
   "file_extension": ".py",
   "mimetype": "text/x-python",
   "name": "python",
   "nbconvert_exporter": "python",
   "pygments_lexer": "ipython3",
   "version": "3.7.7"
  }
 },
 "nbformat": 4,
 "nbformat_minor": 4
}
