{
 "cells": [
  {
   "cell_type": "code",
   "execution_count": 67,
   "metadata": {},
   "outputs": [
    {
     "name": "stdout",
     "output_type": "stream",
     "text": [
      "The autoreload extension is already loaded. To reload it, use:\n",
      "  %reload_ext autoreload\n"
     ]
    }
   ],
   "source": [
    "%load_ext autoreload\n",
    "%autoreload 2\n",
    "\n",
    "from tqdm.notebook import tqdm\n",
    "from tqdm.auto import trange\n",
    "import itertools as it\n",
    "import h5py\n",
    "from copy import deepcopy\n",
    "import os\n",
    "import json\n",
    "import gc \n",
    "import numpy as np\n",
    "import cvxpy as cp\n",
    "import networkx as nx\n",
    "import matplotlib.pyplot as plt\n",
    "\n",
    "import torch\n",
    "import torch.nn as nn\n",
    "from torch_geometric.utils import dense_to_sparse\n",
    "\n",
    "from sca import *\n",
    "from utils import *\n",
    "from models_uf import *\n"
   ]
  },
  {
   "cell_type": "markdown",
   "metadata": {},
   "source": [
    "## load data"
   ]
  },
  {
   "cell_type": "code",
   "execution_count": 95,
   "metadata": {},
   "outputs": [
    {
     "name": "stdout",
     "output_type": "stream",
     "text": [
      "2021-01-06 23:21:21 | <KeysViewHDF5 ['Channels', 'PA inefficency', 'Pc', 'PdB', 'Relative Tolerance', 'channel_to_noise_matched', 'epsilon']>\n",
      "2021-01-06 23:21:21 | [-40 -39 -38 -37 -36 -35 -34 -33 -32 -31 -30 -29 -28 -27 -26 -25 -24 -23\n",
      " -22 -21 -20 -19 -18 -17 -16 -15 -14 -13 -12 -11 -10  -9  -8  -7  -6  -5\n",
      "  -4  -3  -2  -1   0   1   2   3   4   5   6   7   8   9  10]\n"
     ]
    }
   ],
   "source": [
    "dfn3 = '../../data/results_hataUrban_noSF.h5'\n",
    "X_tr, y_tr = [],[]\n",
    "with h5py.File(dfn3, \"r\") as handle:\n",
    "    print(handle['input'].keys())\n",
    "    Hs = handle['input'][\"channel_to_noise_matched\"][...]\n",
    "    print(handle['input']['PdB'][...])\n",
    "    "
   ]
  },
  {
   "cell_type": "code",
   "execution_count": 97,
   "metadata": {},
   "outputs": [
    {
     "data": {
      "text/plain": [
       "array([-40, -39, -38, -37, -36, -35, -34, -33, -32, -31, -30, -29, -28,\n",
       "       -27, -26, -25, -24, -23, -22, -21, -20, -19, -18, -17, -16, -15,\n",
       "       -14, -13, -12, -11, -10,  -9,  -8,  -7,  -6,  -5,  -4,  -3,  -2,\n",
       "        -1,   0,   1,   2,   3,   4,   5,   6,   7,   8,   9,  10])"
      ]
     },
     "execution_count": 97,
     "metadata": {},
     "output_type": "execute_result"
    }
   ],
   "source": [
    "np.array(range(-40,10+1,1))"
   ]
  },
  {
   "cell_type": "code",
   "execution_count": 74,
   "metadata": {},
   "outputs": [
    {
     "name": "stdout",
     "output_type": "stream",
     "text": [
      "2021-01-06 21:55:07 | <KeysViewHDF5 ['channel', 'channel_to_noise_matched']>\n"
     ]
    },
    {
     "data": {
      "text/plain": [
       "(1000, 10, 10)"
      ]
     },
     "execution_count": 74,
     "metadata": {},
     "output_type": "execute_result"
    }
   ],
   "source": [
    "# train data\n",
    "dfn3 = '../../data_my/channels-HataSuburban-10.h5'\n",
    "X_tr, y_tr = [],[]\n",
    "with h5py.File(dfn3, \"r\") as handle:\n",
    "    print(handle['input'].keys())\n",
    "    Hs = handle['input'][\"channel_to_noise_matched\"][...]\n",
    "    \n",
    "Hs.shape"
   ]
  },
  {
   "cell_type": "code",
   "execution_count": 82,
   "metadata": {},
   "outputs": [
    {
     "data": {
      "text/plain": [
       "(array([-30, -29, -28, -27, -26, -25, -24, -23, -22, -21, -20, -19, -18,\n",
       "        -17, -16, -15, -14, -13, -12, -11, -10,  -9,  -8,  -7,  -6,  -5,\n",
       "         -4,  -3,  -2,  -1,   0,   1,   2,   3,   4,   5,   6,   7,   8,\n",
       "          9,  10,  11,  12,  13,  14,  15,  16,  17,  18,  19,  20]),\n",
       " 10,\n",
       " 1.0)"
      ]
     },
     "execution_count": 82,
     "metadata": {},
     "output_type": "execute_result"
    }
   ],
   "source": [
    "karwgs = {'mu':10}\n",
    "extract_args = lambda a, k: a if not k in karwgs else karwgs[k]\n",
    "PdB = extract_args(np.array(range(-30,20+1,1)), 'PdB')\n",
    "mu = extract_args(4.0, 'mu')\n",
    "Pc = extract_args(1.0, 'Pc')\n",
    "\n",
    "PdB, mu, Pc\n"
   ]
  },
  {
   "cell_type": "code",
   "execution_count": 2,
   "metadata": {},
   "outputs": [
    {
     "data": {
      "application/vnd.jupyter.widget-view+json": {
       "model_id": "51a3fb6c1cee44d9adeeca9de2a8e2ad",
       "version_major": 2,
       "version_minor": 0
      },
      "text/plain": [
       "HBox(children=(FloatProgress(value=0.0, max=1000.0), HTML(value='')))"
      ]
     },
     "metadata": {},
     "output_type": "display_data"
    },
    {
     "name": "stdout",
     "output_type": "stream",
     "text": [
      "\n"
     ]
    },
    {
     "data": {
      "application/vnd.jupyter.widget-view+json": {
       "model_id": "1c7b22b3311847e496ba142e81b36a5f",
       "version_major": 2,
       "version_minor": 0
      },
      "text/plain": [
       "HBox(children=(FloatProgress(value=0.0, max=1000.0), HTML(value='')))"
      ]
     },
     "metadata": {},
     "output_type": "display_data"
    },
    {
     "name": "stdout",
     "output_type": "stream",
     "text": [
      "\n",
      "2020-12-29 17:11:03 | (51000, 17) torch.Size([51000, 4])\n",
      "2020-12-29 17:11:03 | (51000, 17) torch.Size([51000, 4])\n"
     ]
    }
   ],
   "source": [
    "#--- data---\n",
    "\n",
    "num_ue = 4\n",
    "mu = 4\n",
    "Pc = 1\n",
    "\n",
    "device = torch.device('cpu')\n",
    "\n",
    "# # train data\n",
    "# dfn3 = '../../data/dset%d.h5'%num_ue\n",
    "# with h5py.File(dfn3, \"r\") as handle:\n",
    "#     X_tr = handle['training']['input'][...]\n",
    "#     y_tr = handle['training']['xopt'][...]\n",
    "    \n",
    "# # validation data\n",
    "# dfn4 = '../../data/dset%d.h5'%num_ue\n",
    "# with h5py.File(dfn4, \"r\") as handle:\n",
    "#     X_va = handle['validation']['input'][...]\n",
    "#     y_va = handle['validation']['xopt'][...]\n",
    "      \n",
    "        \n",
    "#--- data---\n",
    "\n",
    "\n",
    "# train data\n",
    "dfn3 = '../../data/results_hataUrban_noSF.h5'\n",
    "X_tr, y_tr = [],[]\n",
    "with h5py.File(dfn3, \"r\") as handle:\n",
    "    Hs = handle['input'][\"channel_to_noise_matched\"]\n",
    "    Plin = 10**(np.asarray(handle['input']['PdB'][...], dtype=np.float)/10)\n",
    "    xopt = handle['xopt']\n",
    "    \n",
    "    assert num_ue==Hs.shape[1]\n",
    "\n",
    "    for hidx in trange(Hs.shape[0]):\n",
    "        edge_index_tr, h = dense_to_sparse(torch.from_numpy(Hs[hidx].astype(float)))\n",
    "        x1 = (h.reshape((-1,1))*Plin).T # -->(h1p1, h2p1, h3p1, ...)\n",
    "        X_tr.append(np.hstack((x1, Plin.reshape(-1,1))))\n",
    "        y_tr.append(xopt[hidx,...] )                   \n",
    "\n",
    "y_tr = np.concatenate((y_tr))\n",
    "X_tr = np.concatenate((X_tr))\n",
    "y_tr = y_tr[~np.any(np.isnan(X_tr),-1)]     \n",
    "X_tr = X_tr[~np.any(np.isnan(X_tr),-1)]\n",
    "\n",
    "\n",
    "# validation data\n",
    "dfn4 = '../../data/results_hataUrban.h5'\n",
    "X_va, y_va = [],[]\n",
    "with h5py.File(dfn4, \"r\") as handle:\n",
    "    Hs = handle['input'][\"channel_to_noise_matched\"]\n",
    "    Plin = 10**(np.asarray(handle['input']['PdB'][...], dtype=np.float)/10)\n",
    "    xopt = handle['xopt']\n",
    "    \n",
    "    for hidx in trange(Hs.shape[0]):\n",
    "        edge_index_va, h = dense_to_sparse(torch.from_numpy(Hs[hidx].astype(float)))\n",
    "        x1 = (h.reshape((-1,1))*Plin).T # -->(h1p1, h2p1, h3p1, ...)\n",
    "        X_va.append(np.hstack((x1, Plin.reshape(-1,1))))\n",
    "        y_va.append(xopt[hidx,...] )\n",
    "\n",
    "y_va = np.concatenate((y_va))\n",
    "X_va = np.concatenate((X_va))\n",
    "y_va = y_va[~np.any(np.isnan(X_va),-1)]     \n",
    "X_va = X_va[~np.any(np.isnan(X_va),-1)]\n",
    "\n",
    "#--- (end)---\n",
    "\n",
    "        \n",
    "# to toech tensor\n",
    "y_tr = torch.from_numpy(y_tr).float().to(device)\n",
    "y_va = torch.from_numpy(y_va).float().to(device)\n",
    "\n",
    "print(X_tr.shape, y_tr.shape)\n",
    "print(X_va.shape, y_va.shape)\n"
   ]
  },
  {
   "cell_type": "code",
   "execution_count": 3,
   "metadata": {},
   "outputs": [
    {
     "data": {
      "text/plain": [
       "(array([9.8677e+04, 3.3392e+04, 3.6991e+04, 2.0696e+04, 9.4000e+03,\n",
       "        3.3840e+03, 1.0410e+03, 3.2400e+02, 5.7000e+01, 3.8000e+01]),\n",
       " array([0.        , 0.01648412, 0.03296825, 0.04945238, 0.0659365 ,\n",
       "        0.08242062, 0.09890475, 0.11538888, 0.131873  , 0.14835712,\n",
       "        0.16484125], dtype=float32),\n",
       " <BarContainer object of 10 artists>)"
      ]
     },
     "execution_count": 3,
     "metadata": {},
     "output_type": "execute_result"
    },
    {
     "data": {
      "image/png": "[encoded data removed]",
      "text/plain": [
       "<Figure size 432x288 with 1 Axes>"
      ]
     },
     "metadata": {
      "needs_background": "light"
     },
     "output_type": "display_data"
    }
   ],
   "source": [
    "plt.hist(y_tr.numpy().flatten())"
   ]
  },
  {
   "cell_type": "markdown",
   "metadata": {},
   "source": [
    "## unfolded sca pipeline"
   ]
  },
  {
   "cell_type": "code",
   "execution_count": 10,
   "metadata": {
    "scrolled": true
   },
   "outputs": [
    {
     "name": "stdout",
     "output_type": "stream",
     "text": [
      "2020-12-27 17:21:27 | torch.Size([25500, 21]) torch.Size([25500, 21]) torch.Size([25500, 4]) torch.Size([25500, 4])\n",
      "2020-12-27 17:21:27 | 1-fold: train opt wsee 7.876275 / val opt wsee 7.827026 / test opt wsee 9.227342\n",
      "2020-12-27 17:21:27 | 14952\n"
     ]
    },
    {
     "data": {
      "application/vnd.jupyter.widget-view+json": {
       "model_id": "b46d52f731df4bdea5c1b5d5e8894fd7",
       "version_major": 2,
       "version_minor": 0
      },
      "text/plain": [
       "HBox(children=(FloatProgress(value=0.0, description='1-th fold:', max=200.0, style=ProgressStyle(description_w…"
      ]
     },
     "metadata": {},
     "output_type": "display_data"
    },
    {
     "name": "stdout",
     "output_type": "stream",
     "text": [
      "2020-12-27 17:21:28 | 0: train loss 0.195922 / val loss 0.008060 / test loss 0.005307\n",
      "2020-12-27 17:21:28 | 0: train wsee 4.655436 / val wsee 4.992714 / test wsee 5.169072 2020-12-27 17:21:28 | *\n",
      "\n"
     ]
    },
    {
     "ename": "KeyboardInterrupt",
     "evalue": "",
     "output_type": "error",
     "traceback": [
      "\u001b[0;31m-------------------------------------------------------------------------\u001b[0m",
      "\u001b[0;31mKeyboardInterrupt\u001b[0m                       Traceback (most recent call last)",
      "\u001b[0;32m<ipython-input-10-ef0e963b9d1a>\u001b[0m in \u001b[0;36m<module>\u001b[0;34m\u001b[0m\n\u001b[1;32m     94\u001b[0m             \u001b[0mx\u001b[0m \u001b[0;34m=\u001b[0m \u001b[0mX_train\u001b[0m\u001b[0;34m[\u001b[0m\u001b[0mperm_i\u001b[0m\u001b[0;34m[\u001b[0m\u001b[0mi_s\u001b[0m\u001b[0;34m:\u001b[0m\u001b[0mi_e\u001b[0m\u001b[0;34m]\u001b[0m\u001b[0;34m]\u001b[0m\u001b[0;34m\u001b[0m\u001b[0;34m\u001b[0m\u001b[0m\n\u001b[1;32m     95\u001b[0m \u001b[0;34m\u001b[0m\u001b[0m\n\u001b[0;32m---> 96\u001b[0;31m             \u001b[0my_pred\u001b[0m\u001b[0;34m,\u001b[0m \u001b[0mgamma\u001b[0m \u001b[0;34m=\u001b[0m \u001b[0mmodel\u001b[0m\u001b[0;34m(\u001b[0m\u001b[0mx\u001b[0m\u001b[0;34m)\u001b[0m\u001b[0;34m\u001b[0m\u001b[0;34m\u001b[0m\u001b[0m\n\u001b[0m\u001b[1;32m     97\u001b[0m \u001b[0;34m\u001b[0m\u001b[0m\n\u001b[1;32m     98\u001b[0m             \u001b[0mmse\u001b[0m \u001b[0;34m=\u001b[0m \u001b[0mtorch\u001b[0m\u001b[0;34m.\u001b[0m\u001b[0mmean\u001b[0m\u001b[0;34m(\u001b[0m\u001b[0;34m(\u001b[0m\u001b[0my_pred\u001b[0m\u001b[0;34m-\u001b[0m\u001b[0my_true\u001b[0m\u001b[0;34m)\u001b[0m\u001b[0;34m**\u001b[0m\u001b[0;36m2\u001b[0m\u001b[0;34m,\u001b[0m \u001b[0mdim\u001b[0m\u001b[0;34m=\u001b[0m\u001b[0;36m0\u001b[0m\u001b[0;34m)\u001b[0m\u001b[0;34m\u001b[0m\u001b[0;34m\u001b[0m\u001b[0m\n",
      "\u001b[0;32m/opt/conda/lib/python3.7/site-packages/torch/nn/modules/module.py\u001b[0m in \u001b[0;36m_call_impl\u001b[0;34m(self, *input, **kwargs)\u001b[0m\n\u001b[1;32m    720\u001b[0m             \u001b[0mresult\u001b[0m \u001b[0;34m=\u001b[0m \u001b[0mself\u001b[0m\u001b[0;34m.\u001b[0m\u001b[0m_slow_forward\u001b[0m\u001b[0;34m(\u001b[0m\u001b[0;34m*\u001b[0m\u001b[0minput\u001b[0m\u001b[0;34m,\u001b[0m \u001b[0;34m**\u001b[0m\u001b[0mkwargs\u001b[0m\u001b[0;34m)\u001b[0m\u001b[0;34m\u001b[0m\u001b[0;34m\u001b[0m\u001b[0m\n\u001b[1;32m    721\u001b[0m         \u001b[0;32melse\u001b[0m\u001b[0;34m:\u001b[0m\u001b[0;34m\u001b[0m\u001b[0;34m\u001b[0m\u001b[0m\n\u001b[0;32m--> 722\u001b[0;31m             \u001b[0mresult\u001b[0m \u001b[0;34m=\u001b[0m \u001b[0mself\u001b[0m\u001b[0;34m.\u001b[0m\u001b[0mforward\u001b[0m\u001b[0;34m(\u001b[0m\u001b[0;34m*\u001b[0m\u001b[0minput\u001b[0m\u001b[0;34m,\u001b[0m \u001b[0;34m**\u001b[0m\u001b[0mkwargs\u001b[0m\u001b[0;34m)\u001b[0m\u001b[0;34m\u001b[0m\u001b[0;34m\u001b[0m\u001b[0m\n\u001b[0m\u001b[1;32m    723\u001b[0m         for hook in itertools.chain(\n\u001b[1;32m    724\u001b[0m                 \u001b[0m_global_forward_hooks\u001b[0m\u001b[0;34m.\u001b[0m\u001b[0mvalues\u001b[0m\u001b[0;34m(\u001b[0m\u001b[0;34m)\u001b[0m\u001b[0;34m,\u001b[0m\u001b[0;34m\u001b[0m\u001b[0;34m\u001b[0m\u001b[0m\n",
      "\u001b[0;32m~/deep-EE-opt-master/src/SCA/models_uf.py\u001b[0m in \u001b[0;36mforward\u001b[0;34m(self, x)\u001b[0m\n\u001b[1;32m    267\u001b[0m         \u001b[0mpt_list\u001b[0m\u001b[0;34m,\u001b[0m \u001b[0mgamma_list\u001b[0m \u001b[0;34m=\u001b[0m \u001b[0;34m[\u001b[0m\u001b[0mx\u001b[0m\u001b[0;34m[\u001b[0m\u001b[0;34m...\u001b[0m\u001b[0;34m,\u001b[0m \u001b[0;34m:\u001b[0m\u001b[0mself\u001b[0m\u001b[0;34m.\u001b[0m\u001b[0msize\u001b[0m\u001b[0;34m]\u001b[0m\u001b[0;34m]\u001b[0m\u001b[0;34m,\u001b[0m\u001b[0;34m[\u001b[0m\u001b[0;34m]\u001b[0m\u001b[0;34m\u001b[0m\u001b[0;34m\u001b[0m\u001b[0m\n\u001b[1;32m    268\u001b[0m         \u001b[0;32mfor\u001b[0m \u001b[0mi\u001b[0m\u001b[0;34m,\u001b[0m \u001b[0msca_block\u001b[0m \u001b[0;32min\u001b[0m \u001b[0menumerate\u001b[0m\u001b[0;34m(\u001b[0m\u001b[0mself\u001b[0m\u001b[0;34m.\u001b[0m\u001b[0msca\u001b[0m\u001b[0;34m)\u001b[0m\u001b[0;34m:\u001b[0m\u001b[0;34m\u001b[0m\u001b[0;34m\u001b[0m\u001b[0m\n\u001b[0;32m--> 269\u001b[0;31m             \u001b[0mpt\u001b[0m\u001b[0;34m,\u001b[0m \u001b[0mgamma\u001b[0m \u001b[0;34m=\u001b[0m \u001b[0msca_block\u001b[0m\u001b[0;34m(\u001b[0m\u001b[0mx\u001b[0m\u001b[0;34m,\u001b[0m \u001b[0mconstraints\u001b[0m\u001b[0;34m=\u001b[0m\u001b[0;34m[\u001b[0m\u001b[0;36m0\u001b[0m\u001b[0;34m,\u001b[0m \u001b[0mchannels\u001b[0m\u001b[0;34m[\u001b[0m\u001b[0;34m:\u001b[0m\u001b[0;34m,\u001b[0m\u001b[0;34m-\u001b[0m\u001b[0;36m1\u001b[0m\u001b[0;34m]\u001b[0m\u001b[0;34m]\u001b[0m\u001b[0;34m)\u001b[0m\u001b[0;34m\u001b[0m\u001b[0;34m\u001b[0m\u001b[0m\n\u001b[0m\u001b[1;32m    270\u001b[0m             \u001b[0mpt_list\u001b[0m\u001b[0;34m.\u001b[0m\u001b[0mappend\u001b[0m\u001b[0;34m(\u001b[0m\u001b[0mpt\u001b[0m\u001b[0;34m)\u001b[0m\u001b[0;34m\u001b[0m\u001b[0;34m\u001b[0m\u001b[0m\n\u001b[1;32m    271\u001b[0m             \u001b[0mgamma_list\u001b[0m\u001b[0;34m.\u001b[0m\u001b[0mappend\u001b[0m\u001b[0;34m(\u001b[0m\u001b[0mgamma\u001b[0m\u001b[0;34m)\u001b[0m\u001b[0;34m\u001b[0m\u001b[0;34m\u001b[0m\u001b[0m\n",
      "\u001b[0;32m/opt/conda/lib/python3.7/site-packages/torch/nn/modules/module.py\u001b[0m in \u001b[0;36m_call_impl\u001b[0;34m(self, *input, **kwargs)\u001b[0m\n\u001b[1;32m    720\u001b[0m             \u001b[0mresult\u001b[0m \u001b[0;34m=\u001b[0m \u001b[0mself\u001b[0m\u001b[0;34m.\u001b[0m\u001b[0m_slow_forward\u001b[0m\u001b[0;34m(\u001b[0m\u001b[0;34m*\u001b[0m\u001b[0minput\u001b[0m\u001b[0;34m,\u001b[0m \u001b[0;34m**\u001b[0m\u001b[0mkwargs\u001b[0m\u001b[0;34m)\u001b[0m\u001b[0;34m\u001b[0m\u001b[0;34m\u001b[0m\u001b[0m\n\u001b[1;32m    721\u001b[0m         \u001b[0;32melse\u001b[0m\u001b[0;34m:\u001b[0m\u001b[0;34m\u001b[0m\u001b[0;34m\u001b[0m\u001b[0m\n\u001b[0;32m--> 722\u001b[0;31m             \u001b[0mresult\u001b[0m \u001b[0;34m=\u001b[0m \u001b[0mself\u001b[0m\u001b[0;34m.\u001b[0m\u001b[0mforward\u001b[0m\u001b[0;34m(\u001b[0m\u001b[0;34m*\u001b[0m\u001b[0minput\u001b[0m\u001b[0;34m,\u001b[0m \u001b[0;34m**\u001b[0m\u001b[0mkwargs\u001b[0m\u001b[0;34m)\u001b[0m\u001b[0;34m\u001b[0m\u001b[0;34m\u001b[0m\u001b[0m\n\u001b[0m\u001b[1;32m    723\u001b[0m         for hook in itertools.chain(\n\u001b[1;32m    724\u001b[0m                 \u001b[0m_global_forward_hooks\u001b[0m\u001b[0;34m.\u001b[0m\u001b[0mvalues\u001b[0m\u001b[0;34m(\u001b[0m\u001b[0;34m)\u001b[0m\u001b[0;34m,\u001b[0m\u001b[0;34m\u001b[0m\u001b[0;34m\u001b[0m\u001b[0m\n",
      "\u001b[0;32m~/deep-EE-opt-master/src/SCA/models_uf.py\u001b[0m in \u001b[0;36mforward_learned\u001b[0;34m(self, x, constraints)\u001b[0m\n\u001b[1;32m    131\u001b[0m     \u001b[0;32mdef\u001b[0m \u001b[0mforward_learned\u001b[0m\u001b[0;34m(\u001b[0m\u001b[0mself\u001b[0m\u001b[0;34m,\u001b[0m \u001b[0mx\u001b[0m\u001b[0;34m,\u001b[0m \u001b[0mconstraints\u001b[0m\u001b[0;34m)\u001b[0m\u001b[0;34m:\u001b[0m\u001b[0;34m\u001b[0m\u001b[0;34m\u001b[0m\u001b[0m\n\u001b[1;32m    132\u001b[0m         \u001b[0;31m# optim p2/3\u001b[0m\u001b[0;34m\u001b[0m\u001b[0;34m\u001b[0m\u001b[0;34m\u001b[0m\u001b[0m\n\u001b[0;32m--> 133\u001b[0;31m         \u001b[0mx_sol\u001b[0m \u001b[0;34m=\u001b[0m \u001b[0mself\u001b[0m\u001b[0;34m.\u001b[0m\u001b[0moptim\u001b[0m\u001b[0;34m(\u001b[0m\u001b[0mx\u001b[0m\u001b[0;34m,\u001b[0m \u001b[0mconstraints\u001b[0m\u001b[0;34m)\u001b[0m\u001b[0;34m\u001b[0m\u001b[0;34m\u001b[0m\u001b[0m\n\u001b[0m\u001b[1;32m    134\u001b[0m         \u001b[0;31m# compute gamma\u001b[0m\u001b[0;34m\u001b[0m\u001b[0;34m\u001b[0m\u001b[0;34m\u001b[0m\u001b[0m\n\u001b[1;32m    135\u001b[0m         \u001b[0mgamma\u001b[0m \u001b[0;34m=\u001b[0m \u001b[0mself\u001b[0m\u001b[0;34m.\u001b[0m\u001b[0mgamma\u001b[0m\u001b[0;34m(\u001b[0m\u001b[0mx\u001b[0m\u001b[0;34m,\u001b[0m \u001b[0;34m[\u001b[0m\u001b[0;36m0\u001b[0m\u001b[0;34m,\u001b[0m\u001b[0;36m1\u001b[0m\u001b[0;34m]\u001b[0m\u001b[0;34m)\u001b[0m\u001b[0;34m\u001b[0m\u001b[0;34m\u001b[0m\u001b[0m\n",
      "\u001b[0;32m/opt/conda/lib/python3.7/site-packages/torch/nn/modules/module.py\u001b[0m in \u001b[0;36m_call_impl\u001b[0;34m(self, *input, **kwargs)\u001b[0m\n\u001b[1;32m    720\u001b[0m             \u001b[0mresult\u001b[0m \u001b[0;34m=\u001b[0m \u001b[0mself\u001b[0m\u001b[0;34m.\u001b[0m\u001b[0m_slow_forward\u001b[0m\u001b[0;34m(\u001b[0m\u001b[0;34m*\u001b[0m\u001b[0minput\u001b[0m\u001b[0;34m,\u001b[0m \u001b[0;34m**\u001b[0m\u001b[0mkwargs\u001b[0m\u001b[0;34m)\u001b[0m\u001b[0;34m\u001b[0m\u001b[0;34m\u001b[0m\u001b[0m\n\u001b[1;32m    721\u001b[0m         \u001b[0;32melse\u001b[0m\u001b[0;34m:\u001b[0m\u001b[0;34m\u001b[0m\u001b[0;34m\u001b[0m\u001b[0m\n\u001b[0;32m--> 722\u001b[0;31m             \u001b[0mresult\u001b[0m \u001b[0;34m=\u001b[0m \u001b[0mself\u001b[0m\u001b[0;34m.\u001b[0m\u001b[0mforward\u001b[0m\u001b[0;34m(\u001b[0m\u001b[0;34m*\u001b[0m\u001b[0minput\u001b[0m\u001b[0;34m,\u001b[0m \u001b[0;34m**\u001b[0m\u001b[0mkwargs\u001b[0m\u001b[0;34m)\u001b[0m\u001b[0;34m\u001b[0m\u001b[0;34m\u001b[0m\u001b[0m\n\u001b[0m\u001b[1;32m    723\u001b[0m         for hook in itertools.chain(\n\u001b[1;32m    724\u001b[0m                 \u001b[0m_global_forward_hooks\u001b[0m\u001b[0;34m.\u001b[0m\u001b[0mvalues\u001b[0m\u001b[0;34m(\u001b[0m\u001b[0;34m)\u001b[0m\u001b[0;34m,\u001b[0m\u001b[0;34m\u001b[0m\u001b[0;34m\u001b[0m\u001b[0m\n",
      "\u001b[0;32m~/deep-EE-opt-master/src/SCA/models_uf.py\u001b[0m in \u001b[0;36mforward\u001b[0;34m(self, x, constraints)\u001b[0m\n\u001b[1;32m     90\u001b[0m     \u001b[0;32mdef\u001b[0m \u001b[0mforward\u001b[0m\u001b[0;34m(\u001b[0m\u001b[0mself\u001b[0m\u001b[0;34m,\u001b[0m \u001b[0mx\u001b[0m\u001b[0;34m,\u001b[0m \u001b[0mconstraints\u001b[0m\u001b[0;34m=\u001b[0m\u001b[0;34m[\u001b[0m\u001b[0;36m0\u001b[0m\u001b[0;34m,\u001b[0m\u001b[0;36m1\u001b[0m\u001b[0;34m]\u001b[0m\u001b[0;34m)\u001b[0m\u001b[0;34m:\u001b[0m\u001b[0;34m\u001b[0m\u001b[0;34m\u001b[0m\u001b[0m\n\u001b[1;32m     91\u001b[0m         \u001b[0;32mfor\u001b[0m \u001b[0mi\u001b[0m\u001b[0;34m,\u001b[0m \u001b[0mhidden\u001b[0m \u001b[0;32min\u001b[0m \u001b[0menumerate\u001b[0m\u001b[0;34m(\u001b[0m\u001b[0mself\u001b[0m\u001b[0;34m.\u001b[0m\u001b[0mhidden\u001b[0m\u001b[0;34m)\u001b[0m\u001b[0;34m:\u001b[0m\u001b[0;34m\u001b[0m\u001b[0;34m\u001b[0m\u001b[0m\n\u001b[0;32m---> 92\u001b[0;31m             \u001b[0mx\u001b[0m \u001b[0;34m=\u001b[0m \u001b[0mhidden\u001b[0m\u001b[0;34m(\u001b[0m\u001b[0mx\u001b[0m\u001b[0;34m)\u001b[0m\u001b[0;34m\u001b[0m\u001b[0;34m\u001b[0m\u001b[0m\n\u001b[0m\u001b[1;32m     93\u001b[0m         \u001b[0;31m# scale to range\u001b[0m\u001b[0;34m\u001b[0m\u001b[0;34m\u001b[0m\u001b[0;34m\u001b[0m\u001b[0m\n\u001b[1;32m     94\u001b[0m         \u001b[0mx\u001b[0m \u001b[0;34m=\u001b[0m \u001b[0mscale_to_range\u001b[0m\u001b[0;34m(\u001b[0m\u001b[0mx\u001b[0m\u001b[0;34m,\u001b[0m \u001b[0mconstraints\u001b[0m\u001b[0;34m)\u001b[0m\u001b[0;34m\u001b[0m\u001b[0;34m\u001b[0m\u001b[0m\n",
      "\u001b[0;32m/opt/conda/lib/python3.7/site-packages/torch/nn/modules/module.py\u001b[0m in \u001b[0;36m_call_impl\u001b[0;34m(self, *input, **kwargs)\u001b[0m\n\u001b[1;32m    720\u001b[0m             \u001b[0mresult\u001b[0m \u001b[0;34m=\u001b[0m \u001b[0mself\u001b[0m\u001b[0;34m.\u001b[0m\u001b[0m_slow_forward\u001b[0m\u001b[0;34m(\u001b[0m\u001b[0;34m*\u001b[0m\u001b[0minput\u001b[0m\u001b[0;34m,\u001b[0m \u001b[0;34m**\u001b[0m\u001b[0mkwargs\u001b[0m\u001b[0;34m)\u001b[0m\u001b[0;34m\u001b[0m\u001b[0;34m\u001b[0m\u001b[0m\n\u001b[1;32m    721\u001b[0m         \u001b[0;32melse\u001b[0m\u001b[0;34m:\u001b[0m\u001b[0;34m\u001b[0m\u001b[0;34m\u001b[0m\u001b[0m\n\u001b[0;32m--> 722\u001b[0;31m             \u001b[0mresult\u001b[0m \u001b[0;34m=\u001b[0m \u001b[0mself\u001b[0m\u001b[0;34m.\u001b[0m\u001b[0mforward\u001b[0m\u001b[0;34m(\u001b[0m\u001b[0;34m*\u001b[0m\u001b[0minput\u001b[0m\u001b[0;34m,\u001b[0m \u001b[0;34m**\u001b[0m\u001b[0mkwargs\u001b[0m\u001b[0;34m)\u001b[0m\u001b[0;34m\u001b[0m\u001b[0;34m\u001b[0m\u001b[0m\n\u001b[0m\u001b[1;32m    723\u001b[0m         for hook in itertools.chain(\n\u001b[1;32m    724\u001b[0m                 \u001b[0m_global_forward_hooks\u001b[0m\u001b[0;34m.\u001b[0m\u001b[0mvalues\u001b[0m\u001b[0;34m(\u001b[0m\u001b[0;34m)\u001b[0m\u001b[0;34m,\u001b[0m\u001b[0;34m\u001b[0m\u001b[0;34m\u001b[0m\u001b[0m\n",
      "\u001b[0;32m/opt/conda/lib/python3.7/site-packages/torch/nn/modules/linear.py\u001b[0m in \u001b[0;36mforward\u001b[0;34m(self, input)\u001b[0m\n\u001b[1;32m     89\u001b[0m \u001b[0;34m\u001b[0m\u001b[0m\n\u001b[1;32m     90\u001b[0m     \u001b[0;32mdef\u001b[0m \u001b[0mforward\u001b[0m\u001b[0;34m(\u001b[0m\u001b[0mself\u001b[0m\u001b[0;34m,\u001b[0m \u001b[0minput\u001b[0m\u001b[0;34m:\u001b[0m \u001b[0mTensor\u001b[0m\u001b[0;34m)\u001b[0m \u001b[0;34m->\u001b[0m \u001b[0mTensor\u001b[0m\u001b[0;34m:\u001b[0m\u001b[0;34m\u001b[0m\u001b[0;34m\u001b[0m\u001b[0m\n\u001b[0;32m---> 91\u001b[0;31m         \u001b[0;32mreturn\u001b[0m \u001b[0mF\u001b[0m\u001b[0;34m.\u001b[0m\u001b[0mlinear\u001b[0m\u001b[0;34m(\u001b[0m\u001b[0minput\u001b[0m\u001b[0;34m,\u001b[0m \u001b[0mself\u001b[0m\u001b[0;34m.\u001b[0m\u001b[0mweight\u001b[0m\u001b[0;34m,\u001b[0m \u001b[0mself\u001b[0m\u001b[0;34m.\u001b[0m\u001b[0mbias\u001b[0m\u001b[0;34m)\u001b[0m\u001b[0;34m\u001b[0m\u001b[0;34m\u001b[0m\u001b[0m\n\u001b[0m\u001b[1;32m     92\u001b[0m \u001b[0;34m\u001b[0m\u001b[0m\n\u001b[1;32m     93\u001b[0m     \u001b[0;32mdef\u001b[0m \u001b[0mextra_repr\u001b[0m\u001b[0;34m(\u001b[0m\u001b[0mself\u001b[0m\u001b[0;34m)\u001b[0m \u001b[0;34m->\u001b[0m \u001b[0mstr\u001b[0m\u001b[0;34m:\u001b[0m\u001b[0;34m\u001b[0m\u001b[0;34m\u001b[0m\u001b[0m\n",
      "\u001b[0;32m/opt/conda/lib/python3.7/site-packages/torch/nn/functional.py\u001b[0m in \u001b[0;36mlinear\u001b[0;34m(input, weight, bias)\u001b[0m\n\u001b[1;32m   1672\u001b[0m     \u001b[0;32mif\u001b[0m \u001b[0minput\u001b[0m\u001b[0;34m.\u001b[0m\u001b[0mdim\u001b[0m\u001b[0;34m(\u001b[0m\u001b[0;34m)\u001b[0m \u001b[0;34m==\u001b[0m \u001b[0;36m2\u001b[0m \u001b[0;32mand\u001b[0m \u001b[0mbias\u001b[0m \u001b[0;32mis\u001b[0m \u001b[0;32mnot\u001b[0m \u001b[0;32mNone\u001b[0m\u001b[0;34m:\u001b[0m\u001b[0;34m\u001b[0m\u001b[0;34m\u001b[0m\u001b[0m\n\u001b[1;32m   1673\u001b[0m         \u001b[0;31m# fused op is marginally faster\u001b[0m\u001b[0;34m\u001b[0m\u001b[0;34m\u001b[0m\u001b[0;34m\u001b[0m\u001b[0m\n\u001b[0;32m-> 1674\u001b[0;31m         \u001b[0mret\u001b[0m \u001b[0;34m=\u001b[0m \u001b[0mtorch\u001b[0m\u001b[0;34m.\u001b[0m\u001b[0maddmm\u001b[0m\u001b[0;34m(\u001b[0m\u001b[0mbias\u001b[0m\u001b[0;34m,\u001b[0m \u001b[0minput\u001b[0m\u001b[0;34m,\u001b[0m \u001b[0mweight\u001b[0m\u001b[0;34m.\u001b[0m\u001b[0mt\u001b[0m\u001b[0;34m(\u001b[0m\u001b[0;34m)\u001b[0m\u001b[0;34m)\u001b[0m\u001b[0;34m\u001b[0m\u001b[0;34m\u001b[0m\u001b[0m\n\u001b[0m\u001b[1;32m   1675\u001b[0m     \u001b[0;32melse\u001b[0m\u001b[0;34m:\u001b[0m\u001b[0;34m\u001b[0m\u001b[0;34m\u001b[0m\u001b[0m\n\u001b[1;32m   1676\u001b[0m         \u001b[0moutput\u001b[0m \u001b[0;34m=\u001b[0m \u001b[0minput\u001b[0m\u001b[0;34m.\u001b[0m\u001b[0mmatmul\u001b[0m\u001b[0;34m(\u001b[0m\u001b[0mweight\u001b[0m\u001b[0;34m.\u001b[0m\u001b[0mt\u001b[0m\u001b[0;34m(\u001b[0m\u001b[0;34m)\u001b[0m\u001b[0;34m)\u001b[0m\u001b[0;34m\u001b[0m\u001b[0;34m\u001b[0m\u001b[0m\n",
      "\u001b[0;31mKeyboardInterrupt\u001b[0m: "
     ]
    }
   ],
   "source": [
    "from models_uf import *\n",
    "\n",
    "\n",
    "device = torch.device('cpu')\n",
    "\n",
    "in_size = num_ue**2 + num_ue + 1\n",
    "out_size = num_ue\n",
    "\n",
    "# h_sizes = [128, 64, 32, 16, 8]\n",
    "# activs = ['elu', 'relu', 'elu', 'relu',  'elu']\n",
    "\n",
    "h_sizes = [128, 64, 32, 32, 32, 16, 8]\n",
    "h_sizes = [32, 16, 16, 16, 16, 16, 8]\n",
    "activs = ['elu', 'relu', 'elu', 'relu', 'elu', 'relu',  'elu']\n",
    "\n",
    "k_fold = 2\n",
    "bs = 512\n",
    "num_l = 3 # 1 2 3\n",
    "nepochs = 200\n",
    "learning_rate = 0.001\n",
    "\n",
    "init = 'rand'\n",
    "rseed= 42\n",
    "loss_which= ['mse','wsee'] # wsee, mse\n",
    "architecture = USCA_MLP # USCA_MLP_R, USCA_MLP\n",
    "inner_optim='learned-mlp'\n",
    "\n",
    "mstr = architecture.__name__.replace('_','.')+'+'+inner_optim.replace('-','.')\n",
    "fix='large_%s_kf+%d_bs+%d_nl+%d_lr+%2e_pinit+%s_loss+%s_rseed+%d'%(\n",
    "    mstr, k_fold, bs, num_l, learning_rate, init, '+'.join(loss_which), rseed)\n",
    "\n",
    "save_dir = './results/%s/'%fix\n",
    "if not os.path.isdir(save_dir):\n",
    "    os.mkdir(save_dir)\n",
    "\n",
    "\n",
    "from sklearn.model_selection import StratifiedKFold\n",
    "\n",
    "skf = StratifiedKFold(n_splits=k_fold, shuffle=True, random_state=rseed)\n",
    "tr_loss, va_loss, te_loss = {},{},{}\n",
    "tr_wsee, va_wsee, te_wsee = {},{},{}\n",
    "tr_wsee_opt, va_wsee_opt, te_wsee_opt = {},{},{}\n",
    "\n",
    "# add initial pt (max)\n",
    "X_tr_ = torch.from_numpy(np.hstack((init_p(X_tr[:,-1], num_ue, method=init), X_tr))).float().to(device)\n",
    "X_va_ = torch.from_numpy(np.hstack((init_p(X_va[:,-1], num_ue, method=init), X_va))).float().to(device)\n",
    "\n",
    "for k, (train_index, valid_index) in enumerate(skf.split(X_tr, np.asarray([True]*y_tr.shape[0]))):\n",
    "    # clear cache\n",
    "    torch.cuda.empty_cache()\n",
    "    X_train, y_train, X_valid, y_valid, X_test, y_test, model = [None for _ in range(7)]\n",
    "    gc.collect()\n",
    "#     if k<1:\n",
    "#         continue\n",
    "#     # k fold cross validation\n",
    "    \n",
    "    X_train, y_train = X_tr_[train_index], y_tr[train_index]\n",
    "    X_valid, y_valid = X_tr_[valid_index], y_tr[valid_index]\n",
    "    X_test, y_test   = X_va_[valid_index], y_va[valid_index]\n",
    "    \n",
    "    print(X_train.shape, X_valid.shape, y_train.shape, y_valid.shape)\n",
    "    \n",
    "    tr_loss[k], va_loss[k], te_loss[k] = [],[],[]\n",
    "    tr_wsee[k], va_wsee[k], te_wsee[k] = [],[],[]\n",
    "    tr_wsee_opt[k] = f_wsee_torch(y_train, X_train, mu, Pc, 'mean').item()\n",
    "    va_wsee_opt[k] = f_wsee_torch(y_valid, X_valid, mu, Pc, 'mean').item()\n",
    "    te_wsee_opt[k] = f_wsee_torch(y_test, X_test, mu, Pc, 'mean').item()\n",
    "    \n",
    "    print('%d-fold: train opt wsee %.6f / val opt wsee %.6f / test opt wsee %.6f'%(\n",
    "            k+1, tr_wsee_opt[k], va_wsee_opt[k], te_wsee_opt[k]))\n",
    "    \n",
    "    \n",
    "    model = architecture(num_l, in_size, out_size, h_sizes, activs=activs, channel_info={'mu':mu, 'Pc':Pc},\n",
    "                     dropout=0, inner_optim='learned-mlp').to(device)\n",
    "    print(count_parameters(model))\n",
    "    opt = torch.optim.Adam(model.parameters(), lr=learning_rate)\n",
    "#     opt = torch.optim.SGD(model.parameters(), lr=learning_rate)\n",
    "    \n",
    "#     raise\n",
    "    \n",
    "    \n",
    "    best_wsee = 0\n",
    "    \n",
    "    for epoch in trange(nepochs, desc='%d-th fold:'%(k+1)):\n",
    "        model.train()\n",
    "        perm_i = np.random.permutation(y_train.shape[0])\n",
    "\n",
    "        running_loss, running_wsee = 0,0\n",
    "        for i in range(len(perm_i)//bs):\n",
    "\n",
    "            i_s, i_e = i*bs, (i+1)*bs\n",
    "\n",
    "            y_true = y_train[perm_i[i_s:i_e]]\n",
    "            x = X_train[perm_i[i_s:i_e]]\n",
    "\n",
    "            y_pred, gamma = model(x)\n",
    "            \n",
    "            mse = torch.mean((y_pred-y_true)**2, dim=0)\n",
    "            wsee = f_wsee_torch(y_pred, x, mu, Pc, 'vector')\n",
    "\n",
    "            loss = 0\n",
    "            if 'mse' in loss_which:\n",
    "                loss += mse\n",
    "            if 'wsee' in loss_which:\n",
    "                loss -= wsee\n",
    "\n",
    "            opt.zero_grad()\n",
    "            loss.backward(torch.ones(num_ue).to(device)) #vector loss\n",
    "        \n",
    "            torch.nn.utils.clip_grad_norm_(model.parameters(), 1)\n",
    "            opt.step()    \n",
    "\n",
    "            running_loss += torch.mean(mse).item()\n",
    "            running_wsee += torch.mean(wsee).item()*num_ue\n",
    "\n",
    "#             if not i%100:\n",
    "#                 print('%d:%d/%d'%(epoch,i,y_tr.shape[0]), torch.mean(loss).item())\n",
    "        tr_loss[k].append(running_loss/(i+1))\n",
    "        tr_wsee[k].append(running_wsee/(i+1))\n",
    "\n",
    "        model.eval()\n",
    "        # validation\n",
    "        yp_valid, gamma = model( X_valid )        \n",
    "        vloss = torch.mean((yp_valid[-1]-y_valid)**2).item()\n",
    "        vobj = f_wsee_torch(yp_valid[-1], X_valid, mu, Pc, 'mean').item()\n",
    "        va_loss[k].append(vloss) \n",
    "        va_wsee[k].append(vobj) \n",
    "\n",
    "        # test\n",
    "        yp_test, gamma = model( X_test )\n",
    "        tloss = torch.mean((yp_test[-1]-y_test)**2).item()\n",
    "        tobj = f_wsee_torch(yp_test[-1], X_test, mu, Pc, 'mean').item()\n",
    "        te_loss[k].append(tloss) \n",
    "        te_wsee[k].append(tobj)      \n",
    "\n",
    "        print('%d: train loss %.6f / val loss %.6f / test loss %.6f'%(\n",
    "            epoch, tr_loss[k][-1], va_loss[k][-1], te_loss[k][-1]))\n",
    "        print('%d: train wsee %.6f / val wsee %.6f / test wsee %.6f'%(\n",
    "            epoch, tr_wsee[k][-1], va_wsee[k][-1], te_wsee[k][-1]), end=' ') \n",
    "        \n",
    "        # save \n",
    "        if va_wsee[k][-1] > best_wsee:\n",
    "            best_wsee = va_wsee[k][-1]\n",
    "            torch.save(model, './results/%s.%df.%dep.pt'%(fix, k, epoch))\n",
    "            print('*')\n",
    "        else:\n",
    "            print()\n",
    "        \n",
    "        \n",
    "#     break\n",
    "\n",
    "\n"
   ]
  },
  {
   "cell_type": "code",
   "execution_count": 12,
   "metadata": {},
   "outputs": [
    {
     "data": {
      "text/plain": [
       "4"
      ]
     },
     "execution_count": 12,
     "metadata": {},
     "output_type": "execute_result"
    }
   ],
   "source": [
    "len(yy)"
   ]
  },
  {
   "cell_type": "code",
   "execution_count": 62,
   "metadata": {
    "scrolled": false
   },
   "outputs": [
    {
     "ename": "TypeError",
     "evalue": "forward() missing 2 required positional arguments: 'edge_index' and 'edge_weights'",
     "output_type": "error",
     "traceback": [
      "\u001b[0;31m-------------------------------------------------------------------------\u001b[0m",
      "\u001b[0;31mTypeError\u001b[0m                               Traceback (most recent call last)",
      "\u001b[0;32m<ipython-input-62-fa0c2256b525>\u001b[0m in \u001b[0;36m<module>\u001b[0;34m\u001b[0m\n\u001b[0;32m----> 1\u001b[0;31m \u001b[0myy\u001b[0m\u001b[0;34m,\u001b[0m \u001b[0mgg\u001b[0m \u001b[0;34m=\u001b[0m \u001b[0mmodel\u001b[0m\u001b[0;34m(\u001b[0m\u001b[0mX_valid\u001b[0m\u001b[0;34m)\u001b[0m\u001b[0;34m\u001b[0m\u001b[0;34m\u001b[0m\u001b[0m\n\u001b[0m\u001b[1;32m      2\u001b[0m \u001b[0my_diff\u001b[0m \u001b[0;34m=\u001b[0m \u001b[0;34m[\u001b[0m\u001b[0myy\u001b[0m\u001b[0;34m[\u001b[0m\u001b[0mi\u001b[0m\u001b[0;34m+\u001b[0m\u001b[0;36m1\u001b[0m\u001b[0;34m]\u001b[0m \u001b[0;34m-\u001b[0m \u001b[0my_valid\u001b[0m \u001b[0;32mfor\u001b[0m \u001b[0mi\u001b[0m \u001b[0;32min\u001b[0m \u001b[0mrange\u001b[0m\u001b[0;34m(\u001b[0m\u001b[0;36m3\u001b[0m\u001b[0;34m)\u001b[0m\u001b[0;34m]\u001b[0m\u001b[0;34m\u001b[0m\u001b[0;34m\u001b[0m\u001b[0m\n\u001b[1;32m      3\u001b[0m \u001b[0;34m\u001b[0m\u001b[0m\n\u001b[1;32m      4\u001b[0m \u001b[0mfig\u001b[0m\u001b[0;34m,\u001b[0m \u001b[0max\u001b[0m \u001b[0;34m=\u001b[0m \u001b[0mplt\u001b[0m\u001b[0;34m.\u001b[0m\u001b[0msubplots\u001b[0m\u001b[0;34m(\u001b[0m\u001b[0;36m1\u001b[0m\u001b[0;34m,\u001b[0m\u001b[0;36m3\u001b[0m\u001b[0;34m,\u001b[0m\u001b[0mfigsize\u001b[0m\u001b[0;34m=\u001b[0m\u001b[0;34m(\u001b[0m\u001b[0;36m15\u001b[0m\u001b[0;34m,\u001b[0m\u001b[0;36m3\u001b[0m\u001b[0;34m)\u001b[0m\u001b[0;34m,\u001b[0m \u001b[0mdpi\u001b[0m\u001b[0;34m=\u001b[0m\u001b[0;36m200\u001b[0m\u001b[0;34m)\u001b[0m\u001b[0;34m\u001b[0m\u001b[0;34m\u001b[0m\u001b[0m\n\u001b[1;32m      5\u001b[0m \u001b[0;34m\u001b[0m\u001b[0m\n",
      "\u001b[0;32m/opt/conda/lib/python3.7/site-packages/torch/nn/modules/module.py\u001b[0m in \u001b[0;36m_call_impl\u001b[0;34m(self, *input, **kwargs)\u001b[0m\n\u001b[1;32m    720\u001b[0m             \u001b[0mresult\u001b[0m \u001b[0;34m=\u001b[0m \u001b[0mself\u001b[0m\u001b[0;34m.\u001b[0m\u001b[0m_slow_forward\u001b[0m\u001b[0;34m(\u001b[0m\u001b[0;34m*\u001b[0m\u001b[0minput\u001b[0m\u001b[0;34m,\u001b[0m \u001b[0;34m**\u001b[0m\u001b[0mkwargs\u001b[0m\u001b[0;34m)\u001b[0m\u001b[0;34m\u001b[0m\u001b[0;34m\u001b[0m\u001b[0m\n\u001b[1;32m    721\u001b[0m         \u001b[0;32melse\u001b[0m\u001b[0;34m:\u001b[0m\u001b[0;34m\u001b[0m\u001b[0;34m\u001b[0m\u001b[0m\n\u001b[0;32m--> 722\u001b[0;31m             \u001b[0mresult\u001b[0m \u001b[0;34m=\u001b[0m \u001b[0mself\u001b[0m\u001b[0;34m.\u001b[0m\u001b[0mforward\u001b[0m\u001b[0;34m(\u001b[0m\u001b[0;34m*\u001b[0m\u001b[0minput\u001b[0m\u001b[0;34m,\u001b[0m \u001b[0;34m**\u001b[0m\u001b[0mkwargs\u001b[0m\u001b[0;34m)\u001b[0m\u001b[0;34m\u001b[0m\u001b[0;34m\u001b[0m\u001b[0m\n\u001b[0m\u001b[1;32m    723\u001b[0m         for hook in itertools.chain(\n\u001b[1;32m    724\u001b[0m                 \u001b[0m_global_forward_hooks\u001b[0m\u001b[0;34m.\u001b[0m\u001b[0mvalues\u001b[0m\u001b[0;34m(\u001b[0m\u001b[0;34m)\u001b[0m\u001b[0;34m,\u001b[0m\u001b[0;34m\u001b[0m\u001b[0;34m\u001b[0m\u001b[0m\n",
      "\u001b[0;31mTypeError\u001b[0m: forward() missing 2 required positional arguments: 'edge_index' and 'edge_weights'"
     ]
    }
   ],
   "source": [
    "yy, gg = model(X_valid)\n",
    "y_diff = [yy[i+1] - y_valid for i in range(3)]\n",
    "\n",
    "fig, ax = plt.subplots(1,3,figsize=(15,3), dpi=200)\n",
    "\n",
    "for i in range(len(y_diff)):\n",
    "    ax[i].plot(y_diff[i].detach().numpy(), gg[i].detach().numpy(),'.', alpha=1)\n",
    "    ax[i].set_title('@ output of unfolded sca block #%d'%(i+1))\n",
    "    ax[i].set_xlabel('pt_diff ( = pt_%d - pt_opt)'%(i+1))\n",
    "    ax[i].set_ylabel('gamma_%d'%(i+1))\n",
    "plt.show()\n",
    "\n",
    "##\n",
    "\n",
    "plt.figure(figsize=(10,2), dpi=200)\n",
    "\n",
    "plt.subplot(131)\n",
    "plt.hist(y_valid.numpy())#, bins=30)\n",
    "plt.yscale('log')\n",
    "plt.title('pt valid (opt)')\n",
    "\n",
    "plt.subplot(132)\n",
    "yyy = deepcopy(yy[-1].detach().numpy())\n",
    "# yyy[yyy>1.6]=0\n",
    "plt.hist(yyy)#, bins=30)\n",
    "plt.yscale('log')\n",
    "plt.title('pt valid (prediction)')\n",
    "\n",
    "ggg = deepcopy(np.array([gi.detach().numpy() for gi in gg]))\n",
    "plt.subplot(133)\n",
    "plt.hist(ggg.reshape(-1,ggg.shape[-1]))#, bins=30)\n",
    "plt.yscale('log')\n",
    "plt.title('gamma')\n",
    "\n",
    "plt.show()\n",
    "\n",
    "yyy,ggg = None, None\n",
    "gc.collect()"
   ]
  },
  {
   "cell_type": "code",
   "execution_count": 10,
   "metadata": {},
   "outputs": [],
   "source": [
    "moel = torch.save(model, './results/%s.%df.%dep.pt'%(fix, k, epoch))\n"
   ]
  },
  {
   "cell_type": "code",
   "execution_count": 42,
   "metadata": {},
   "outputs": [
    {
     "data": {
      "text/plain": [
       "(7.338975429534912, 7.383155822753906)"
      ]
     },
     "execution_count": 42,
     "metadata": {},
     "output_type": "execute_result"
    }
   ],
   "source": [
    "va_wsee[k][-1], va_wsee[k][-2]"
   ]
  },
  {
   "cell_type": "code",
   "execution_count": 90,
   "metadata": {},
   "outputs": [
    {
     "data": {
      "text/plain": [
       "'./results/large_USCA.MLP+learned.mlp_kf+2_bs+512_nl+3_lr+1.000000e-03_pinit+rand_loss+mse+wsee_rseed+42/log.2fcv.json'"
      ]
     },
     "execution_count": 90,
     "metadata": {},
     "output_type": "execute_result"
    }
   ],
   "source": [
    "import os\n",
    "import json\n",
    "\n",
    "list_to_save = ['tr_loss', 'va_loss', 'te_loss', 'tr_wsee', 'va_wsee', 'te_wsee']\n",
    "\n",
    "save_dir = './results/%s/'%fix\n",
    "if not os.path.isdir(save_dir):\n",
    "    os.mkdir(save_dir)\n",
    "\n",
    "save_name  = save_dir+'log.%dfcv.json'%k_fold\n",
    "with open(save_name, 'w') as fp:\n",
    "    evals = {'tr_loss':tr_loss, 'va_loss':va_loss, 'te_loss':te_loss, \n",
    "             'tr_wsee':tr_wsee, 'va_wsee':va_wsee, 'te_wsee':te_wsee}\n",
    "    json.dump(evals, fp)\n",
    "    \n",
    "save_name"
   ]
  },
  {
   "cell_type": "code",
   "execution_count": 61,
   "metadata": {},
   "outputs": [
    {
     "data": {
      "image/png": "[encoded data removed]",
      "text/plain": [
       "<Figure size 1200x600 with 1 Axes>"
      ]
     },
     "metadata": {
      "needs_background": "light"
     },
     "output_type": "display_data"
    }
   ],
   "source": [
    "\n",
    "plt.figure(figsize=(6,3),  dpi=200)\n",
    "\n",
    "for ph, loss in zip([\"train\", \"valid\", \"test\"],[tr_loss1, va_loss1, te_loss1]):\n",
    "\n",
    "    m = np.mean(list(loss.values()),0)\n",
    "    e = np.std(list(loss.values()),0)\n",
    "\n",
    "    plt.plot(range(epoch+1), m, '-', linewidth=1, label='%s loss'%ph)\n",
    "    plt.fill_between(range(epoch+1), m-e, m+e,\n",
    "        alpha=.5, #edgecolor='#3F7F4C', facecolor='#7EFF99',\n",
    "        linewidth=0, label=None)\n",
    "\n",
    "plt.xlabel('epochs')\n",
    "plt.ylabel('mse')\n",
    "plt.legend()\n",
    "\n",
    "plt.yscale('log')\n",
    "# plt.xscale('log')\n",
    "plt.title('Train and validated channels w/o SF, tested w/ SF')\n",
    "\n",
    "plt.show()"
   ]
  },
  {
   "cell_type": "code",
   "execution_count": 62,
   "metadata": {
    "scrolled": false
   },
   "outputs": [
    {
     "ename": "NameError",
     "evalue": "name 'va_wsee_opt' is not defined",
     "output_type": "error",
     "traceback": [
      "\u001b[0;31m-------------------------------------------------------------------------\u001b[0m",
      "\u001b[0;31mNameError\u001b[0m                               Traceback (most recent call last)",
      "\u001b[0;32m<ipython-input-62-96cdb3f5c4f4>\u001b[0m in \u001b[0;36m<module>\u001b[0;34m\u001b[0m\n\u001b[1;32m     15\u001b[0m         linewidth=0, label=None)\n\u001b[1;32m     16\u001b[0m \u001b[0;34m\u001b[0m\u001b[0m\n\u001b[0;32m---> 17\u001b[0;31m \u001b[0mplt\u001b[0m\u001b[0;34m.\u001b[0m\u001b[0mplot\u001b[0m\u001b[0;34m(\u001b[0m\u001b[0;34m[\u001b[0m\u001b[0;36m0\u001b[0m\u001b[0;34m,\u001b[0m \u001b[0mepoch\u001b[0m\u001b[0;34m]\u001b[0m\u001b[0;34m,\u001b[0m \u001b[0;34m[\u001b[0m\u001b[0mva_wsee_opt\u001b[0m\u001b[0;34m[\u001b[0m\u001b[0;36m0\u001b[0m\u001b[0;34m]\u001b[0m\u001b[0;34m]\u001b[0m\u001b[0;34m*\u001b[0m\u001b[0;36m2\u001b[0m\u001b[0;34m,\u001b[0m \u001b[0;34m'--'\u001b[0m\u001b[0;34m,\u001b[0m \u001b[0mlinewidth\u001b[0m\u001b[0;34m=\u001b[0m\u001b[0;36m1\u001b[0m\u001b[0;34m,\u001b[0m \u001b[0mlabel\u001b[0m\u001b[0;34m=\u001b[0m\u001b[0;34m'val/train wsee (opt)'\u001b[0m\u001b[0;34m,\u001b[0m\u001b[0mcolor\u001b[0m\u001b[0;34m=\u001b[0m\u001b[0mcolors\u001b[0m\u001b[0;34m[\u001b[0m\u001b[0;36m1\u001b[0m\u001b[0;34m]\u001b[0m\u001b[0;34m)\u001b[0m\u001b[0;34m\u001b[0m\u001b[0;34m\u001b[0m\u001b[0m\n\u001b[0m\u001b[1;32m     18\u001b[0m \u001b[0mplt\u001b[0m\u001b[0;34m.\u001b[0m\u001b[0mplot\u001b[0m\u001b[0;34m(\u001b[0m\u001b[0;34m[\u001b[0m\u001b[0;36m0\u001b[0m\u001b[0;34m,\u001b[0m \u001b[0mepoch\u001b[0m\u001b[0;34m]\u001b[0m\u001b[0;34m,\u001b[0m \u001b[0;34m[\u001b[0m\u001b[0mte_wsee_opt\u001b[0m\u001b[0;34m[\u001b[0m\u001b[0;36m0\u001b[0m\u001b[0;34m]\u001b[0m\u001b[0;34m]\u001b[0m\u001b[0;34m*\u001b[0m\u001b[0;36m2\u001b[0m\u001b[0;34m,\u001b[0m \u001b[0;34m'--'\u001b[0m\u001b[0;34m,\u001b[0m \u001b[0mlinewidth\u001b[0m\u001b[0;34m=\u001b[0m\u001b[0;36m1\u001b[0m\u001b[0;34m,\u001b[0m \u001b[0mlabel\u001b[0m\u001b[0;34m=\u001b[0m\u001b[0;34m'test opt wsee (opt)'\u001b[0m\u001b[0;34m,\u001b[0m\u001b[0mcolor\u001b[0m\u001b[0;34m=\u001b[0m\u001b[0mcolors\u001b[0m\u001b[0;34m[\u001b[0m\u001b[0;36m2\u001b[0m\u001b[0;34m]\u001b[0m\u001b[0;34m)\u001b[0m\u001b[0;34m\u001b[0m\u001b[0;34m\u001b[0m\u001b[0m\n\u001b[1;32m     19\u001b[0m \u001b[0;34m\u001b[0m\u001b[0m\n",
      "\u001b[0;31mNameError\u001b[0m: name 'va_wsee_opt' is not defined"
     ]
    },
    {
     "data": {
      "image/png": "[encoded data removed]",
      "text/plain": [
       "<Figure size 1200x600 with 1 Axes>"
      ]
     },
     "metadata": {
      "needs_background": "light"
     },
     "output_type": "display_data"
    }
   ],
   "source": [
    "colors = plt.rcParams['axes.prop_cycle'].by_key()['color']\n",
    "\n",
    "plt.figure(figsize=(6,3),  dpi=200)\n",
    "\n",
    "# for i, (ph, loss) in enumerate(zip([\"train\", \"valid\", \"test\"],[tr_loss, va_loss, te_loss])):\n",
    "for i, (ph, loss) in enumerate(zip([\"train\", \"valid\", \"test\"],[tr_wsee1, va_wsee1, te_wsee1])):\n",
    "\n",
    "#     plt.plot(range(epoch+1), list(loss.values())[-1], '-', linewidth=1, label='%s wsee'%ph, color=colors[i])\n",
    "    m = np.mean(list(loss.values()),0)\n",
    "    e = np.std(list(loss.values()),0)\n",
    "\n",
    "    plt.plot(range(epoch+1), m, '-', linewidth=1, label='%s wsee'%ph, color=colors[i])\n",
    "    plt.fill_between(range(epoch+1), m-e, m+e,\n",
    "        alpha=.5, #edgecolor='#3F7F4C', facecolor='#7EFF99',\n",
    "        linewidth=0, label=None)\n",
    "\n",
    "plt.plot([0, epoch], [va_wsee_opt[0]]*2, '--', linewidth=1, label='val/train wsee (opt)',color=colors[1])\n",
    "plt.plot([0, epoch], [te_wsee_opt[0]]*2, '--', linewidth=1, label='test opt wsee (opt)',color=colors[2])\n",
    "\n",
    "\n",
    "\n",
    "plt.xlabel('epochs')\n",
    "plt.ylabel('wsee')\n",
    "# plt.legend()\n",
    "\n",
    "# plt.yscale('log')\n",
    "# plt.xscale('log')\n",
    "plt.title('Train and validated channels w/o SF, tested w/ SF')\n",
    "\n",
    "plt.show()"
   ]
  },
  {
   "cell_type": "code",
   "execution_count": null,
   "metadata": {},
   "outputs": [],
   "source": []
  },
  {
   "cell_type": "code",
   "execution_count": null,
   "metadata": {},
   "outputs": [],
   "source": [
    "it_count1  = []\n",
    "\n",
    "def SCA(h, mu, Pc, Pmax, pt = None, MaxIter = 10000, SolverMaxIter = 1000,\n",
    "         parm_alpha = 1e-8, parm_beta = 0.01, \n",
    "         RelTolFun = 1e-12, RelTolVal = 1e-12, InnerOpt='sgd'):\n",
    "    \"\"\"\n",
    "    InnerOpt: sgd, cvx, ...\n",
    "    Init    : last, full, ...\n",
    "    \"\"\"\n",
    "\n",
    "    if pt is None:\n",
    "        pt = np.full(h.shape[-1], Pmax)\n",
    "\n",
    "    def f(p): # verified\n",
    "        s = h * p # (4,4) * (4,) --> (4,4)\n",
    "        \n",
    "        direct = np.diag(s)\n",
    "        ifn = 1 + np.sum(s, axis=-1) - direct\n",
    "        rates = np.log(1+direct/ifn)\n",
    "        ee = rates / (mu * p + Pc)\n",
    "\n",
    "        return np.sum(ee)\n",
    "\n",
    "    def gradr(p): # verified\n",
    "        s = h * p\n",
    "        tmp = 1 + np.sum(s, axis=-1) # 1 + sum beta + a\n",
    "        tmp2 = tmp - np.diag(s)\n",
    "        fac = np.diag(s) / (tmp * tmp2)\n",
    "        \n",
    "        grad = h.copy()      \n",
    "        grad = -(fac * grad.T).T\n",
    "    \n",
    "        grad[np.diag_indices_from(grad)] = 1/tmp * np.diag(h)#tmp2/(tmp*tmp2) * np.diag(h)\n",
    "\n",
    "        return grad\n",
    "\n",
    "    def gradf(p): # verified\n",
    "        tmp = 1 / (mu * p + Pc)\n",
    "        gr = gradr(p)\n",
    "        \n",
    "        t1 = np.sum((gr.T * tmp).T, axis=0)\n",
    "\n",
    "        s = h * p\n",
    "        direct = np.diag(s)\n",
    "        ifn = 1 + np.sum(s, axis=-1) - direct\n",
    "        rates = np.log(1+direct/ifn)\n",
    "        \n",
    "        t2 = mu * rates * tmp**2\n",
    "\n",
    "        return t1 - t2\n",
    "\n",
    "    # gradient step parameter\n",
    "    if InnerOpt.lower() == \"sgd\":\n",
    "        inner_opt = inner_optim_sgd\n",
    "        kargws = {\"learning_rate\":.1}\n",
    "        \n",
    "    elif InnerOpt.lower() == \"cvx\":\n",
    "        inner_opt = inner_optim_cvx\n",
    "        kargws = {\"verbose\": False}\n",
    "        \n",
    "    else:\n",
    "        raise NotImplemented\n",
    "        \n",
    "        \n",
    "    OBJ, PT = [f(pt)],[pt]\n",
    "    cnt = 0\n",
    "    while True:\n",
    "                \n",
    "        cnt += 1\n",
    "        pvar = inner_opt(pt, h, Pmax, Pc, mu, eps=1e-8, max_iters=SolverMaxIter, **kargws)\n",
    "                \n",
    "        # calculate gradient step\n",
    "        Bpt = pvar - pt\n",
    "        gamma = 1\n",
    "\n",
    "        old_obj = f(pt)\n",
    "        old_pt = pt\n",
    "        while f(pt + gamma * Bpt) < old_obj + parm_alpha * gamma * gradf(pt) @ Bpt:\n",
    "            gamma *= parm_beta\n",
    "\n",
    "#         pt = np.clip(gamma * Bpt + pt, 0, Pmax)\n",
    "        pt += gamma * Bpt\n",
    "        obj = f(pt)\n",
    "        \n",
    "        OBJ.append(obj)\n",
    "        PT.append(pt)\n",
    "\n",
    "        with np.errstate(divide='ignore'):\n",
    "            if abs(obj/old_obj - 1) < RelTolFun and np.linalg.norm(pt-old_pt, np.inf) / np.linalg.norm(pt, np.inf) < RelTolVal:\n",
    "                break\n",
    "        \n",
    "        if cnt > MaxIter:\n",
    "            print('MaxIter')\n",
    "            break\n",
    "\n",
    "    it_count1.append(cnt)\n",
    "    return (OBJ, PT)"
   ]
  },
  {
   "cell_type": "code",
   "execution_count": null,
   "metadata": {},
   "outputs": [],
   "source": [
    "it_count1"
   ]
  },
  {
   "cell_type": "code",
   "execution_count": null,
   "metadata": {
    "scrolled": true
   },
   "outputs": [],
   "source": [
    "\n",
    "num_ue = 7\n",
    "mu = 4\n",
    "Pc = 1\n",
    "\n",
    "INITS = ['last','full']#,'rand']\n",
    "OPTIM = ['sgd', 'cvx']\n",
    "\n",
    "INNER_MAXIT = [6]#, 2, 5, 10, 15, 20, 35, 50, 100, 150, 200]\n",
    "# outer_maxit = [1, 2, 5, 10, 20, 50, 150]\n",
    "\n",
    "log_outiters = dict(zip(INITS,[[] for _ in INITS]))\n",
    "log_all = dict(zip(OPTIM,[[] for _ in OPTIM]))\n",
    "\n",
    "for opt in OPTIM:\n",
    "    \n",
    "    for im in INNER_MAXIT:\n",
    "\n",
    "        log_monitor = {\n",
    "            'objective':dict(zip(INITS,[[] for _ in INITS])),\n",
    "            'pwr_alloc':dict(zip(INITS,[[] for _ in INITS]))\n",
    "        }\n",
    "\n",
    "\n",
    "        dfn1 = '../../data/wsee%d-processed.h5'%num_ue\n",
    "        with h5py.File(dfn1, \"r\") as f:\n",
    "            PdB = f['input']['PdB'][...] # this is fixed\n",
    "\n",
    "        assert np.allclose(PdB, np.array(range(-30,20+1,1)))\n",
    "        Plin = 10**(np.asarray(PdB/10))\n",
    "\n",
    "        dfn2 = '../../data_my/channels-%d.h5'%num_ue\n",
    "    #     dfn2 = '../../data_my/channels-HataSuburban-%d.h5'%num_ue\n",
    "        with h5py.File(dfn2, \"r\") as f:\n",
    "            # Get the data\n",
    "            data = {k:{kk: v[:] for kk,v in f[k].items()} for k in f.keys()}\n",
    "\n",
    "            Hs = data['input']['channel_to_noise_matched']\n",
    "\n",
    "            for hidx in tqdm([456]):#trange(Hs.shape[0]):#tqdm(np.random.permutation(Hs.shape[0])):\n",
    "\n",
    "                h = Hs[hidx]\n",
    "                pt = None\n",
    "\n",
    "                p_perm = list(range(len(Plin)))#\n",
    "                for pidx in tqdm(p_perm, desc=str(im)):\n",
    "\n",
    "                    p = Plin[pidx]\n",
    "\n",
    "                    O = dict(zip(INITS,[[] for _ in INITS]))\n",
    "                    P = dict(zip(INITS,[[] for _ in INITS]))\n",
    "                    \n",
    "                    for istr in INITS: #['last','full']\n",
    "                        if istr == 'last' and pt is not None:\n",
    "                            p0 = pt\n",
    "                        elif istr == 'full' or pt is None:\n",
    "                            p0 = np.full(num_ue, p)\n",
    "                        else:\n",
    "                            raise NotImplemented\n",
    "                            \n",
    "                        try:\n",
    "                            assert istr == 'last' # dont do full \n",
    "                            O[istr], P[istr] = SCA(h, mu, Pc, Pmax = p, pt = p0, \n",
    "                                                    SolverMaxIter=im, MaxIter = 1000, \n",
    "                                                    parm_alpha = 1e-8, parm_beta = 0.01, \n",
    "                                                    RelTolFun = 1e-12, RelTolVal = 1e-12, \n",
    "                                                    InnerOpt=opt)\n",
    "                        except:\n",
    "                            O[istr], P[istr] = [-np.inf], [np.full(num_ue, p)]\n",
    "                            \n",
    "                    # best init\n",
    "                    bstr = max(O, key=lambda key: O[key][-1]) \n",
    "                    pt = P[bstr][-1]\n",
    "\n",
    "                    print('%s init is best!'%bstr.upper(), \n",
    "                          '; objective ee =', O[bstr][-1], \n",
    "                          '; #outer iters =', len(O[bstr]),\n",
    "                          '; pt =', pt, '; Pmax =', p)\n",
    "\n",
    "                    [log_monitor['objective'][k].append(v) for k,v in O.items()]\n",
    "                    [log_monitor['pwr_alloc'][k].append(v) for k,v in P.items()]\n",
    "\n",
    "                break\n",
    "\n",
    "            lens = {}\n",
    "            for k,v in log_monitor['objective'].items():\n",
    "                lens[k] = np.array([len(vv) for vv in v])\n",
    "\n",
    "            eeval = {}\n",
    "            for k,v in log_monitor['objective'].items():\n",
    "                eeval[k] = np.array([vv[-1] for vv in v])\n",
    "\n",
    "            for k,v in log_monitor['objective'].items():\n",
    "                length = [len(vv) for vv in v]\n",
    "                ee = eeval[k][eeval[k]>=0]\n",
    "\n",
    "                print(k)\n",
    "                print('#iters: %.2f'%np.mean(length), \"(+- %.2f\"%np.std(length), \")\")\n",
    "                print('#eeval: %.2f'%np.mean(ee), \"(+- %.2f\"%np.std(ee), \")\")\n",
    "                print()\n",
    "                log_outiters[k].append(length)\n",
    "                \n",
    "    log_all[opt] = deepcopy(log_monitor)\n"
   ]
  },
  {
   "cell_type": "code",
   "execution_count": 65,
   "metadata": {},
   "outputs": [
    {
     "ename": "TypeError",
     "evalue": "stack(): argument 'tensors' (position 1) must be tuple of Tensors, not float",
     "output_type": "error",
     "traceback": [
      "\u001b[0;31m-------------------------------------------------------------------------\u001b[0m",
      "\u001b[0;31mTypeError\u001b[0m                               Traceback (most recent call last)",
      "\u001b[0;32m<ipython-input-65-7ded23efe97e>\u001b[0m in \u001b[0;36m<module>\u001b[0;34m\u001b[0m\n\u001b[0;32m----> 1\u001b[0;31m \u001b[0mtorch\u001b[0m\u001b[0;34m.\u001b[0m\u001b[0mstack\u001b[0m\u001b[0;34m(\u001b[0m\u001b[0;36m.1\u001b[0m\u001b[0;34m)\u001b[0m\u001b[0;34m+\u001b[0m\u001b[0mtorch\u001b[0m\u001b[0;34m.\u001b[0m\u001b[0mTensor\u001b[0m\u001b[0;34m(\u001b[0m\u001b[0;34m[\u001b[0m\u001b[0;36m1\u001b[0m\u001b[0;34m,\u001b[0m\u001b[0;36m2\u001b[0m\u001b[0;34m,\u001b[0m\u001b[0;36m3\u001b[0m\u001b[0;34m]\u001b[0m\u001b[0;34m)\u001b[0m\u001b[0;34m\u001b[0m\u001b[0;34m\u001b[0m\u001b[0m\n\u001b[0m",
      "\u001b[0;31mTypeError\u001b[0m: stack(): argument 'tensors' (position 1) must be tuple of Tensors, not float"
     ]
    }
   ],
   "source": [
    "torch.stack(.1)+torch.Tensor([1,2,3])"
   ]
  },
  {
   "cell_type": "code",
   "execution_count": null,
   "metadata": {
    "scrolled": false
   },
   "outputs": [],
   "source": [
    "fig, ax = plt.subplots(1,3, figsize=(10,3), dpi=200)\n",
    "for i, (k,v) in enumerate(log_outiters.items()): \n",
    "    ax[i].boxplot(np.array(v).T, showmeans=True)\n",
    "\n",
    "    ax[i].set_title(k)\n",
    "    ax[i].set_xticks(range(1,len(INNER_MAXIT)+1))\n",
    "    ax[i].set_xticklabels(INNER_MAXIT)\n",
    "    ax[i].set_yscale('log')\n",
    "    ax[i].set_xlabel('# inner iters')\n",
    "    \n",
    "ax[0].set_ylabel('# outer iters')\n",
    "# plt.legend()\n",
    "plt.show()"
   ]
  },
  {
   "cell_type": "code",
   "execution_count": null,
   "metadata": {},
   "outputs": [],
   "source": [
    "\n",
    "# visualize channels and plin\n",
    "\n",
    "H = np.array(h)\n",
    "np.fill_diagonal(H, 0)\n",
    "\n",
    "G = nx.from_numpy_matrix(H, create_using=nx.DiGraph)\n",
    "pos = nx.spring_layout(G)\n",
    "edge_labels = dict([((u,v,), f\"{d['weight']:.2f}\") for u,v,d in G.edges(data=True)])\n",
    "\n",
    "edges = G.edges()\n",
    "weights = [G[u][v]['weight']/50 for u,v in edges]\n",
    "\n",
    "plt.figure(figsize=(13,4))\n",
    "plt.subplot(121)\n",
    "nx.draw(G, pos, node_size=1000,font_size=14,\n",
    "        width=weights, with_labels=True) \n",
    "nx.draw_networkx_edge_labels(G, pos, edge_labels=edge_labels)\n",
    "\n",
    "plt.subplot(122)\n",
    "plt.plot(Plin,'.')\n",
    "plt.ylabel('P_max')\n",
    "plt.show()\n",
    "\n",
    "\n"
   ]
  },
  {
   "cell_type": "code",
   "execution_count": null,
   "metadata": {},
   "outputs": [],
   "source": [
    "plt.figure(figsize=(10,4), dpi=200)\n",
    "\n",
    "plt.plot([v[-1] for v in log_all['sgd']['objective']['last']], '.', alpha=.7, label='sgd')\n",
    "plt.plot([v[-1] for v in log_all['cvx']['objective']['last']], '.', alpha=.7, label='cvx')\n",
    "\n",
    "plt.legend()\n",
    "plt.show()"
   ]
  },
  {
   "cell_type": "code",
   "execution_count": null,
   "metadata": {
    "scrolled": true
   },
   "outputs": [],
   "source": [
    "lens = {}\n",
    "for k,v in log_monitor['objective'].items():\n",
    "    lens[k] = np.array([len(vv) for vv in v])\n",
    "\n",
    "eeval = {}\n",
    "for k,v in log_monitor['objective'].items():\n",
    "    eeval[k] = np.array([vv[-1] for vv in v])\n",
    "    \n",
    "for k,v in log_monitor['objective'].items():\n",
    "    length = [len(vv) for vv in v]\n",
    "    ee = eeval[k][eeval[k]>=0]\n",
    "    \n",
    "    print(k)\n",
    "    print('#iters: %.2f'%np.mean(length), \"(+- %.2f\"%np.std(length), \")\")\n",
    "    print('#eeval: %.2f'%np.mean(ee), \"(+- %.2f\"%np.std(ee), \")\")\n",
    "    print()\n",
    "    \n",
    "    \n",
    "# # plot ee\n",
    "# for k,v in log_monitor['objective'].items():\n",
    "#     plt.plot(p_perm, eeval[k],'.', label=k, alpha=.7)\n",
    "# #     plt.plot(eeval[k],'.', label=k, alpha=.7)\n",
    "# plt.xticks(range(len(Plin))[::5], [np.round(pl,1) for pl in Plin[::5]])\n",
    "# plt.legend()\n",
    "# plt.show()"
   ]
  },
  {
   "cell_type": "markdown",
   "metadata": {},
   "source": [
    "# MLP"
   ]
  },
  {
   "cell_type": "code",
   "execution_count": 4,
   "metadata": {
    "scrolled": true
   },
   "outputs": [
    {
     "name": "stdout",
     "output_type": "stream",
     "text": [
      "2020-12-29 17:11:33 | Total Trainable Params: 13340\n",
      "2020-12-29 17:11:33 | Total Trainable Params: 13731\n"
     ]
    },
    {
     "data": {
      "text/plain": [
       "13731"
      ]
     },
     "execution_count": 4,
     "metadata": {},
     "output_type": "execute_result"
    }
   ],
   "source": [
    "import torch\n",
    "import torch.nn as nn\n",
    "from torch_geometric.nn import GCNConv\n",
    "from torch_geometric.utils import dense_to_sparse\n",
    "import torch.nn.functional as F\n",
    "\n",
    "from tqdm.auto import trange\n",
    "\n",
    "# layer = ([128, 64, 32, 16, 8], ['elu', 'relu', 'elu', 'relu', 'elu'])\n",
    "class MLP(nn.Module):\n",
    "    def __init__(self, input_size):\n",
    "        super(MLP, self).__init__()\n",
    "        # permutation\n",
    "        self.fc1 = nn.Linear(input_size**2+1, 128)\n",
    "        self.fc2 = nn.Linear(128, 64)\n",
    "        self.fc3 = nn.Linear(64, 32)\n",
    "        self.fc4 = nn.Linear(32, 16)\n",
    "        self.fc5 = nn.Linear(16, 8)\n",
    "        self.fc6 = nn.Linear(8, input_size)\n",
    "        self.elu = nn.ELU()\n",
    "        self.relu = nn.ReLU()\n",
    "        \n",
    "    def forward(self, x):\n",
    "        x = self.elu(self.fc1(x))\n",
    "        x = F.dropout(x, training=self.training)\n",
    "        x = self.relu(self.fc2(x))\n",
    "        x = F.dropout(x, training=self.training)\n",
    "        x = self.elu(self.fc3(x))\n",
    "        x = F.dropout(x, training=self.training)\n",
    "        x = self.relu(self.fc4(x))\n",
    "        x = self.elu(self.fc5(x))\n",
    "        x = self.fc6(x)\n",
    "        \n",
    "        x = scale_to_range(x, [0, x[:,-1]])\n",
    "        \n",
    "        return x\n",
    "    \n",
    "    \n",
    "class GCN(torch.nn.Module):\n",
    "    def __init__(self, dim):\n",
    "        super(GCN, self).__init__()\n",
    "        self.conv1 = GCNConv(dim, 32)\n",
    "        self.conv2 = GCNConv(32, 128)\n",
    "        self.conv3 = GCNConv(128, 64)\n",
    "        self.conv4 = GCNConv(64, 16)\n",
    "        self.conv5 = GCNConv(16, 8)\n",
    "        self.conv6 = GCNConv(8, dim)\n",
    "        self.final = nn.Linear(dim, dim) \n",
    "\n",
    "    def forward(self, x, edge_index, edge_weights):\n",
    "#         x, edge_index = data.x, data.edge_index\n",
    "\n",
    "        x = F.elu(self.conv1(x, edge_index, edge_weight=edge_weights))\n",
    "        \n",
    "        x = F.relu(self.conv2(x, edge_index, edge_weight=edge_weights))\n",
    "        \n",
    "        x = F.elu(self.conv3(x, edge_index, edge_weight=edge_weights))\n",
    "        \n",
    "        x = F.relu(self.conv4(x, edge_index, edge_weight=edge_weights))\n",
    "        \n",
    "        x = F.elu(self.conv5(x, edge_index, edge_weight=edge_weights))\n",
    "\n",
    "        x = self.conv6(x, edge_index, edge_weight=edge_weights)\n",
    "\n",
    "#         return F.log_softmax(x, dim=1)\n",
    "        return self.final(x)\n",
    "\n",
    "\n",
    "    \n",
    "count_parameters(MLP(num_ue),1)\n",
    "count_parameters(GCN(1),1)"
   ]
  },
  {
   "cell_type": "code",
   "execution_count": 83,
   "metadata": {
    "scrolled": true
   },
   "outputs": [
    {
     "name": "stdout",
     "output_type": "stream",
     "text": [
      "+------------------------------+------------+\n",
      "|           Modules            | Parameters |\n",
      "+------------------------------+------------+\n",
      "| sca.0.gamma.hidden.0.weight  |    2688    |\n",
      "|  sca.0.gamma.hidden.0.bias   |    128     |\n",
      "| sca.0.gamma.hidden.2.weight  |    8192    |\n",
      "|  sca.0.gamma.hidden.2.bias   |     64     |\n",
      "| sca.0.gamma.hidden.5.weight  |    2048    |\n",
      "|  sca.0.gamma.hidden.5.bias   |     32     |\n",
      "| sca.0.gamma.hidden.8.weight  |    1024    |\n",
      "|  sca.0.gamma.hidden.8.bias   |     32     |\n",
      "| sca.0.gamma.hidden.11.weight |    1024    |\n",
      "|  sca.0.gamma.hidden.11.bias  |     32     |\n",
      "| sca.0.gamma.hidden.14.weight |    512     |\n",
      "|  sca.0.gamma.hidden.14.bias  |     16     |\n",
      "| sca.0.gamma.hidden.17.weight |    128     |\n",
      "|  sca.0.gamma.hidden.17.bias  |     8      |\n",
      "| sca.0.gamma.hidden.20.weight |     32     |\n",
      "|  sca.0.gamma.hidden.20.bias  |     4      |\n",
      "| sca.0.optim.hidden.0.weight  |    2688    |\n",
      "|  sca.0.optim.hidden.0.bias   |    128     |\n",
      "| sca.0.optim.hidden.2.weight  |    8192    |\n",
      "|  sca.0.optim.hidden.2.bias   |     64     |\n",
      "| sca.0.optim.hidden.5.weight  |    2048    |\n",
      "|  sca.0.optim.hidden.5.bias   |     32     |\n",
      "| sca.0.optim.hidden.8.weight  |    1024    |\n",
      "|  sca.0.optim.hidden.8.bias   |     32     |\n",
      "| sca.0.optim.hidden.11.weight |    1024    |\n",
      "|  sca.0.optim.hidden.11.bias  |     32     |\n",
      "| sca.0.optim.hidden.14.weight |    512     |\n",
      "|  sca.0.optim.hidden.14.bias  |     16     |\n",
      "| sca.0.optim.hidden.17.weight |    128     |\n",
      "|  sca.0.optim.hidden.17.bias  |     8      |\n",
      "| sca.0.optim.hidden.20.weight |     32     |\n",
      "|  sca.0.optim.hidden.20.bias  |     4      |\n",
      "| sca.1.gamma.hidden.0.weight  |    2688    |\n",
      "|  sca.1.gamma.hidden.0.bias   |    128     |\n",
      "| sca.1.gamma.hidden.2.weight  |    8192    |\n",
      "|  sca.1.gamma.hidden.2.bias   |     64     |\n",
      "| sca.1.gamma.hidden.5.weight  |    2048    |\n",
      "|  sca.1.gamma.hidden.5.bias   |     32     |\n",
      "| sca.1.gamma.hidden.8.weight  |    1024    |\n",
      "|  sca.1.gamma.hidden.8.bias   |     32     |\n",
      "| sca.1.gamma.hidden.11.weight |    1024    |\n",
      "|  sca.1.gamma.hidden.11.bias  |     32     |\n",
      "| sca.1.gamma.hidden.14.weight |    512     |\n",
      "|  sca.1.gamma.hidden.14.bias  |     16     |\n",
      "| sca.1.gamma.hidden.17.weight |    128     |\n",
      "|  sca.1.gamma.hidden.17.bias  |     8      |\n",
      "| sca.1.gamma.hidden.20.weight |     32     |\n",
      "|  sca.1.gamma.hidden.20.bias  |     4      |\n",
      "| sca.1.optim.hidden.0.weight  |    2688    |\n",
      "|  sca.1.optim.hidden.0.bias   |    128     |\n",
      "| sca.1.optim.hidden.2.weight  |    8192    |\n",
      "|  sca.1.optim.hidden.2.bias   |     64     |\n",
      "| sca.1.optim.hidden.5.weight  |    2048    |\n",
      "|  sca.1.optim.hidden.5.bias   |     32     |\n",
      "| sca.1.optim.hidden.8.weight  |    1024    |\n",
      "|  sca.1.optim.hidden.8.bias   |     32     |\n",
      "| sca.1.optim.hidden.11.weight |    1024    |\n",
      "|  sca.1.optim.hidden.11.bias  |     32     |\n",
      "| sca.1.optim.hidden.14.weight |    512     |\n",
      "|  sca.1.optim.hidden.14.bias  |     16     |\n",
      "| sca.1.optim.hidden.17.weight |    128     |\n",
      "|  sca.1.optim.hidden.17.bias  |     8      |\n",
      "| sca.1.optim.hidden.20.weight |     32     |\n",
      "|  sca.1.optim.hidden.20.bias  |     4      |\n",
      "| sca.2.gamma.hidden.0.weight  |    2688    |\n",
      "|  sca.2.gamma.hidden.0.bias   |    128     |\n",
      "| sca.2.gamma.hidden.2.weight  |    8192    |\n",
      "|  sca.2.gamma.hidden.2.bias   |     64     |\n",
      "| sca.2.gamma.hidden.5.weight  |    2048    |\n",
      "|  sca.2.gamma.hidden.5.bias   |     32     |\n",
      "| sca.2.gamma.hidden.8.weight  |    1024    |\n",
      "|  sca.2.gamma.hidden.8.bias   |     32     |\n",
      "| sca.2.gamma.hidden.11.weight |    1024    |\n",
      "|  sca.2.gamma.hidden.11.bias  |     32     |\n",
      "| sca.2.gamma.hidden.14.weight |    512     |\n",
      "|  sca.2.gamma.hidden.14.bias  |     16     |\n",
      "| sca.2.gamma.hidden.17.weight |    128     |\n",
      "|  sca.2.gamma.hidden.17.bias  |     8      |\n",
      "| sca.2.gamma.hidden.20.weight |     32     |\n",
      "|  sca.2.gamma.hidden.20.bias  |     4      |\n",
      "| sca.2.optim.hidden.0.weight  |    2688    |\n",
      "|  sca.2.optim.hidden.0.bias   |    128     |\n",
      "| sca.2.optim.hidden.2.weight  |    8192    |\n",
      "|  sca.2.optim.hidden.2.bias   |     64     |\n",
      "| sca.2.optim.hidden.5.weight  |    2048    |\n",
      "|  sca.2.optim.hidden.5.bias   |     32     |\n",
      "| sca.2.optim.hidden.8.weight  |    1024    |\n",
      "|  sca.2.optim.hidden.8.bias   |     32     |\n",
      "| sca.2.optim.hidden.11.weight |    1024    |\n",
      "|  sca.2.optim.hidden.11.bias  |     32     |\n",
      "| sca.2.optim.hidden.14.weight |    512     |\n",
      "|  sca.2.optim.hidden.14.bias  |     16     |\n",
      "| sca.2.optim.hidden.17.weight |    128     |\n",
      "|  sca.2.optim.hidden.17.bias  |     8      |\n",
      "| sca.2.optim.hidden.20.weight |     32     |\n",
      "|  sca.2.optim.hidden.20.bias  |     4      |\n",
      "+------------------------------+------------+\n",
      "Total Trainable Params: 95784\n"
     ]
    },
    {
     "data": {
      "text/plain": [
       "95784"
      ]
     },
     "execution_count": 83,
     "metadata": {},
     "output_type": "execute_result"
    }
   ],
   "source": [
    "count_parameters(model)"
   ]
  },
  {
   "cell_type": "code",
   "execution_count": 64,
   "metadata": {},
   "outputs": [],
   "source": []
  },
  {
   "cell_type": "markdown",
   "metadata": {},
   "source": [
    "# GCN LEARNING"
   ]
  },
  {
   "cell_type": "code",
   "execution_count": 47,
   "metadata": {},
   "outputs": [
    {
     "name": "stdout",
     "output_type": "stream",
     "text": [
      "The autoreload extension is already loaded. To reload it, use:\n",
      "  %reload_ext autoreload\n",
      "(51000, 17) (51000, 4)\n",
      "(51000, 17) (51000, 4)\n"
     ]
    }
   ],
   "source": [
    "%load_ext autoreload\n",
    "%autoreload 2\n",
    "\n",
    "#--- data---\n",
    "import dataset as ds\n",
    "import torch\n",
    "import numpy as np\n",
    "from utils import init_p\n",
    "\n",
    "num_ue=4\n",
    "init = 'full'\n",
    "device = torch.device('cuda')\n",
    "\n",
    "\n",
    "dfn_tr = '../../data/results_hataUrban_noSF.h5' # train / validation data\n",
    "X_tr, y_tr, cinfo_tr = ds.load_data(dfn_tr)\n",
    "print(X_tr.shape, y_tr.shape)\n",
    "\n",
    "dfn_te = '../../data/results_hataUrban.h5' # test data\n",
    "X_te, y_te, cinfo_te = ds.load_data(dfn_te)\n",
    "print(X_te.shape, y_te.shape)\n",
    "\n",
    "# to torch tensor\n",
    "y_tr = torch.from_numpy(y_tr).float().to(device)\n",
    "y_te = torch.from_numpy(y_te).float().to(device)\n",
    "\n",
    "# add initial pt (max)\n",
    "attach_pt = lambda x: torch.from_numpy(np.hstack((init_p(x[:,-1], num_ue, method=init), x))).float().to(device)\n",
    "X_tr_ = attach_pt(X_tr)\n",
    "X_te_ = attach_pt(X_te)\n",
    "\n",
    "# move channel info to device\n",
    "dict_to_device = lambda x,dev: {k:v.to(dev) if isinstance(v, torch.Tensor) else v for k, v in x.items() }\n",
    "cinfo_tr = dict_to_device(cinfo_tr, device)\n",
    "cinfo_te = dict_to_device(cinfo_te, device)"
   ]
  },
  {
   "cell_type": "code",
   "execution_count": 58,
   "metadata": {
    "scrolled": false
   },
   "outputs": [
    {
     "name": "stdout",
     "output_type": "stream",
     "text": [
      "torch.Size([25500, 21]) torch.Size([25500, 21]) torch.Size([25500, 4]) torch.Size([25500, 4])\n"
     ]
    },
    {
     "data": {
      "application/vnd.jupyter.widget-view+json": {
       "model_id": "5a9453255a66443bb16b820ada4c71e8",
       "version_major": 2,
       "version_minor": 0
      },
      "text/plain": [
       "HBox(children=(FloatProgress(value=0.0, description='1-th fold:', style=ProgressStyle(description_width='initi…"
      ]
     },
     "metadata": {},
     "output_type": "display_data"
    },
    {
     "name": "stdout",
     "output_type": "stream",
     "text": [
      "0: train loss 0.111265 / val loss 0.054183 / test loss 0.055829\n",
      "0: train wsee 3.106253 / val loss 6.535413 / test loss 7.596567\n",
      "1: train loss 0.018548 / val loss 0.009847 / test loss 0.015044\n",
      "1: train wsee 7.137093 / val loss 7.246392 / test loss 8.472701\n",
      "2: train loss 0.010892 / val loss 0.010777 / test loss 0.015384\n",
      "2: train wsee 7.313014 / val loss 7.290797 / test loss 8.509109\n",
      "3: train loss 0.010769 / val loss 0.011334 / test loss 0.015369\n",
      "3: train wsee 7.347824 / val loss 7.329152 / test loss 8.536964\n",
      "4: train loss 0.010632 / val loss 0.010563 / test loss 0.014104\n",
      "4: train wsee 7.387872 / val loss 7.366916 / test loss 8.582490\n",
      "5: train loss 0.010218 / val loss 0.010148 / test loss 0.013122\n",
      "5: train wsee 7.435927 / val loss 7.405576 / test loss 8.602596\n",
      "6: train loss 0.008619 / val loss 0.008126 / test loss 0.010634\n",
      "6: train wsee 7.482575 / val loss 7.469434 / test loss 8.677487\n",
      "7: train loss 0.006767 / val loss 0.006318 / test loss 0.008340\n",
      "7: train wsee 7.548062 / val loss 7.535550 / test loss 8.749573\n",
      "8: train loss 0.005014 / val loss 0.003483 / test loss 0.005166\n",
      "8: train wsee 7.612202 / val loss 7.560932 / test loss 8.843026\n",
      "9: train loss 0.006932 / val loss 0.008670 / test loss 0.009689\n",
      "9: train wsee 7.408231 / val loss 7.353393 / test loss 8.549350\n",
      "10: train loss 0.005905 / val loss 0.002545 / test loss 0.003724\n",
      "10: train wsee 7.617642 / val loss 7.646256 / test loss 8.899439\n",
      "11: train loss 0.002258 / val loss 0.001837 / test loss 0.002798\n",
      "11: train wsee 7.719989 / val loss 7.682891 / test loss 8.964971\n",
      "12: train loss 0.001679 / val loss 0.001389 / test loss 0.002201\n",
      "12: train wsee 7.746026 / val loss 7.703858 / test loss 8.972673\n",
      "13: train loss 0.001224 / val loss 0.001139 / test loss 0.001864\n",
      "13: train wsee 7.765011 / val loss 7.718979 / test loss 9.012727\n",
      "14: train loss 0.000981 / val loss 0.000962 / test loss 0.001644\n",
      "14: train wsee 7.773117 / val loss 7.723036 / test loss 9.020725\n",
      "15: train loss 0.000840 / val loss 0.000773 / test loss 0.001438\n",
      "15: train wsee 7.773610 / val loss 7.724060 / test loss 9.024597\n",
      "16: train loss 0.000758 / val loss 0.000736 / test loss 0.001381\n",
      "16: train wsee 7.777605 / val loss 7.726342 / test loss 9.022821\n",
      "17: train loss 0.000750 / val loss 0.000826 / test loss 0.001447\n",
      "17: train wsee 7.773322 / val loss 7.724104 / test loss 9.009075\n",
      "18: train loss 0.000747 / val loss 0.000799 / test loss 0.001408\n",
      "18: train wsee 7.772925 / val loss 7.727025 / test loss 9.017263\n",
      "19: train loss 0.000831 / val loss 0.000898 / test loss 0.001480\n",
      "19: train wsee 7.776159 / val loss 7.720561 / test loss 9.023353\n",
      "20: train loss 0.000754 / val loss 0.000737 / test loss 0.001325\n",
      "20: train wsee 7.773099 / val loss 7.727012 / test loss 9.024287\n",
      "21: train loss 0.000727 / val loss 0.000686 / test loss 0.001268\n",
      "21: train wsee 7.776088 / val loss 7.722482 / test loss 9.031497\n",
      "22: train loss 0.000707 / val loss 0.000799 / test loss 0.001365\n",
      "22: train wsee 7.783674 / val loss 7.726004 / test loss 9.017455\n",
      "23: train loss 0.000723 / val loss 0.000766 / test loss 0.001332\n",
      "23: train wsee 7.775730 / val loss 7.727208 / test loss 9.019036\n",
      "24: train loss 0.000726 / val loss 0.000840 / test loss 0.001401\n",
      "24: train wsee 7.775897 / val loss 7.720767 / test loss 8.997199\n",
      "25: train loss 0.000748 / val loss 0.000627 / test loss 0.001186\n",
      "25: train wsee 7.773800 / val loss 7.721623 / test loss 9.031523\n",
      "26: train loss 0.000670 / val loss 0.000666 / test loss 0.001215\n",
      "26: train wsee 7.778268 / val loss 7.726755 / test loss 9.027392\n",
      "27: train loss 0.000698 / val loss 0.000634 / test loss 0.001182\n",
      "27: train wsee 7.782182 / val loss 7.725738 / test loss 9.019522\n",
      "28: train loss 0.000837 / val loss 0.000902 / test loss 0.001415\n",
      "28: train wsee 7.773525 / val loss 7.726105 / test loss 9.021261\n",
      "29: train loss 0.000721 / val loss 0.000669 / test loss 0.001197\n",
      "29: train wsee 7.775830 / val loss 7.727218 / test loss 9.022628\n",
      "30: train loss 0.000661 / val loss 0.000618 / test loss 0.001140\n",
      "30: train wsee 7.776833 / val loss 7.721918 / test loss 9.031041\n",
      "31: train loss 0.000624 / val loss 0.000565 / test loss 0.001091\n",
      "31: train wsee 7.778235 / val loss 7.726784 / test loss 9.020601\n",
      "32: train loss 0.000613 / val loss 0.000759 / test loss 0.001260\n",
      "32: train wsee 7.775868 / val loss 7.726067 / test loss 9.017037\n",
      "33: train loss 0.000703 / val loss 0.000668 / test loss 0.001167\n",
      "33: train wsee 7.777287 / val loss 7.728067 / test loss 9.022017\n",
      "34: train loss 0.000638 / val loss 0.000673 / test loss 0.001168\n",
      "34: train wsee 7.783710 / val loss 7.727670 / test loss 9.015564\n",
      "35: train loss 0.000615 / val loss 0.000654 / test loss 0.001149\n",
      "35: train wsee 7.786039 / val loss 7.727639 / test loss 9.015761\n",
      "36: train loss 0.000629 / val loss 0.000593 / test loss 0.001089\n",
      "36: train wsee 7.774861 / val loss 7.727410 / test loss 9.022753\n",
      "37: train loss 0.000656 / val loss 0.000562 / test loss 0.001057\n",
      "37: train wsee 7.771633 / val loss 7.716897 / test loss 9.013939\n",
      "38: train loss 0.000637 / val loss 0.000642 / test loss 0.001115\n",
      "38: train wsee 7.769046 / val loss 7.725151 / test loss 9.023383\n",
      "39: train loss 0.000681 / val loss 0.000756 / test loss 0.001218\n",
      "39: train wsee 7.778504 / val loss 7.727932 / test loss 9.015413\n",
      "40: train loss 0.000632 / val loss 0.000682 / test loss 0.001149\n",
      "40: train wsee 7.774396 / val loss 7.722545 / test loss 9.001945\n",
      "41: train loss 0.000614 / val loss 0.000574 / test loss 0.001037\n",
      "41: train wsee 7.789816 / val loss 7.728019 / test loss 9.024912\n",
      "42: train loss 0.000594 / val loss 0.000647 / test loss 0.001101\n",
      "42: train wsee 7.779665 / val loss 7.727310 / test loss 9.022063\n",
      "43: train loss 0.000619 / val loss 0.000622 / test loss 0.001077\n",
      "43: train wsee 7.778629 / val loss 7.728291 / test loss 9.022021\n",
      "44: train loss 0.000592 / val loss 0.000565 / test loss 0.001018\n",
      "44: train wsee 7.772883 / val loss 7.724876 / test loss 9.029819\n",
      "45: train loss 0.000876 / val loss 0.000801 / test loss 0.001230\n",
      "45: train wsee 7.770847 / val loss 7.727972 / test loss 9.024450\n",
      "46: train loss 0.000649 / val loss 0.000540 / test loss 0.000984\n",
      "46: train wsee 7.785026 / val loss 7.725895 / test loss 9.027826\n",
      "47: train loss 0.000589 / val loss 0.000648 / test loss 0.001083\n",
      "47: train wsee 7.779316 / val loss 7.728230 / test loss 9.016647\n",
      "48: train loss 0.000584 / val loss 0.000574 / test loss 0.001016\n",
      "48: train wsee 7.779905 / val loss 7.724070 / test loss 9.005805\n",
      "49: train loss 0.000576 / val loss 0.000595 / test loss 0.001022\n",
      "49: train wsee 7.781455 / val loss 7.726692 / test loss 9.027522\n",
      "50: train loss 0.000578 / val loss 0.000575 / test loss 0.001005\n",
      "50: train wsee 7.781831 / val loss 7.728772 / test loss 9.021419\n",
      "51: train loss 0.000564 / val loss 0.000580 / test loss 0.001002\n",
      "51: train wsee 7.775601 / val loss 7.725402 / test loss 9.030039\n",
      "52: train loss 0.000584 / val loss 0.000554 / test loss 0.000984\n",
      "52: train wsee 7.773503 / val loss 7.725770 / test loss 9.009184\n",
      "53: train loss 0.000593 / val loss 0.000564 / test loss 0.000979\n",
      "53: train wsee 7.776092 / val loss 7.721448 / test loss 9.030350\n",
      "54: train loss 0.000557 / val loss 0.000623 / test loss 0.001039\n",
      "54: train wsee 7.780628 / val loss 7.726251 / test loss 9.009639\n",
      "55: train loss 0.000578 / val loss 0.000553 / test loss 0.000967\n",
      "55: train wsee 7.777705 / val loss 7.728087 / test loss 9.025157\n",
      "56: train loss 0.000557 / val loss 0.000481 / test loss 0.000899\n",
      "56: train wsee 7.767052 / val loss 7.724835 / test loss 9.024653\n",
      "57: train loss 0.000716 / val loss 0.000631 / test loss 0.001039\n",
      "57: train wsee 7.779770 / val loss 7.725955 / test loss 9.008043\n",
      "58: train loss 0.000591 / val loss 0.000593 / test loss 0.000997\n",
      "58: train wsee 7.774089 / val loss 7.727765 / test loss 9.016230\n",
      "59: train loss 0.000570 / val loss 0.000454 / test loss 0.000860\n",
      "59: train wsee 7.776084 / val loss 7.719552 / test loss 9.027223\n",
      "60: train loss 0.000565 / val loss 0.000523 / test loss 0.000921\n",
      "60: train wsee 7.774959 / val loss 7.727799 / test loss 9.025839\n",
      "61: train loss 0.000580 / val loss 0.000583 / test loss 0.000978\n",
      "61: train wsee 7.774457 / val loss 7.727772 / test loss 9.013834\n",
      "62: train loss 0.000567 / val loss 0.000568 / test loss 0.000959\n",
      "62: train wsee 7.771531 / val loss 7.727518 / test loss 9.020295\n",
      "63: train loss 0.000584 / val loss 0.000574 / test loss 0.000961\n",
      "63: train wsee 7.784852 / val loss 7.728150 / test loss 9.016492\n"
     ]
    },
    {
     "name": "stdout",
     "output_type": "stream",
     "text": [
      "64: train loss 0.000561 / val loss 0.000553 / test loss 0.000940\n",
      "64: train wsee 7.781330 / val loss 7.728554 / test loss 9.017818\n",
      "65: train loss 0.000547 / val loss 0.000633 / test loss 0.001015\n",
      "65: train wsee 7.785479 / val loss 7.726580 / test loss 9.009426\n",
      "66: train loss 0.000565 / val loss 0.000590 / test loss 0.000971\n",
      "66: train wsee 7.775556 / val loss 7.727886 / test loss 9.013954\n",
      "67: train loss 0.000544 / val loss 0.000597 / test loss 0.000974\n",
      "67: train wsee 7.776770 / val loss 7.728267 / test loss 9.016664\n",
      "68: train loss 0.000560 / val loss 0.000473 / test loss 0.000856\n",
      "68: train wsee 7.775993 / val loss 7.722772 / test loss 9.023760\n",
      "69: train loss 0.000555 / val loss 0.000611 / test loss 0.000978\n",
      "69: train wsee 7.776373 / val loss 7.726868 / test loss 9.017762\n",
      "70: train loss 0.000549 / val loss 0.000469 / test loss 0.000845\n",
      "70: train wsee 7.774030 / val loss 7.725864 / test loss 9.025918\n",
      "71: train loss 0.000547 / val loss 0.000516 / test loss 0.000889\n",
      "71: train wsee 7.777942 / val loss 7.728430 / test loss 9.023420\n",
      "72: train loss 0.000540 / val loss 0.000543 / test loss 0.000913\n",
      "72: train wsee 7.780998 / val loss 7.729024 / test loss 9.021325\n",
      "73: train loss 0.000528 / val loss 0.000517 / test loss 0.000877\n",
      "73: train wsee 7.781480 / val loss 7.714379 / test loss 9.030482\n",
      "74: train loss 0.000523 / val loss 0.000514 / test loss 0.000884\n",
      "74: train wsee 7.783673 / val loss 7.728317 / test loss 9.019066\n",
      "75: train loss 0.000519 / val loss 0.000465 / test loss 0.000836\n",
      "75: train wsee 7.779572 / val loss 7.726937 / test loss 9.021395\n",
      "76: train loss 0.000527 / val loss 0.000476 / test loss 0.000845\n",
      "76: train wsee 7.780569 / val loss 7.728883 / test loss 9.021986\n",
      "77: train loss 0.000517 / val loss 0.000494 / test loss 0.000854\n",
      "77: train wsee 7.773763 / val loss 7.722172 / test loss 9.030213\n",
      "78: train loss 0.000499 / val loss 0.000500 / test loss 0.000866\n",
      "78: train wsee 7.777093 / val loss 7.726001 / test loss 9.009059\n",
      "79: train loss 0.000509 / val loss 0.000544 / test loss 0.000903\n",
      "79: train wsee 7.776211 / val loss 7.728121 / test loss 9.014309\n",
      "80: train loss 0.000493 / val loss 0.000477 / test loss 0.000842\n",
      "80: train wsee 7.774131 / val loss 7.725909 / test loss 9.010052\n",
      "81: train loss 0.000488 / val loss 0.000468 / test loss 0.000824\n",
      "81: train wsee 7.781164 / val loss 7.726826 / test loss 9.027978\n",
      "82: train loss 0.000493 / val loss 0.000489 / test loss 0.000847\n",
      "82: train wsee 7.776572 / val loss 7.729126 / test loss 9.019085\n",
      "83: train loss 0.000488 / val loss 0.000486 / test loss 0.000841\n",
      "83: train wsee 7.775247 / val loss 7.728804 / test loss 9.021316\n",
      "84: train loss 0.000525 / val loss 0.000586 / test loss 0.000935\n",
      "84: train wsee 7.776575 / val loss 7.725922 / test loss 9.007714\n",
      "85: train loss 0.000471 / val loss 0.000549 / test loss 0.000899\n",
      "85: train wsee 7.785442 / val loss 7.725620 / test loss 9.005169\n",
      "86: train loss 0.000487 / val loss 0.000459 / test loss 0.000809\n",
      "86: train wsee 7.780112 / val loss 7.728310 / test loss 9.020873\n",
      "87: train loss 0.000478 / val loss 0.000542 / test loss 0.000885\n",
      "87: train wsee 7.774113 / val loss 7.728541 / test loss 9.022292\n",
      "88: train loss 0.000478 / val loss 0.000500 / test loss 0.000843\n",
      "88: train wsee 7.784183 / val loss 7.728735 / test loss 9.023989\n",
      "89: train loss 0.000471 / val loss 0.000448 / test loss 0.000797\n",
      "89: train wsee 7.778312 / val loss 7.729034 / test loss 9.020692\n",
      "90: train loss 0.000464 / val loss 0.000460 / test loss 0.000806\n",
      "90: train wsee 7.779931 / val loss 7.728456 / test loss 9.024491\n",
      "91: train loss 0.000464 / val loss 0.000509 / test loss 0.000854\n",
      "91: train wsee 7.777953 / val loss 7.728896 / test loss 9.017988\n",
      "92: train loss 0.000457 / val loss 0.000432 / test loss 0.000783\n",
      "92: train wsee 7.775939 / val loss 7.726524 / test loss 9.013428\n",
      "93: train loss 0.000460 / val loss 0.000492 / test loss 0.000834\n",
      "93: train wsee 7.775289 / val loss 7.729017 / test loss 9.020991\n",
      "94: train loss 0.000480 / val loss 0.000514 / test loss 0.000862\n",
      "94: train wsee 7.777111 / val loss 7.723905 / test loss 9.001423\n",
      "95: train loss 0.000466 / val loss 0.000469 / test loss 0.000804\n",
      "95: train wsee 7.782569 / val loss 7.720344 / test loss 9.028954\n",
      "96: train loss 0.000467 / val loss 0.000437 / test loss 0.000776\n",
      "96: train wsee 7.781262 / val loss 7.727917 / test loss 9.027736\n",
      "97: train loss 0.000459 / val loss 0.000517 / test loss 0.000856\n",
      "97: train wsee 7.780766 / val loss 7.727057 / test loss 9.009326\n",
      "98: train loss 0.000455 / val loss 0.000438 / test loss 0.000776\n",
      "98: train wsee 7.775792 / val loss 7.728482 / test loss 9.026356\n",
      "99: train loss 0.000464 / val loss 0.000493 / test loss 0.000830\n",
      "99: train wsee 7.774507 / val loss 7.728869 / test loss 9.016834\n",
      "\n",
      "torch.Size([25500, 21]) torch.Size([25500, 21]) torch.Size([25500, 4]) torch.Size([25500, 4])\n"
     ]
    },
    {
     "data": {
      "application/vnd.jupyter.widget-view+json": {
       "model_id": "e8cd47fcf5764f7aac1c0d5de04e5dff",
       "version_major": 2,
       "version_minor": 0
      },
      "text/plain": [
       "HBox(children=(FloatProgress(value=0.0, description='2-th fold:', style=ProgressStyle(description_width='initi…"
      ]
     },
     "metadata": {},
     "output_type": "display_data"
    },
    {
     "name": "stdout",
     "output_type": "stream",
     "text": [
      "0: train loss 0.010023 / val loss 0.002951 / test loss 0.004331\n",
      "0: train wsee 7.390061 / val loss 7.660141 / test loss 8.660439\n",
      "1: train loss 0.002610 / val loss 0.002197 / test loss 0.003258\n",
      "1: train wsee 7.629490 / val loss 7.698367 / test loss 8.719845\n",
      "2: train loss 0.002065 / val loss 0.001595 / test loss 0.002413\n",
      "2: train wsee 7.662961 / val loss 7.723274 / test loss 8.756438\n",
      "3: train loss 0.001642 / val loss 0.001385 / test loss 0.002044\n",
      "3: train wsee 7.676106 / val loss 7.734880 / test loss 8.780751\n",
      "4: train loss 0.001257 / val loss 0.001097 / test loss 0.001653\n",
      "4: train wsee 7.696246 / val loss 7.742484 / test loss 8.796055\n",
      "5: train loss 0.001035 / val loss 0.000944 / test loss 0.001424\n",
      "5: train wsee 7.698827 / val loss 7.746202 / test loss 8.806208\n",
      "6: train loss 0.000936 / val loss 0.000884 / test loss 0.001311\n",
      "6: train wsee 7.702369 / val loss 7.748864 / test loss 8.811662\n",
      "7: train loss 0.000864 / val loss 0.000826 / test loss 0.001214\n",
      "7: train wsee 7.700252 / val loss 7.748370 / test loss 8.811194\n",
      "8: train loss 0.000804 / val loss 0.000805 / test loss 0.001150\n",
      "8: train wsee 7.706816 / val loss 7.751472 / test loss 8.823841\n",
      "9: train loss 0.000767 / val loss 0.000730 / test loss 0.001050\n",
      "9: train wsee 7.709942 / val loss 7.752191 / test loss 8.825461\n",
      "10: train loss 0.000718 / val loss 0.000732 / test loss 0.001030\n",
      "10: train wsee 7.705710 / val loss 7.753412 / test loss 8.828944\n",
      "11: train loss 0.000679 / val loss 0.000649 / test loss 0.000932\n",
      "11: train wsee 7.705043 / val loss 7.753000 / test loss 8.829224\n",
      "12: train loss 0.000629 / val loss 0.000602 / test loss 0.000859\n",
      "12: train wsee 7.710510 / val loss 7.751834 / test loss 8.839186\n",
      "13: train loss 0.000575 / val loss 0.000592 / test loss 0.000845\n",
      "13: train wsee 7.710518 / val loss 7.754939 / test loss 8.837401\n",
      "14: train loss 0.000532 / val loss 0.000498 / test loss 0.000745\n",
      "14: train wsee 7.700428 / val loss 7.754732 / test loss 8.837063\n",
      "15: train loss 0.000476 / val loss 0.000455 / test loss 0.000684\n",
      "15: train wsee 7.706124 / val loss 7.754443 / test loss 8.844777\n",
      "16: train loss 0.000439 / val loss 0.000405 / test loss 0.000629\n",
      "16: train wsee 7.707116 / val loss 7.755366 / test loss 8.845781\n",
      "17: train loss 0.000403 / val loss 0.000389 / test loss 0.000609\n",
      "17: train wsee 7.702587 / val loss 7.756199 / test loss 8.845529\n",
      "18: train loss 0.000366 / val loss 0.000362 / test loss 0.000581\n",
      "18: train wsee 7.707373 / val loss 7.755860 / test loss 8.842324\n",
      "19: train loss 0.000418 / val loss 0.000349 / test loss 0.000550\n",
      "19: train wsee 7.706090 / val loss 7.756361 / test loss 8.850863\n",
      "20: train loss 0.000373 / val loss 0.000740 / test loss 0.000923\n",
      "20: train wsee 7.707771 / val loss 7.756308 / test loss 8.851879\n",
      "21: train loss 0.000460 / val loss 0.000348 / test loss 0.000546\n",
      "21: train wsee 7.714840 / val loss 7.754972 / test loss 8.845387\n",
      "22: train loss 0.000343 / val loss 0.000334 / test loss 0.000529\n",
      "22: train wsee 7.700630 / val loss 7.755850 / test loss 8.847423\n",
      "23: train loss 0.000564 / val loss 0.000836 / test loss 0.001000\n",
      "23: train wsee 7.709123 / val loss 7.757750 / test loss 8.854799\n",
      "24: train loss 0.000717 / val loss 0.000516 / test loss 0.000686\n",
      "24: train wsee 7.720249 / val loss 7.757441 / test loss 8.856978\n",
      "25: train loss 0.000415 / val loss 0.000388 / test loss 0.000559\n",
      "25: train wsee 7.705872 / val loss 7.758366 / test loss 8.859112\n",
      "26: train loss 0.000368 / val loss 0.000356 / test loss 0.000528\n",
      "26: train wsee 7.712282 / val loss 7.758061 / test loss 8.856481\n",
      "27: train loss 0.000352 / val loss 0.000329 / test loss 0.000498\n",
      "27: train wsee 7.712636 / val loss 7.758185 / test loss 8.857951\n",
      "28: train loss 0.000335 / val loss 0.000332 / test loss 0.000499\n",
      "28: train wsee 7.715299 / val loss 7.758337 / test loss 8.858323\n",
      "29: train loss 0.000318 / val loss 0.000322 / test loss 0.000472\n",
      "29: train wsee 7.710280 / val loss 7.757798 / test loss 8.869412\n",
      "30: train loss 0.000314 / val loss 0.000329 / test loss 0.000496\n",
      "30: train wsee 7.714171 / val loss 7.753994 / test loss 8.850606\n",
      "31: train loss 0.000306 / val loss 0.000306 / test loss 0.000453\n",
      "31: train wsee 7.713481 / val loss 7.758930 / test loss 8.871362\n",
      "32: train loss 0.000303 / val loss 0.000291 / test loss 0.000438\n",
      "32: train wsee 7.715041 / val loss 7.759361 / test loss 8.871149\n",
      "33: train loss 0.000315 / val loss 0.000305 / test loss 0.000447\n",
      "33: train wsee 7.712980 / val loss 7.759342 / test loss 8.873799\n",
      "34: train loss 0.000295 / val loss 0.000295 / test loss 0.000431\n",
      "34: train wsee 7.713485 / val loss 7.759374 / test loss 8.877387\n",
      "35: train loss 0.000686 / val loss 0.000919 / test loss 0.001040\n",
      "35: train wsee 7.712884 / val loss 7.758430 / test loss 8.862999\n",
      "36: train loss 0.000856 / val loss 0.000796 / test loss 0.000906\n",
      "36: train wsee 7.713614 / val loss 7.760754 / test loss 8.878753\n",
      "37: train loss 0.000835 / val loss 0.000854 / test loss 0.000967\n",
      "37: train wsee 7.709264 / val loss 7.759875 / test loss 8.870218\n",
      "38: train loss 0.000834 / val loss 0.000855 / test loss 0.000964\n",
      "38: train wsee 7.710846 / val loss 7.760923 / test loss 8.874110\n",
      "39: train loss 0.000821 / val loss 0.000819 / test loss 0.000926\n",
      "39: train wsee 7.710482 / val loss 7.760919 / test loss 8.876555\n",
      "40: train loss 0.000813 / val loss 0.000770 / test loss 0.000871\n",
      "40: train wsee 7.720507 / val loss 7.762160 / test loss 8.884789\n",
      "41: train loss 0.000804 / val loss 0.000782 / test loss 0.000885\n",
      "41: train wsee 7.712319 / val loss 7.761114 / test loss 8.880636\n",
      "42: train loss 0.000796 / val loss 0.000747 / test loss 0.000844\n",
      "42: train wsee 7.716530 / val loss 7.762864 / test loss 8.889173\n",
      "43: train loss 0.000788 / val loss 0.000775 / test loss 0.000868\n",
      "43: train wsee 7.719544 / val loss 7.763748 / test loss 8.891856\n",
      "44: train loss 0.000783 / val loss 0.000757 / test loss 0.000850\n",
      "44: train wsee 7.722636 / val loss 7.764013 / test loss 8.894400\n",
      "45: train loss 0.000784 / val loss 0.000801 / test loss 0.000884\n",
      "45: train wsee 7.716740 / val loss 7.764846 / test loss 8.902895\n",
      "46: train loss 0.000784 / val loss 0.000800 / test loss 0.000881\n",
      "46: train wsee 7.716005 / val loss 7.765662 / test loss 8.908012\n",
      "47: train loss 0.000785 / val loss 0.000762 / test loss 0.000844\n",
      "47: train wsee 7.722142 / val loss 7.765925 / test loss 8.915995\n",
      "48: train loss 0.000777 / val loss 0.000756 / test loss 0.000832\n",
      "48: train wsee 7.725930 / val loss 7.767259 / test loss 8.936436\n",
      "49: train loss 0.000771 / val loss 0.000751 / test loss 0.000822\n",
      "49: train wsee 7.717713 / val loss 7.766944 / test loss 8.953439\n",
      "50: train loss 0.000770 / val loss 0.000791 / test loss 0.000873\n",
      "50: train wsee 7.724357 / val loss 7.768022 / test loss 8.948242\n",
      "51: train loss 0.000759 / val loss 0.000783 / test loss 0.000864\n",
      "51: train wsee 7.725036 / val loss 7.770555 / test loss 8.962160\n",
      "52: train loss 0.000754 / val loss 0.000697 / test loss 0.000780\n",
      "52: train wsee 7.725480 / val loss 7.771174 / test loss 8.980718\n",
      "53: train loss 0.000736 / val loss 0.000759 / test loss 0.000840\n",
      "53: train wsee 7.728449 / val loss 7.769303 / test loss 8.981974\n",
      "54: train loss 0.000697 / val loss 0.000695 / test loss 0.000790\n",
      "54: train wsee 7.728182 / val loss 7.773729 / test loss 8.979787\n",
      "55: train loss 0.000708 / val loss 0.000803 / test loss 0.000896\n",
      "55: train wsee 7.724866 / val loss 7.771861 / test loss 8.975289\n",
      "56: train loss 0.000676 / val loss 0.000659 / test loss 0.000766\n",
      "56: train wsee 7.729838 / val loss 7.774355 / test loss 8.982513\n",
      "57: train loss 0.000661 / val loss 0.000585 / test loss 0.000698\n",
      "57: train wsee 7.732222 / val loss 7.773532 / test loss 8.990082\n",
      "58: train loss 0.000655 / val loss 0.000686 / test loss 0.000797\n",
      "58: train wsee 7.731740 / val loss 7.774787 / test loss 8.982890\n",
      "59: train loss 0.000650 / val loss 0.000615 / test loss 0.000734\n",
      "59: train wsee 7.721716 / val loss 7.773853 / test loss 8.986050\n",
      "60: train loss 0.000653 / val loss 0.000582 / test loss 0.000701\n",
      "60: train wsee 7.728724 / val loss 7.774438 / test loss 8.999123\n",
      "61: train loss 0.000660 / val loss 0.000579 / test loss 0.000699\n",
      "61: train wsee 7.731770 / val loss 7.770397 / test loss 8.999656\n",
      "62: train loss 0.000641 / val loss 0.000647 / test loss 0.000769\n",
      "62: train wsee 7.730286 / val loss 7.776294 / test loss 8.991096\n",
      "63: train loss 0.000647 / val loss 0.000591 / test loss 0.000715\n",
      "63: train wsee 7.730625 / val loss 7.775917 / test loss 8.998599\n"
     ]
    },
    {
     "name": "stdout",
     "output_type": "stream",
     "text": [
      "64: train loss 0.000893 / val loss 0.000886 / test loss 0.000986\n",
      "64: train wsee 7.722813 / val loss 7.773950 / test loss 8.992818\n",
      "65: train loss 0.000853 / val loss 0.000830 / test loss 0.000933\n",
      "65: train wsee 7.728962 / val loss 7.775539 / test loss 8.993859\n",
      "66: train loss 0.000841 / val loss 0.000811 / test loss 0.000917\n",
      "66: train wsee 7.735924 / val loss 7.775513 / test loss 8.996431\n",
      "67: train loss 0.000834 / val loss 0.000802 / test loss 0.000915\n",
      "67: train wsee 7.730868 / val loss 7.776026 / test loss 8.992726\n",
      "68: train loss 0.000832 / val loss 0.000760 / test loss 0.000875\n",
      "68: train wsee 7.726256 / val loss 7.774564 / test loss 8.997101\n",
      "69: train loss 0.000831 / val loss 0.000803 / test loss 0.000920\n",
      "69: train wsee 7.724975 / val loss 7.776367 / test loss 8.996438\n",
      "70: train loss 0.000826 / val loss 0.000846 / test loss 0.000959\n",
      "70: train wsee 7.726317 / val loss 7.776057 / test loss 8.997019\n",
      "71: train loss 0.000825 / val loss 0.000841 / test loss 0.000959\n",
      "71: train wsee 7.726413 / val loss 7.776634 / test loss 8.993877\n",
      "72: train loss 0.000826 / val loss 0.000781 / test loss 0.000905\n",
      "72: train wsee 7.729649 / val loss 7.776473 / test loss 8.996842\n",
      "73: train loss 0.000821 / val loss 0.000850 / test loss 0.000973\n",
      "73: train wsee 7.732120 / val loss 7.776448 / test loss 8.992602\n",
      "74: train loss 0.000814 / val loss 0.000815 / test loss 0.000943\n",
      "74: train wsee 7.732177 / val loss 7.776382 / test loss 8.992890\n",
      "75: train loss 0.000815 / val loss 0.000747 / test loss 0.000876\n",
      "75: train wsee 7.730137 / val loss 7.775035 / test loss 9.006191\n",
      "76: train loss 0.000822 / val loss 0.000770 / test loss 0.000904\n",
      "76: train wsee 7.725521 / val loss 7.775026 / test loss 8.994383\n",
      "77: train loss 0.000812 / val loss 0.000763 / test loss 0.000890\n",
      "77: train wsee 7.728615 / val loss 7.774091 / test loss 9.007449\n",
      "78: train loss 0.000827 / val loss 0.000784 / test loss 0.000916\n",
      "78: train wsee 7.728892 / val loss 7.776931 / test loss 9.000577\n",
      "79: train loss 0.000814 / val loss 0.000791 / test loss 0.000923\n",
      "79: train wsee 7.727648 / val loss 7.776968 / test loss 9.002090\n",
      "80: train loss 0.000815 / val loss 0.000703 / test loss 0.000840\n",
      "80: train wsee 7.730193 / val loss 7.773259 / test loss 9.008240\n",
      "81: train loss 0.000816 / val loss 0.000820 / test loss 0.000951\n",
      "81: train wsee 7.729750 / val loss 7.774768 / test loss 9.004477\n",
      "82: train loss 0.000813 / val loss 0.000786 / test loss 0.000923\n",
      "82: train wsee 7.733567 / val loss 7.776945 / test loss 9.003008\n",
      "83: train loss 0.000813 / val loss 0.000765 / test loss 0.000900\n",
      "83: train wsee 7.729855 / val loss 7.776339 / test loss 9.006083\n",
      "84: train loss 0.000812 / val loss 0.000909 / test loss 0.001049\n",
      "84: train wsee 7.728721 / val loss 7.770446 / test loss 8.977094\n",
      "85: train loss 0.000819 / val loss 0.000729 / test loss 0.000868\n",
      "85: train wsee 7.732636 / val loss 7.775639 / test loss 9.007520\n",
      "86: train loss 0.000796 / val loss 0.000767 / test loss 0.000906\n",
      "86: train wsee 7.730258 / val loss 7.776805 / test loss 9.005179\n",
      "87: train loss 0.000797 / val loss 0.000743 / test loss 0.000886\n",
      "87: train wsee 7.734731 / val loss 7.776550 / test loss 9.003639\n",
      "88: train loss 0.000800 / val loss 0.000731 / test loss 0.000876\n",
      "88: train wsee 7.732449 / val loss 7.776121 / test loss 9.007178\n",
      "89: train loss 0.000789 / val loss 0.000769 / test loss 0.000915\n",
      "89: train wsee 7.730411 / val loss 7.777230 / test loss 9.000673\n",
      "90: train loss 0.000795 / val loss 0.000747 / test loss 0.000894\n",
      "90: train wsee 7.733774 / val loss 7.777182 / test loss 9.003461\n",
      "91: train loss 0.000785 / val loss 0.000763 / test loss 0.000913\n",
      "91: train wsee 7.730007 / val loss 7.777240 / test loss 9.001153\n",
      "92: train loss 0.000781 / val loss 0.000745 / test loss 0.000894\n",
      "92: train wsee 7.729045 / val loss 7.777161 / test loss 9.006776\n",
      "93: train loss 0.000778 / val loss 0.000741 / test loss 0.000896\n",
      "93: train wsee 7.730345 / val loss 7.776499 / test loss 9.000545\n",
      "94: train loss 0.000772 / val loss 0.000744 / test loss 0.000899\n",
      "94: train wsee 7.729536 / val loss 7.777450 / test loss 9.005726\n",
      "95: train loss 0.000770 / val loss 0.000776 / test loss 0.000934\n",
      "95: train wsee 7.721913 / val loss 7.776669 / test loss 8.997306\n",
      "96: train loss 0.000768 / val loss 0.000749 / test loss 0.000905\n",
      "96: train wsee 7.728848 / val loss 7.777275 / test loss 9.007943\n",
      "97: train loss 0.000763 / val loss 0.000850 / test loss 0.001005\n",
      "97: train wsee 7.725922 / val loss 7.776300 / test loss 8.995096\n",
      "98: train loss 0.000758 / val loss 0.000771 / test loss 0.000934\n",
      "98: train wsee 7.730468 / val loss 7.776583 / test loss 8.997966\n",
      "99: train loss 0.000753 / val loss 0.000743 / test loss 0.000908\n",
      "99: train wsee 7.730009 / val loss 7.777594 / test loss 9.002894\n",
      "\n"
     ]
    }
   ],
   "source": [
    "from models_uf import GCN_ChPt\n",
    "from utils import f_wsee_torch\n",
    "from tqdm.notebook import trange\n",
    "\n",
    "mu=4 \n",
    "Pc=1\n",
    "\n",
    "h_sizes = [32, 128, 64, 16, 8]\n",
    "activs = ['elu', 'relu', 'elu', 'relu',  'elu']\n",
    "\n",
    "# k_fold = 2\n",
    "# bs = 512\n",
    "# num_l = 3 # 1 2 3\n",
    "nepochs = 100\n",
    "learning_rate = 0.001\n",
    "\n",
    "# init = 'rand'\n",
    "# rseed= 42\n",
    "loss_which= ['mse','wsee'] # wsee, mse\n",
    "# architecture = USCA_MLP # USCA_MLP_R, USCA_MLP\n",
    "# inner_optim='learned-mlp'\n",
    "    \n",
    "k_fold = 2\n",
    "bs = 512\n",
    "\n",
    "import numpy as np\n",
    "from sklearn.model_selection import StratifiedKFold\n",
    "\n",
    "\n",
    "skf = StratifiedKFold(n_splits=k_fold, shuffle=True, random_state=42)\n",
    "tr_loss1, va_loss1, te_loss1 = {},{},{}\n",
    "tr_wsee1, va_wsee1, te_wsee1 = {},{},{}\n",
    "\n",
    "for k, (train_index, valid_index) in enumerate(skf.split(X_tr, np.asarray([True]*y_tr.shape[0]))):\n",
    "\n",
    "    X_train, y_train, model = None, None, None\n",
    "    torch.cuda.empty_cache()\n",
    "    # k fold cross validation\n",
    "    \n",
    "    X_train, y_train = X_tr_[train_index], y_tr[train_index]\n",
    "    X_valid, y_valid = X_tr_[valid_index], y_tr[valid_index]\n",
    "    X_test, y_test   = X_te_[valid_index], y_te[valid_index]\n",
    "    \n",
    "    print(X_train.shape, X_valid.shape, y_train.shape, y_valid.shape)\n",
    "    \n",
    "    tr_loss1[k], va_loss1[k], te_loss1[k] = [],[],[]\n",
    "    tr_wsee1[k], va_wsee1[k], te_wsee1[k] = [],[],[]\n",
    "    \n",
    "#     model = GCN(1).to(device)\n",
    "    model = GCN_ChPt(in_size=1, out_size=1, h_sizes=h_sizes, activs=activs, channel_info = cinfo_tr).to(device)\n",
    "    opt = torch.optim.Adam(model.parameters(), lr=learning_rate, weight_decay=5e-4)\n",
    "#     opt = torch.optim.SGD(model.parameters(), lr=learning_rate, momentum=0.9)\n",
    "    \n",
    "    for epoch in trange(nepochs, desc='%d-th fold:'%(k+1)):\n",
    "        model.train()\n",
    "        perm_i = np.random.permutation(y_train.shape[0])\n",
    "        \n",
    "        shift = torch.Tensor(\n",
    "                np.array([np.arange(bs)*num_ue,]*num_ue**2).T.reshape(-1)\n",
    "            ).repeat(1, 2).view(2,-1).long().to(device)        \n",
    "\n",
    "        running_loss,running_wsee = 0,0\n",
    "        for i in range(len(perm_i)//bs):\n",
    "\n",
    "            i_s, i_e = i*bs, (i+1)*bs\n",
    "            idx = perm_i[i_s:i_e]\n",
    "\n",
    "            # ----------\n",
    "            shift = torch.Tensor(\n",
    "                np.array([np.arange(bs)*num_ue,]*num_ue**2).T.reshape(-1)\n",
    "            ).repeat(1, 2).view(2,-1).long().to(device)    \n",
    "            edge_index_batch = (cinfo_tr['edge_index'].repeat(1, bs).to(device)+shift)#.to(device) #edge_index_tr=edge_index_va\n",
    "            y_init = X_train[idx,:num_ue] # init at max power\n",
    "#             y_init = torch.randn_like(y_init)\n",
    "            edge_weight_batch = X_train[idx,num_ue:-1].reshape(-1).float()            \n",
    "            signal =  y_init.reshape((-1,1))\n",
    "            # ----------\n",
    "\n",
    "            y_true = y_train[idx].float().to(device)\n",
    "            y_pred = model([signal]*2, edge_index_batch, edge_weight_batch).reshape(y_true.shape)\n",
    "            \n",
    "            mse = torch.mean((y_pred-y_true)**2, dim=0)\n",
    "            wsee = f_wsee_torch(y_pred, X_train[idx], mu, Pc, 'vector')\n",
    "            \n",
    "            loss = 0\n",
    "            if 'mse' in loss_which:\n",
    "                loss += mse\n",
    "            if 'wsee' in loss_which:\n",
    "                loss -= wsee\n",
    "\n",
    "            opt.zero_grad()\n",
    "            loss.backward(torch.ones(num_ue).to(device)) #vector loss\n",
    "            opt.step()    \n",
    "\n",
    "            running_loss += torch.mean(mse).item()\n",
    "            running_wsee += torch.sum(wsee).item()\n",
    "#             raise\n",
    "\n",
    "#             if not i%100:\n",
    "#                 print('%d:%d/%d'%(epoch,i,y_tr.shape[0]), torch.mean(loss).item())\n",
    "        tr_loss1[k].append(running_loss/(i+1))\n",
    "        tr_wsee1[k].append(running_wsee/(i+1))\n",
    "\n",
    "        model.eval()\n",
    "        # validation\n",
    "        bs_va = bs#y_valid.shape[0]\n",
    "        running_loss,running_wsee = 0,0\n",
    "        for i in range(y_valid.shape[0]//bs_va):\n",
    "\n",
    "            i_s, i_e = i*bs_va, (i+1)*bs_va\n",
    "\n",
    "            # ----------\n",
    "            shift = torch.Tensor(\n",
    "                np.array([np.arange(bs_va)*num_ue,]*num_ue**2).T.reshape(-1)\n",
    "            ).repeat(1, 2).view(2,-1).long().to(device)\n",
    "            edge_index_batch = (cinfo_tr['edge_index'].repeat(1, bs_va).to(device)+shift)#.to(device) #edge_index_tr=edge_index_va\n",
    "            y_init = X_valid[i_s:i_e,:num_ue].to(device) # init at max power\n",
    "#             y_init = torch.randn_like(y_init)\n",
    "            edge_weight_batch = X_valid[i_s:i_e,num_ue:-1].reshape(-1).float().to(device)                \n",
    "            signal =  y_init.reshape((-1,1))\n",
    "            # ----------\n",
    "\n",
    "            y_true = y_valid[i_s:i_e].to(device)\n",
    "            y_pred = model([signal]*2, edge_index_batch, edge_weight_batch).reshape(y_true.shape)\n",
    "            wsee = f_wsee_torch(y_pred, X_valid[i_s:i_e], mu, Pc, 'vector')\n",
    "\n",
    "            loss = torch.mean((y_pred-y_true)**2, dim=0)\n",
    "            running_loss += torch.mean(loss).item()\n",
    "            running_wsee += torch.sum(wsee).item()\n",
    "            \n",
    "        va_loss1[k].append(running_loss/(i+1))\n",
    "        va_wsee1[k].append(running_wsee/(i+1))\n",
    "\n",
    "        # test\n",
    "        bs_va = bs#y_va.shape[0]\n",
    "        running_loss,running_wsee = 0,0\n",
    "        for i in range(y_test.shape[0]//bs_va):\n",
    "\n",
    "            i_s, i_e = i*bs_va, (i+1)*bs_va\n",
    "\n",
    "            # ----------\n",
    "            shift = torch.Tensor(\n",
    "                np.array([np.arange(bs_va)*num_ue,]*num_ue**2).T.reshape(-1)\n",
    "            ).repeat(1, 2).view(2,-1).long().to(device)\n",
    "            edge_index_batch = (cinfo_te['edge_index'].repeat(1, bs_va).to(device)+shift)#.to(device) #edge_index_tr=edge_index_va\n",
    "\n",
    "            y_init = X_test[i_s:i_e,:num_ue].to(device) # init at max power\n",
    "#             y_init = torch.randn_like(y_init)\n",
    "            \n",
    "            edge_weight_batch = X_test[i_s:i_e,num_ue:-1].reshape(-1).float().to(device)       \n",
    "            signal =  y_init.reshape((-1,1))\n",
    "            # ----------\n",
    "\n",
    "            y_true = y_test[i_s:i_e].float().to(device)\n",
    "            y_pred = model([signal]*2, edge_index_batch, edge_weight_batch).reshape(y_true.shape)\n",
    "            wsee = f_wsee_torch(y_pred, X_test[i_s:i_e], mu, Pc, 'vector')\n",
    "\n",
    "            loss = torch.mean((y_pred-y_true)**2, dim=0)\n",
    "            running_loss += torch.mean(loss).item()\n",
    "            running_wsee += torch.sum(wsee).item()\n",
    "            \n",
    "        te_loss1[k].append(running_loss/(i+1))\n",
    "        te_wsee1[k].append(running_wsee/(i+1))\n",
    "        \n",
    "        # -------\n",
    "\n",
    "        print('%d: train loss %.6f / val loss %.6f / test loss %.6f'%(\n",
    "            epoch, tr_loss1[k][-1], va_loss1[k][-1], te_loss1[k][-1]))\n",
    "        print('%d: train wsee %.6f / val loss %.6f / test loss %.6f'%(\n",
    "            epoch, tr_wsee1[k][-1], va_wsee1[k][-1], te_wsee1[k][-1]))\n",
    "        \n",
    "        "
   ]
  },
  {
   "cell_type": "code",
   "execution_count": 118,
   "metadata": {},
   "outputs": [],
   "source": [
    "from utils import scale_to_range"
   ]
  },
  {
   "cell_type": "code",
   "execution_count": 9,
   "metadata": {
    "scrolled": true
   },
   "outputs": [
    {
     "name": "stdout",
     "output_type": "stream",
     "text": [
      "torch.Size([25500, 21]) torch.Size([25500, 21]) torch.Size([25500, 4]) torch.Size([25500, 4])\n"
     ]
    },
    {
     "data": {
      "application/vnd.jupyter.widget-view+json": {
       "model_id": "c37f739f39864d31a2e3aebc1c173d3a",
       "version_major": 2,
       "version_minor": 0
      },
      "text/plain": [
       "HBox(children=(FloatProgress(value=0.0, description='1-th fold:', max=500.0, style=ProgressStyle(description_w…"
      ]
     },
     "metadata": {},
     "output_type": "display_data"
    },
    {
     "name": "stdout",
     "output_type": "stream",
     "text": [
      "0: train loss 0.062794 / val loss 0.018000 / test loss 0.031508\n",
      "0: train wsee 6.869764 / val loss 7.162690 / test loss 8.086316\n",
      "1: train loss 0.018072 / val loss 0.011178 / test loss 0.021670\n",
      "1: train wsee 7.272892 / val loss 7.328943 / test loss 8.285689\n",
      "2: train loss 0.013418 / val loss 0.015875 / test loss 0.024763\n",
      "2: train wsee 7.378886 / val loss 7.313383 / test loss 8.289489\n",
      "3: train loss 0.011061 / val loss 0.017030 / test loss 0.024804\n",
      "3: train wsee 7.439888 / val loss 7.281529 / test loss 8.245869\n",
      "\n"
     ]
    },
    {
     "ename": "KeyboardInterrupt",
     "evalue": "",
     "output_type": "error",
     "traceback": [
      "\u001b[0;31m-------------------------------------------------------------------------\u001b[0m",
      "\u001b[0;31mKeyboardInterrupt\u001b[0m                       Traceback (most recent call last)",
      "\u001b[0;32m<ipython-input-9-2ecc3aa23db4>\u001b[0m in \u001b[0;36m<module>\u001b[0;34m\u001b[0m\n\u001b[1;32m     53\u001b[0m \u001b[0;34m\u001b[0m\u001b[0m\n\u001b[1;32m     54\u001b[0m             \u001b[0my_true\u001b[0m \u001b[0;34m=\u001b[0m \u001b[0my_train\u001b[0m\u001b[0;34m[\u001b[0m\u001b[0midx\u001b[0m\u001b[0;34m]\u001b[0m\u001b[0;34m.\u001b[0m\u001b[0mfloat\u001b[0m\u001b[0;34m(\u001b[0m\u001b[0;34m)\u001b[0m\u001b[0;34m.\u001b[0m\u001b[0mto\u001b[0m\u001b[0;34m(\u001b[0m\u001b[0mdevice\u001b[0m\u001b[0;34m)\u001b[0m\u001b[0;34m\u001b[0m\u001b[0;34m\u001b[0m\u001b[0m\n\u001b[0;32m---> 55\u001b[0;31m             \u001b[0my_pred\u001b[0m \u001b[0;34m=\u001b[0m \u001b[0mmodel\u001b[0m\u001b[0;34m(\u001b[0m\u001b[0msignal\u001b[0m\u001b[0;34m,\u001b[0m \u001b[0medge_index_batch\u001b[0m\u001b[0;34m,\u001b[0m \u001b[0medge_weight_batch\u001b[0m\u001b[0;34m)\u001b[0m\u001b[0;34m.\u001b[0m\u001b[0mreshape\u001b[0m\u001b[0;34m(\u001b[0m\u001b[0my_true\u001b[0m\u001b[0;34m.\u001b[0m\u001b[0mshape\u001b[0m\u001b[0;34m)\u001b[0m\u001b[0;34m\u001b[0m\u001b[0;34m\u001b[0m\u001b[0m\n\u001b[0m\u001b[1;32m     56\u001b[0m \u001b[0;31m#             y_pred = scale_to_range(y_pred, (0,X_train[idx,-1]))\u001b[0m\u001b[0;34m\u001b[0m\u001b[0;34m\u001b[0m\u001b[0;34m\u001b[0m\u001b[0m\n\u001b[1;32m     57\u001b[0m \u001b[0;34m\u001b[0m\u001b[0m\n",
      "\u001b[0;32m/opt/conda/lib/python3.7/site-packages/torch/nn/modules/module.py\u001b[0m in \u001b[0;36m_call_impl\u001b[0;34m(self, *input, **kwargs)\u001b[0m\n\u001b[1;32m    720\u001b[0m             \u001b[0mresult\u001b[0m \u001b[0;34m=\u001b[0m \u001b[0mself\u001b[0m\u001b[0;34m.\u001b[0m\u001b[0m_slow_forward\u001b[0m\u001b[0;34m(\u001b[0m\u001b[0;34m*\u001b[0m\u001b[0minput\u001b[0m\u001b[0;34m,\u001b[0m \u001b[0;34m**\u001b[0m\u001b[0mkwargs\u001b[0m\u001b[0;34m)\u001b[0m\u001b[0;34m\u001b[0m\u001b[0;34m\u001b[0m\u001b[0m\n\u001b[1;32m    721\u001b[0m         \u001b[0;32melse\u001b[0m\u001b[0;34m:\u001b[0m\u001b[0;34m\u001b[0m\u001b[0;34m\u001b[0m\u001b[0m\n\u001b[0;32m--> 722\u001b[0;31m             \u001b[0mresult\u001b[0m \u001b[0;34m=\u001b[0m \u001b[0mself\u001b[0m\u001b[0;34m.\u001b[0m\u001b[0mforward\u001b[0m\u001b[0;34m(\u001b[0m\u001b[0;34m*\u001b[0m\u001b[0minput\u001b[0m\u001b[0;34m,\u001b[0m \u001b[0;34m**\u001b[0m\u001b[0mkwargs\u001b[0m\u001b[0;34m)\u001b[0m\u001b[0;34m\u001b[0m\u001b[0;34m\u001b[0m\u001b[0m\n\u001b[0m\u001b[1;32m    723\u001b[0m         for hook in itertools.chain(\n\u001b[1;32m    724\u001b[0m                 \u001b[0m_global_forward_hooks\u001b[0m\u001b[0;34m.\u001b[0m\u001b[0mvalues\u001b[0m\u001b[0;34m(\u001b[0m\u001b[0;34m)\u001b[0m\u001b[0;34m,\u001b[0m\u001b[0;34m\u001b[0m\u001b[0;34m\u001b[0m\u001b[0m\n",
      "\u001b[0;32m<ipython-input-7-02f0185a7478>\u001b[0m in \u001b[0;36mforward\u001b[0;34m(self, x, edge_index, edge_weights)\u001b[0m\n\u001b[1;32m     51\u001b[0m \u001b[0;31m#         x, edge_index = data.x, data.edge_index\u001b[0m\u001b[0;34m\u001b[0m\u001b[0;34m\u001b[0m\u001b[0;34m\u001b[0m\u001b[0m\n\u001b[1;32m     52\u001b[0m \u001b[0;34m\u001b[0m\u001b[0m\n\u001b[0;32m---> 53\u001b[0;31m         \u001b[0mx\u001b[0m \u001b[0;34m=\u001b[0m \u001b[0mF\u001b[0m\u001b[0;34m.\u001b[0m\u001b[0melu\u001b[0m\u001b[0;34m(\u001b[0m\u001b[0mself\u001b[0m\u001b[0;34m.\u001b[0m\u001b[0mconv1\u001b[0m\u001b[0;34m(\u001b[0m\u001b[0mx\u001b[0m\u001b[0;34m,\u001b[0m \u001b[0medge_index\u001b[0m\u001b[0;34m,\u001b[0m \u001b[0medge_weight\u001b[0m\u001b[0;34m=\u001b[0m\u001b[0medge_weights\u001b[0m\u001b[0;34m)\u001b[0m\u001b[0;34m)\u001b[0m\u001b[0;34m\u001b[0m\u001b[0;34m\u001b[0m\u001b[0m\n\u001b[0m\u001b[1;32m     54\u001b[0m \u001b[0;34m\u001b[0m\u001b[0m\n\u001b[1;32m     55\u001b[0m         \u001b[0mx\u001b[0m \u001b[0;34m=\u001b[0m \u001b[0mF\u001b[0m\u001b[0;34m.\u001b[0m\u001b[0mrelu\u001b[0m\u001b[0;34m(\u001b[0m\u001b[0mself\u001b[0m\u001b[0;34m.\u001b[0m\u001b[0mconv2\u001b[0m\u001b[0;34m(\u001b[0m\u001b[0mx\u001b[0m\u001b[0;34m,\u001b[0m \u001b[0medge_index\u001b[0m\u001b[0;34m,\u001b[0m \u001b[0medge_weight\u001b[0m\u001b[0;34m=\u001b[0m\u001b[0medge_weights\u001b[0m\u001b[0;34m)\u001b[0m\u001b[0;34m)\u001b[0m\u001b[0;34m\u001b[0m\u001b[0;34m\u001b[0m\u001b[0m\n",
      "\u001b[0;32m/opt/conda/lib/python3.7/site-packages/torch/nn/modules/module.py\u001b[0m in \u001b[0;36m_call_impl\u001b[0;34m(self, *input, **kwargs)\u001b[0m\n\u001b[1;32m    720\u001b[0m             \u001b[0mresult\u001b[0m \u001b[0;34m=\u001b[0m \u001b[0mself\u001b[0m\u001b[0;34m.\u001b[0m\u001b[0m_slow_forward\u001b[0m\u001b[0;34m(\u001b[0m\u001b[0;34m*\u001b[0m\u001b[0minput\u001b[0m\u001b[0;34m,\u001b[0m \u001b[0;34m**\u001b[0m\u001b[0mkwargs\u001b[0m\u001b[0;34m)\u001b[0m\u001b[0;34m\u001b[0m\u001b[0;34m\u001b[0m\u001b[0m\n\u001b[1;32m    721\u001b[0m         \u001b[0;32melse\u001b[0m\u001b[0;34m:\u001b[0m\u001b[0;34m\u001b[0m\u001b[0;34m\u001b[0m\u001b[0m\n\u001b[0;32m--> 722\u001b[0;31m             \u001b[0mresult\u001b[0m \u001b[0;34m=\u001b[0m \u001b[0mself\u001b[0m\u001b[0;34m.\u001b[0m\u001b[0mforward\u001b[0m\u001b[0;34m(\u001b[0m\u001b[0;34m*\u001b[0m\u001b[0minput\u001b[0m\u001b[0;34m,\u001b[0m \u001b[0;34m**\u001b[0m\u001b[0mkwargs\u001b[0m\u001b[0;34m)\u001b[0m\u001b[0;34m\u001b[0m\u001b[0;34m\u001b[0m\u001b[0m\n\u001b[0m\u001b[1;32m    723\u001b[0m         for hook in itertools.chain(\n\u001b[1;32m    724\u001b[0m                 \u001b[0m_global_forward_hooks\u001b[0m\u001b[0;34m.\u001b[0m\u001b[0mvalues\u001b[0m\u001b[0;34m(\u001b[0m\u001b[0;34m)\u001b[0m\u001b[0;34m,\u001b[0m\u001b[0;34m\u001b[0m\u001b[0;34m\u001b[0m\u001b[0m\n",
      "\u001b[0;32m/opt/conda/lib/python3.7/site-packages/torch_geometric/nn/conv/gcn_conv.py\u001b[0m in \u001b[0;36mforward\u001b[0;34m(self, x, edge_index, edge_weight)\u001b[0m\n\u001b[1;32m    146\u001b[0m                     edge_index, edge_weight = gcn_norm(  # yapf: disable\n\u001b[1;32m    147\u001b[0m                         \u001b[0medge_index\u001b[0m\u001b[0;34m,\u001b[0m \u001b[0medge_weight\u001b[0m\u001b[0;34m,\u001b[0m \u001b[0mx\u001b[0m\u001b[0;34m.\u001b[0m\u001b[0msize\u001b[0m\u001b[0;34m(\u001b[0m\u001b[0mself\u001b[0m\u001b[0;34m.\u001b[0m\u001b[0mnode_dim\u001b[0m\u001b[0;34m)\u001b[0m\u001b[0;34m,\u001b[0m\u001b[0;34m\u001b[0m\u001b[0;34m\u001b[0m\u001b[0m\n\u001b[0;32m--> 148\u001b[0;31m                         self.improved, self.add_self_loops, dtype=x.dtype)\n\u001b[0m\u001b[1;32m    149\u001b[0m                     \u001b[0;32mif\u001b[0m \u001b[0mself\u001b[0m\u001b[0;34m.\u001b[0m\u001b[0mcached\u001b[0m\u001b[0;34m:\u001b[0m\u001b[0;34m\u001b[0m\u001b[0;34m\u001b[0m\u001b[0m\n\u001b[1;32m    150\u001b[0m                         \u001b[0mself\u001b[0m\u001b[0;34m.\u001b[0m\u001b[0m_cached_edge_index\u001b[0m \u001b[0;34m=\u001b[0m \u001b[0;34m(\u001b[0m\u001b[0medge_index\u001b[0m\u001b[0;34m,\u001b[0m \u001b[0medge_weight\u001b[0m\u001b[0;34m)\u001b[0m\u001b[0;34m\u001b[0m\u001b[0;34m\u001b[0m\u001b[0m\n",
      "\u001b[0;32m/opt/conda/lib/python3.7/site-packages/torch_geometric/nn/conv/gcn_conv.py\u001b[0m in \u001b[0;36mgcn_norm\u001b[0;34m(edge_index, edge_weight, num_nodes, improved, add_self_loops, dtype)\u001b[0m\n\u001b[1;32m     62\u001b[0m         \u001b[0mdeg\u001b[0m \u001b[0;34m=\u001b[0m \u001b[0mscatter_add\u001b[0m\u001b[0;34m(\u001b[0m\u001b[0medge_weight\u001b[0m\u001b[0;34m,\u001b[0m \u001b[0mcol\u001b[0m\u001b[0;34m,\u001b[0m \u001b[0mdim\u001b[0m\u001b[0;34m=\u001b[0m\u001b[0;36m0\u001b[0m\u001b[0;34m,\u001b[0m \u001b[0mdim_size\u001b[0m\u001b[0;34m=\u001b[0m\u001b[0mnum_nodes\u001b[0m\u001b[0;34m)\u001b[0m\u001b[0;34m\u001b[0m\u001b[0;34m\u001b[0m\u001b[0m\n\u001b[1;32m     63\u001b[0m         \u001b[0mdeg_inv_sqrt\u001b[0m \u001b[0;34m=\u001b[0m \u001b[0mdeg\u001b[0m\u001b[0;34m.\u001b[0m\u001b[0mpow_\u001b[0m\u001b[0;34m(\u001b[0m\u001b[0;34m-\u001b[0m\u001b[0;36m0.5\u001b[0m\u001b[0;34m)\u001b[0m\u001b[0;34m\u001b[0m\u001b[0;34m\u001b[0m\u001b[0m\n\u001b[0;32m---> 64\u001b[0;31m         \u001b[0mdeg_inv_sqrt\u001b[0m\u001b[0;34m.\u001b[0m\u001b[0mmasked_fill_\u001b[0m\u001b[0;34m(\u001b[0m\u001b[0mdeg_inv_sqrt\u001b[0m \u001b[0;34m==\u001b[0m \u001b[0mfloat\u001b[0m\u001b[0;34m(\u001b[0m\u001b[0;34m'inf'\u001b[0m\u001b[0;34m)\u001b[0m\u001b[0;34m,\u001b[0m \u001b[0;36m0\u001b[0m\u001b[0;34m)\u001b[0m\u001b[0;34m\u001b[0m\u001b[0;34m\u001b[0m\u001b[0m\n\u001b[0m\u001b[1;32m     65\u001b[0m         \u001b[0;32mreturn\u001b[0m \u001b[0medge_index\u001b[0m\u001b[0;34m,\u001b[0m \u001b[0mdeg_inv_sqrt\u001b[0m\u001b[0;34m[\u001b[0m\u001b[0mrow\u001b[0m\u001b[0;34m]\u001b[0m \u001b[0;34m*\u001b[0m \u001b[0medge_weight\u001b[0m \u001b[0;34m*\u001b[0m \u001b[0mdeg_inv_sqrt\u001b[0m\u001b[0;34m[\u001b[0m\u001b[0mcol\u001b[0m\u001b[0;34m]\u001b[0m\u001b[0;34m\u001b[0m\u001b[0;34m\u001b[0m\u001b[0m\n\u001b[1;32m     66\u001b[0m \u001b[0;34m\u001b[0m\u001b[0m\n",
      "\u001b[0;32m/opt/conda/lib/python3.7/site-packages/torch/tensor.py\u001b[0m in \u001b[0;36mwrapped\u001b[0;34m(*args, **kwargs)\u001b[0m\n\u001b[1;32m     20\u001b[0m     \u001b[0;32mdef\u001b[0m \u001b[0mwrapped\u001b[0m\u001b[0;34m(\u001b[0m\u001b[0;34m*\u001b[0m\u001b[0margs\u001b[0m\u001b[0;34m,\u001b[0m \u001b[0;34m**\u001b[0m\u001b[0mkwargs\u001b[0m\u001b[0;34m)\u001b[0m\u001b[0;34m:\u001b[0m\u001b[0;34m\u001b[0m\u001b[0;34m\u001b[0m\u001b[0m\n\u001b[1;32m     21\u001b[0m         \u001b[0;32mtry\u001b[0m\u001b[0;34m:\u001b[0m\u001b[0;34m\u001b[0m\u001b[0;34m\u001b[0m\u001b[0m\n\u001b[0;32m---> 22\u001b[0;31m             \u001b[0;32mreturn\u001b[0m \u001b[0mf\u001b[0m\u001b[0;34m(\u001b[0m\u001b[0;34m*\u001b[0m\u001b[0margs\u001b[0m\u001b[0;34m,\u001b[0m \u001b[0;34m**\u001b[0m\u001b[0mkwargs\u001b[0m\u001b[0;34m)\u001b[0m\u001b[0;34m\u001b[0m\u001b[0;34m\u001b[0m\u001b[0m\n\u001b[0m\u001b[1;32m     23\u001b[0m         \u001b[0;32mexcept\u001b[0m \u001b[0mTypeError\u001b[0m\u001b[0;34m:\u001b[0m\u001b[0;34m\u001b[0m\u001b[0;34m\u001b[0m\u001b[0m\n\u001b[1;32m     24\u001b[0m             \u001b[0;32mreturn\u001b[0m \u001b[0mNotImplemented\u001b[0m\u001b[0;34m\u001b[0m\u001b[0;34m\u001b[0m\u001b[0m\n",
      "\u001b[0;31mKeyboardInterrupt\u001b[0m: "
     ]
    }
   ],
   "source": [
    "device = torch.device('cpu')\n",
    "# model = MLP(num_ue).to(device)\n",
    "# opt = torch.optim.Adam(model.parameters(), lr=0.01)\n",
    "    \n",
    "k_fold = 2\n",
    "bs = 256\n",
    "\n",
    "import numpy as np\n",
    "from sklearn.model_selection import StratifiedKFold\n",
    "\n",
    "skf = StratifiedKFold(n_splits=k_fold, shuffle=True, random_state=42)\n",
    "tr_loss1, va_loss1, te_loss1 = {},{},{}\n",
    "tr_wsee1, va_wsee1, te_wsee1 = {},{},{}\n",
    "\n",
    "for k, (train_index, valid_index) in enumerate(skf.split(X_tr, np.asarray([True]*y_tr.shape[0]))):\n",
    "    # k fold cross validation\n",
    "    \n",
    "    X_train, y_train = X_tr_[train_index], y_tr[train_index]\n",
    "    X_valid, y_valid = X_tr_[valid_index], y_tr[valid_index]\n",
    "    X_test, y_test   = X_te_[valid_index], y_te[valid_index]\n",
    "    \n",
    "    print(X_train.shape, X_valid.shape, y_train.shape, y_valid.shape)\n",
    "    \n",
    "    tr_loss1[k], va_loss1[k], te_loss1[k] = [],[],[]\n",
    "    tr_wsee1[k], va_wsee1[k], te_wsee1[k] = [],[],[]\n",
    "    \n",
    "#     model = MLP(num_ue).to(device)\n",
    "    model = GCN(1).to(device)\n",
    "    opt = torch.optim.Adam(model.parameters(), lr=0.001)#, weight_decay=5e-4)\n",
    "#     opt = torch.optim.SGD(model.parameters(), lr=0.01)\n",
    "    \n",
    "    for epoch in trange(500, desc='%d-th fold:'%(k+1)):\n",
    "        model.train()\n",
    "        perm_i = np.random.permutation(y_train.shape[0])\n",
    "\n",
    "        running_loss,running_wsee = 0,0\n",
    "        for i in range(len(perm_i)//bs):\n",
    "\n",
    "            i_s, i_e = i*bs, (i+1)*bs\n",
    "            idx = perm_i[i_s:i_e]\n",
    "\n",
    "            # ----------\n",
    "            shift = torch.Tensor(\n",
    "                np.array([np.arange(bs)*num_ue,]*num_ue**2).T.reshape(-1)\n",
    "            ).repeat(1, 2).view(2,-1).long()\n",
    "            edge_index_batch = (cinfo_tr['edge_index'].repeat(1, bs)+shift).to(device) #edge_index_tr=edge_index_va\n",
    "\n",
    "            y_init = X_train[idx,:num_ue].to(device) # init at max power\n",
    "#             y_init = torch.randn_like(y_init)\n",
    "            edge_weight_batch = X_train[idx,num_ue:-1].reshape(-1).float().to(device)                \n",
    "            signal =  y_init.reshape((-1,1))\n",
    "            # ----------\n",
    "\n",
    "            y_true = y_train[idx].float().to(device)\n",
    "            y_pred = model(signal, edge_index_batch, edge_weight_batch).reshape(y_true.shape)\n",
    "#             y_pred = scale_to_range(y_pred, (0,X_train[idx,-1]))\n",
    "            \n",
    "            mse = torch.mean((y_pred-y_true)**2, dim=0)\n",
    "            wsee = f_wsee_torch(y_pred, X_train[idx], mu, Pc, 'vector')\n",
    "\n",
    "            loss = 0.\n",
    "            if 'mse' in loss_which:\n",
    "                loss += mse\n",
    "            if 'wsee' in loss_which:\n",
    "                loss -= wsee\n",
    "\n",
    "            opt.zero_grad()\n",
    "            loss.backward(torch.ones(num_ue).to(device)) #vector loss\n",
    "            opt.step()    \n",
    "\n",
    "            running_loss += torch.mean(mse).item()\n",
    "            running_wsee += torch.sum(wsee).item()\n",
    "#             raise\n",
    "\n",
    "#             if not i%100:\n",
    "#                 print('%d:%d/%d'%(epoch,i,y_tr.shape[0]), torch.mean(loss).item())\n",
    "        tr_loss1[k].append(running_loss/(i+1))\n",
    "        tr_wsee1[k].append(running_wsee/(i+1))\n",
    "\n",
    "        model.eval()\n",
    "        # validation\n",
    "        bs_va = bs#y_valid.shape[0]\n",
    "        running_loss,running_wsee = 0,0\n",
    "        for i in range(y_valid.shape[0]//bs_va):\n",
    "\n",
    "            i_s, i_e = i*bs_va, (i+1)*bs_va\n",
    "\n",
    "            # ----------\n",
    "            shift = torch.Tensor(\n",
    "                np.array([np.arange(bs_va)*num_ue,]*num_ue**2).T.reshape(-1)\n",
    "            ).repeat(1, 2).view(2,-1).long()\n",
    "            edge_index_batch = (cinfo_tr['edge_index'].repeat(1, bs_va)+shift).to(device) #edge_index_tr=edge_index_va\n",
    "            y_init = X_valid[i_s:i_e,:num_ue].to(device) # init at max power\n",
    "#             y_init = torch.randn_like(y_init)\n",
    "            edge_weight_batch = X_valid[i_s:i_e,num_ue:-1].reshape(-1).float().to(device)                \n",
    "            signal =  y_init.reshape((-1,1))\n",
    "            # ----------\n",
    "\n",
    "            y_true = y_valid[i_s:i_e].to(device)\n",
    "            y_pred = model(signal, edge_index_batch, edge_weight_batch).reshape(y_true.shape)\n",
    "            wsee = f_wsee_torch(y_pred, X_valid[i_s:i_e], mu, Pc, 'vector')\n",
    "\n",
    "            loss = torch.mean((y_pred-y_true)**2, dim=0)\n",
    "            running_loss += torch.mean(loss).item()\n",
    "            running_wsee += torch.sum(wsee).item()\n",
    "            \n",
    "        va_loss1[k].append(running_loss/(i+1))\n",
    "        va_wsee1[k].append(running_wsee/(i+1))\n",
    "\n",
    "        # test\n",
    "        bs_va = bs#y_va.shape[0]\n",
    "        running_loss,running_wsee = 0,0\n",
    "        for i in range(y_test.shape[0]//bs_va):\n",
    "\n",
    "            i_s, i_e = i*bs_va, (i+1)*bs_va\n",
    "\n",
    "            # ----------\n",
    "            shift = torch.Tensor(\n",
    "                np.array([np.arange(bs_va)*num_ue,]*num_ue**2).T.reshape(-1)\n",
    "            ).repeat(1, 2).view(2,-1).long()\n",
    "            edge_index_batch = (cinfo_te['edge_index'].repeat(1, bs_va)+shift).to(device) #edge_index_tr=edge_index_va\n",
    "\n",
    "            y_init = X_test[i_s:i_e,:num_ue].to(device) # init at max power\n",
    "#             y_init = torch.randn_like(y_init)\n",
    "            \n",
    "            edge_weight_batch = X_test[i_s:i_e,num_ue:-1].reshape(-1).float().to(device)       \n",
    "            signal =  y_init.reshape((-1,1))\n",
    "            # ----------\n",
    "\n",
    "            y_true = y_test[i_s:i_e].float().to(device)\n",
    "            y_pred = model(signal, edge_index_batch, edge_weight_batch).reshape(y_true.shape)\n",
    "            wsee = f_wsee_torch(y_pred, X_test[i_s:i_e], mu, Pc, 'vector')\n",
    "\n",
    "            loss = torch.mean((y_pred-y_true)**2, dim=0)\n",
    "            running_loss += torch.mean(loss).item()\n",
    "            running_wsee += torch.sum(wsee).item()\n",
    "            \n",
    "        te_loss1[k].append(running_loss/(i+1))\n",
    "        te_wsee1[k].append(running_wsee/(i+1))\n",
    "        \n",
    "        # -------\n",
    "\n",
    "        print('%d: train loss %.6f / val loss %.6f / test loss %.6f'%(\n",
    "            epoch, tr_loss1[k][-1], va_loss1[k][-1], te_loss1[k][-1]))\n",
    "        print('%d: train wsee %.6f / val loss %.6f / test loss %.6f'%(\n",
    "            epoch, tr_wsee1[k][-1], va_wsee1[k][-1], te_wsee1[k][-1]))\n",
    "        \n",
    "#     break"
   ]
  },
  {
   "cell_type": "code",
   "execution_count": 128,
   "metadata": {},
   "outputs": [
    {
     "data": {
      "text/plain": [
       "tensor([[0.0358, 0.0402, 0.0547, 0.0417],\n",
       "        [0.0357, 0.0400, 0.0546, 0.0417],\n",
       "        [0.0359, 0.0395, 0.0549, 0.0413],\n",
       "        ...,\n",
       "        [0.0396, 0.0441, 0.0418, 0.0405],\n",
       "        [0.0396, 0.0445, 0.0413, 0.0419],\n",
       "        [0.0414, 0.0444, 0.0416, 0.0416]], device='cuda:0',\n",
       "       grad_fn=<ViewBackward>)"
      ]
     },
     "execution_count": 128,
     "metadata": {},
     "output_type": "execute_result"
    }
   ],
   "source": [
    "y_pred"
   ]
  },
  {
   "cell_type": "code",
   "execution_count": 46,
   "metadata": {},
   "outputs": [
    {
     "data": {
      "text/plain": [
       "(torch.Size([624, 1]), torch.Size([2, 4096]), torch.Size([156, 4]), 256)"
      ]
     },
     "execution_count": 46,
     "metadata": {},
     "output_type": "execute_result"
    }
   ],
   "source": [
    "signal.shape, edge_index_batch.shape, y_init.shape, bs_va"
   ]
  },
  {
   "cell_type": "code",
   "execution_count": null,
   "metadata": {},
   "outputs": [],
   "source": [
    "from utils import *\n",
    "f(y_true[0].cpu().numpy(), h, mu, Pc), f(y_pred[0].detach().cpu().numpy(), h, mu, Pc)"
   ]
  },
  {
   "cell_type": "code",
   "execution_count": null,
   "metadata": {},
   "outputs": [],
   "source": [
    "y_true[0].cpu().numpy(), y_pred[0].detach().cpu().numpy(), Pc"
   ]
  },
  {
   "cell_type": "code",
   "execution_count": null,
   "metadata": {},
   "outputs": [],
   "source": [
    "h * y_true[0].cpu().numpy()"
   ]
  },
  {
   "cell_type": "code",
   "execution_count": 59,
   "metadata": {},
   "outputs": [
    {
     "data": {
      "image/png": "[encoded data removed]",
      "text/plain": [
       "<Figure size 900x600 with 2 Axes>"
      ]
     },
     "metadata": {
      "needs_background": "light"
     },
     "output_type": "display_data"
    }
   ],
   "source": [
    "\n",
    "fig, ax = plt.subplots(1,2, dpi=150, sharey=True)\n",
    "\n",
    "# for ph, loss in zip([\"train\", \"valid\", \"test\"],[tr_loss, va_loss, te_loss]):\n",
    "\n",
    "#     m = np.mean(list(loss.values()),0)\n",
    "#     e = np.std(list(loss.values()),0)\n",
    "\n",
    "#     ax[0].plot(range(epoch+1), m, '-', linewidth=1, label='%s loss'%ph)\n",
    "#     ax[0].fill_between(range(epoch+1), m-e, m+e,\n",
    "#         alpha=.5, #edgecolor='#3F7F4C', facecolor='#7EFF99',\n",
    "#         linewidth=0, label=None)\n",
    "\n",
    "for ph, loss in zip([\"train\", \"valid\", \"test\"],[tr_loss1, va_loss1, te_loss1]):\n",
    "\n",
    "    m = np.mean(list(loss.values()),0)\n",
    "    e = np.std(list(loss.values()),0)\n",
    "\n",
    "    ax[1].plot(range(epoch+1), m, '-', linewidth=1, label='%s loss'%ph)\n",
    "    ax[1].fill_between(range(epoch+1), m-e, m+e,\n",
    "        alpha=.5, #edgecolor='#3F7F4C', facecolor='#7EFF99',\n",
    "        linewidth=0, label=None)\n",
    "\n",
    "ax[1].set_xlabel('epochs')\n",
    "ax[0].set_xlabel('epochs')\n",
    "ax[0].set_ylabel('mse')\n",
    "\n",
    "ax[0].set_title('MLP')\n",
    "ax[1].set_title('GCN')\n",
    "\n",
    "plt.legend(bbox_to_anchor=(0.8,-0.1), loc=\"lower right\", \n",
    "                bbox_transform=fig.transFigure, ncol=3)\n",
    "\n",
    "plt.yscale('log')\n",
    "plt.suptitle('Train and validated channels w/o SF, tested w/ SF')\n",
    "\n",
    "plt.show()"
   ]
  },
  {
   "cell_type": "code",
   "execution_count": 61,
   "metadata": {},
   "outputs": [
    {
     "data": {
      "text/plain": [
       "tensor([[0.0000, 0.0000, 1.0000, 0.0000],\n",
       "        [0.0000, 0.0000, 1.0000, 0.0000],\n",
       "        [0.0000, 0.0875, 0.6841, 0.3189],\n",
       "        ...,\n",
       "        [0.0000, 0.1299, 0.3753, 0.3838],\n",
       "        [0.0000, 0.0000, 1.0000, 0.0000],\n",
       "        [0.0000, 0.1604, 0.1948, 0.4297]], grad_fn=<MaxBackward2>)"
      ]
     },
     "execution_count": 61,
     "metadata": {},
     "output_type": "execute_result"
    }
   ],
   "source": [
    "gamma"
   ]
  },
  {
   "cell_type": "code",
   "execution_count": 5,
   "metadata": {},
   "outputs": [
    {
     "data": {
      "text/plain": [
       "numpy.ndarray"
      ]
     },
     "execution_count": 5,
     "metadata": {},
     "output_type": "execute_result"
    }
   ],
   "source": [
    "type(X_tr)"
   ]
  },
  {
   "cell_type": "code",
   "execution_count": 5,
   "metadata": {},
   "outputs": [],
   "source": [
    "import gc"
   ]
  },
  {
   "cell_type": "markdown",
   "metadata": {},
   "source": [
    "# MLP LEARNING"
   ]
  },
  {
   "cell_type": "code",
   "execution_count": 51,
   "metadata": {
    "scrolled": true
   },
   "outputs": [
    {
     "ename": "NameError",
     "evalue": "name 'os' is not defined",
     "output_type": "error",
     "traceback": [
      "\u001b[0;31m-------------------------------------------------------------------------\u001b[0m",
      "\u001b[0;31mNameError\u001b[0m                               Traceback (most recent call last)",
      "\u001b[0;32m<ipython-input-51-1a0415a7d06c>\u001b[0m in \u001b[0;36m<module>\u001b[0;34m\u001b[0m\n\u001b[1;32m     32\u001b[0m \u001b[0;34m\u001b[0m\u001b[0m\n\u001b[1;32m     33\u001b[0m \u001b[0msave_dir\u001b[0m \u001b[0;34m=\u001b[0m \u001b[0;34m'./results/%s/'\u001b[0m\u001b[0;34m%\u001b[0m\u001b[0mfix\u001b[0m\u001b[0;34m\u001b[0m\u001b[0;34m\u001b[0m\u001b[0m\n\u001b[0;32m---> 34\u001b[0;31m \u001b[0;32mif\u001b[0m \u001b[0;32mnot\u001b[0m \u001b[0mos\u001b[0m\u001b[0;34m.\u001b[0m\u001b[0mpath\u001b[0m\u001b[0;34m.\u001b[0m\u001b[0misdir\u001b[0m\u001b[0;34m(\u001b[0m\u001b[0msave_dir\u001b[0m\u001b[0;34m)\u001b[0m\u001b[0;34m:\u001b[0m\u001b[0;34m\u001b[0m\u001b[0;34m\u001b[0m\u001b[0m\n\u001b[0m\u001b[1;32m     35\u001b[0m     \u001b[0mos\u001b[0m\u001b[0;34m.\u001b[0m\u001b[0mmkdir\u001b[0m\u001b[0;34m(\u001b[0m\u001b[0msave_dir\u001b[0m\u001b[0;34m)\u001b[0m\u001b[0;34m\u001b[0m\u001b[0;34m\u001b[0m\u001b[0m\n\u001b[1;32m     36\u001b[0m \u001b[0;34m\u001b[0m\u001b[0m\n",
      "\u001b[0;31mNameError\u001b[0m: name 'os' is not defined"
     ]
    }
   ],
   "source": [
    "from models_uf import basic_mlp\n",
    "\n",
    "\n",
    "\n",
    "in_size = num_ue**2 + 1\n",
    "out_size = num_ue\n",
    "\n",
    "# h_sizes = [128, 64, 32, 16, 8]\n",
    "# activs = ['elu', 'relu', 'elu', 'relu',  'elu']\n",
    "\n",
    "h_sizes = [128, 64, 32, 32, 20, 16, 8]\n",
    "activs = ['elu', 'relu', 'elu', 'relu', 'elu', 'relu',  'elu']\n",
    "\n",
    "# h_sizes = [256, 256, 64, 64, 32, 32, 32, 32, 8]\n",
    "# activs = ['elu', 'relu', 'elu', 'relu', 'elu', 'relu', 'elu', 'relu',  'elu']\n",
    "\n",
    "k_fold = 2\n",
    "bs = 512\n",
    "num_l = 0 # 1 2 3\n",
    "nepochs = 200\n",
    "learning_rate = 0.001\n",
    "\n",
    "init = 'none'\n",
    "rseed= 42\n",
    "loss_which= ['mse','wsee'] # wsee, mse\n",
    "architecture = basic_mlp#USCA_MLP_R # USCA_MLP_R, USCA_MLP\n",
    "inner_optim='vanilla'\n",
    "\n",
    "mstr = architecture.__name__.replace('_','.')+'+'+inner_optim.replace('-','.')\n",
    "fix='small_%s_kf+%d_bs+%d_nl+%d_lr+%2e_pinit+%s_loss+%s_rseed+%d'%(\n",
    "    mstr, k_fold, bs, num_l, learning_rate, init, '+'.join(loss_which), rseed)\n",
    "\n",
    "save_dir = './results/%s/'%fix\n",
    "if not os.path.isdir(save_dir):\n",
    "    os.mkdir(save_dir)\n",
    "\n",
    "\n",
    "from sklearn.model_selection import StratifiedKFold\n",
    "\n",
    "skf = StratifiedKFold(n_splits=k_fold, shuffle=True, random_state=rseed)\n",
    "tr_loss, va_loss, te_loss = {},{},{}\n",
    "tr_wsee, va_wsee, te_wsee = {},{},{}\n",
    "tr_wsee_opt, va_wsee_opt, te_wsee_opt = {},{},{}\n",
    "\n",
    "# add initial pt (max)\n",
    "X_tr_ = torch.from_numpy(np.hstack((init_p(X_tr[:,-1], num_ue, method=init), X_tr))).float().to(device)\n",
    "X_va_ = torch.from_numpy(np.hstack((init_p(X_va[:,-1], num_ue, method=init), X_va))).float().to(device)\n",
    "\n",
    "for k, (train_index, valid_index) in enumerate(skf.split(X_tr, np.asarray([True]*y_tr.shape[0]))):\n",
    "\n",
    "    # clear cache\n",
    "    torch.cuda.empty_cache()\n",
    "    X_train, y_train, X_valid, y_valid, X_test, y_test, model = [None for _ in range(7)]\n",
    "    gc.collect()\n",
    "    \n",
    "    # k fold cross validation\n",
    "    \n",
    "    X_train, y_train = X_tr_[train_index], y_tr[train_index]\n",
    "    X_valid, y_valid = X_tr_[valid_index], y_tr[valid_index]\n",
    "    X_test, y_test   = X_va_[valid_index], y_va[valid_index]\n",
    "    \n",
    "    print(X_train.shape, X_valid.shape, y_train.shape, y_valid.shape)\n",
    "    \n",
    "    tr_loss[k], va_loss[k], te_loss[k] = [],[],[]\n",
    "    tr_wsee[k], va_wsee[k], te_wsee[k] = [],[],[]\n",
    "    tr_wsee_opt[k] = f_wsee_torch(y_train, X_train, mu, Pc, 'mean').item()\n",
    "    va_wsee_opt[k] = f_wsee_torch(y_valid, X_valid, mu, Pc, 'mean').item()\n",
    "    te_wsee_opt[k] = f_wsee_torch(y_test, X_test, mu, Pc, 'mean').item()\n",
    "    \n",
    "    print('%d-fold: train opt wsee %.6f / val opt wsee %.6f / test opt wsee %.6f'%(\n",
    "            k+1, tr_wsee_opt[k], va_wsee_opt[k], te_wsee_opt[k]))\n",
    "    \n",
    "#     model = architecture(num_ue).to(device)\n",
    "    model = architecture(in_size, out_size, h_sizes, activs=activs, dropout=0).to(device)\n",
    "    opt = torch.optim.Adam(model.parameters(), lr=learning_rate)\n",
    "#     opt = torch.optim.SGD(model.parameters(), lr=learning_rate)\n",
    "    count_parameters(model)\n",
    "    \n",
    "    for epoch in trange(nepochs, desc='%d-th fold:'%(k+1)):\n",
    "        model.train()\n",
    "        perm_i = np.random.permutation(y_train.shape[0])\n",
    "\n",
    "        running_loss, running_wsee = 0,0\n",
    "        for i in range(len(perm_i)//bs):\n",
    "\n",
    "            i_s, i_e = i*bs, (i+1)*bs\n",
    "\n",
    "            y_true = y_train[i_s:i_e] \n",
    "            x = X_train[i_s:i_e]\n",
    "            \n",
    "            y_pred = model(x[:,num_ue:])\n",
    "#             print(y_pred)\n",
    "\n",
    "            mse = torch.mean((y_pred-y_true)**2, dim=0)\n",
    "            wsee = f_wsee_torch(y_pred, x, mu, Pc, 'vector')\n",
    "\n",
    "            loss = 0\n",
    "            if 'mse' in loss_which:\n",
    "                loss += mse\n",
    "            if 'wsee' in loss_which:\n",
    "                loss -= wsee\n",
    "\n",
    "            opt.zero_grad()\n",
    "            loss.backward(torch.ones(num_ue).to(device)) #vector loss\n",
    "        \n",
    "            torch.nn.utils.clip_grad_norm_(model.parameters(), 1)\n",
    "            opt.step()    \n",
    "\n",
    "            running_loss += torch.mean(mse).item()\n",
    "            running_wsee += torch.mean(wsee).item()*num_ue\n",
    "            \n",
    "#             if not i%100:\n",
    "#                 print('%d:%d/%d'%(epoch,i,y_tr.shape[0]), torch.mean(loss).item())\n",
    "\n",
    "        tr_loss[k].append(running_loss/(i+1))\n",
    "        tr_wsee[k].append(running_wsee/(i+1))\n",
    "\n",
    "        model.eval()\n",
    "        # validation\n",
    "        y_pred = model( X_valid[:,num_ue:] )\n",
    "        va_wsee[k].append(f_wsee_torch(y_pred,  X_valid, mu, Pc, 'mean').item())\n",
    "        va_loss[k].append(torch.mean(( y_pred-y_valid )**2).item())   \n",
    "\n",
    "        # test\n",
    "        y_pred = model( X_test[:,num_ue:] )\n",
    "        te_wsee[k].append(f_wsee_torch(y_pred,  X_test, mu, Pc, 'mean').item())\n",
    "        te_loss[k].append(torch.mean((y_pred-y_test)**2).item())\n",
    "\n",
    "        print('%d: train loss %.6f / val loss %.6f / test loss %.6f'%(\n",
    "            epoch, tr_loss[k][-1], va_loss[k][-1], te_loss[k][-1]))\n",
    "        print('%d: train wsee %.6f / val wsee %.6f / test wsee %.6f'%(\n",
    "            epoch, tr_wsee[k][-1], va_wsee[k][-1], te_wsee[k][-1]))\n",
    "        print()\n",
    "        \n",
    "#     break"
   ]
  },
  {
   "cell_type": "code",
   "execution_count": 110,
   "metadata": {},
   "outputs": [
    {
     "data": {
      "text/plain": [
       "'small_basic.mlp+vanilla_kf+2_bs+512_nl+0_lr+1.000000e-03_pinit+none_loss+mse+wsee_rseed+42'"
      ]
     },
     "execution_count": 110,
     "metadata": {},
     "output_type": "execute_result"
    }
   ],
   "source": [
    "fix "
   ]
  },
  {
   "cell_type": "code",
   "execution_count": 111,
   "metadata": {
    "scrolled": true
   },
   "outputs": [
    {
     "data": {
      "text/plain": [
       "'./results/small_basic.mlp+vanilla_kf+2_bs+512_nl+0_lr+1.000000e-03_pinit+none_loss+mse+wsee_rseed+42/log.2fcv.json'"
      ]
     },
     "execution_count": 111,
     "metadata": {},
     "output_type": "execute_result"
    }
   ],
   "source": [
    "\n",
    "import os\n",
    "import json\n",
    "\n",
    "list_to_save = ['tr_loss', 'va_loss', 'te_loss', 'tr_wsee', 'va_wsee', 'te_wsee']\n",
    "\n",
    "save_dir = './results/%s/'%fix\n",
    "if not os.path.isdir(save_dir):\n",
    "    os.mkdir(save_dir)\n",
    "\n",
    "with open(save_dir+'log.%dfcv.json'%k_fold, 'w') as fp:\n",
    "    evals = {'tr_loss':tr_loss, 'va_loss':va_loss, 'te_loss':te_loss, \n",
    "             'tr_wsee':tr_wsee, 'va_wsee':va_wsee, 'te_wsee':te_wsee}\n",
    "    json.dump(evals, fp)\n",
    "    \n",
    "    \n",
    "save_dir+'log.%dfcv.json'%k_fold"
   ]
  },
  {
   "cell_type": "code",
   "execution_count": 127,
   "metadata": {},
   "outputs": [
    {
     "data": {
      "text/plain": [
       "'./results/basic.mlp+vanilla_kf+2_bs+256_nl+0_lr+1.000000e-02_pinit+none_loss+mse+wsee_rseed+42/log.2fcv.json'"
      ]
     },
     "execution_count": 127,
     "metadata": {},
     "output_type": "execute_result"
    }
   ],
   "source": [
    "save_dir+'log.%dfcv.json'%k_fold\n"
   ]
  },
  {
   "cell_type": "code",
   "execution_count": 117,
   "metadata": {},
   "outputs": [
    {
     "data": {
      "image/png": "[encoded data removed]",
      "text/plain": [
       "<Figure size 1200x600 with 1 Axes>"
      ]
     },
     "metadata": {
      "needs_background": "light"
     },
     "output_type": "display_data"
    }
   ],
   "source": [
    "\n",
    "plt.figure(figsize=(6,3),  dpi=200)\n",
    "\n",
    "\n",
    "for ph, loss in zip([\"train\", \"valid\", \"test\"],[tr_loss, va_loss, te_loss]):\n",
    "# for ph, loss in zip([\"train\", \"valid\", \"test\"],[tr_wsee, va_wsee, te_wsee]):\n",
    "\n",
    "    m = np.mean(list(loss.values()),0)\n",
    "    e = np.std(list(loss.values()),0)\n",
    "\n",
    "    plt.plot(range(epoch+1), m, '-', linewidth=1, label='%s loss'%ph)\n",
    "    plt.fill_between(range(epoch+1), m-e, m+e,\n",
    "        alpha=.5, #edgecolor='#3F7F4C', facecolor='#7EFF99',\n",
    "        linewidth=0, label=None)\n",
    "\n",
    "\n",
    "# plt.plot(range(epoch+1), np.mean(list(tr_loss.values()),0), '-', label='train loss')\n",
    "# plt.plot(range(epoch+1), np.mean(list(va_loss.values()),0), '-', label='validation loss')\n",
    "# plt.plot(range(epoch+1), np.mean(list(te_loss.values()),0), '-.', label='test loss')\n",
    "\n",
    "plt.xlabel('epochs')\n",
    "plt.ylabel('mse')\n",
    "plt.legend()\n",
    "\n",
    "# plt.xscale('log')\n",
    "plt.title('Train and validated channels w/o SF, tested w/ SF')\n",
    "\n",
    "plt.show()"
   ]
  },
  {
   "cell_type": "code",
   "execution_count": null,
   "metadata": {},
   "outputs": [],
   "source": []
  },
  {
   "cell_type": "code",
   "execution_count": null,
   "metadata": {},
   "outputs": [],
   "source": []
  },
  {
   "cell_type": "code",
   "execution_count": null,
   "metadata": {},
   "outputs": [],
   "source": [
    "ax"
   ]
  },
  {
   "cell_type": "code",
   "execution_count": 60,
   "metadata": {},
   "outputs": [
    {
     "data": {
      "image/png": "[encoded data removed]",
      "text/plain": [
       "<Figure size 1600x600 with 2 Axes>"
      ]
     },
     "metadata": {
      "needs_background": "light"
     },
     "output_type": "display_data"
    }
   ],
   "source": [
    "def histogram(sample,bins=10, alpha=1, ax=None, label=None):\n",
    "    if not bins:\n",
    "        bins='auto'\n",
    "    bin_height,bin_boundary = np.histogram(sample,bins=bins)\n",
    "    width = bin_boundary[1]-bin_boundary[0]\n",
    "    bin_height = bin_height/float(max(bin_height))\n",
    "    if ax is not None:\n",
    "        ax.bar(bin_boundary[:-1],bin_height,width = width, alpha=alpha, label=label)\n",
    "    else:\n",
    "        plt.bar(bin_boundary[:-1],bin_height,width = width, alpha=alpha, label=label)\n",
    "\n",
    "\n",
    "fig, ax = plt.subplots(1,2, figsize=(8,3), dpi=200)#, sharex=False, sharey=False)\n",
    "\n",
    "histogram(X_va.flatten(),bins=80, alpha=.6, ax=ax[0], label='test')\n",
    "histogram(X_tr.flatten(),bins=80, alpha=.6, ax=ax[0], label='train')\n",
    "\n",
    "histogram(y_va.flatten(),bins=200, alpha=.6, ax=ax[1], label='test (SF)')\n",
    "histogram(y_tr.flatten(),bins=200, alpha=.6, ax=ax[1], label='train (noSF)')\n",
    "\n",
    "ax[0].set_yscale('log')\n",
    "ax[1].set_yscale('log')\n",
    "\n",
    "ax[0].set_title(\"channels\")\n",
    "ax[1].set_title(\"optim power alloc\")\n",
    "\n",
    "# plt.title(\"Data - hataUrban\")\n",
    "plt.legend()\n",
    "plt.show()\n",
    "\n",
    "\n"
   ]
  },
  {
   "cell_type": "code",
   "execution_count": null,
   "metadata": {},
   "outputs": [],
   "source": [
    "plt.hist(np.random.randn(300,3))\n"
   ]
  },
  {
   "cell_type": "code",
   "execution_count": null,
   "metadata": {},
   "outputs": [],
   "source": [
    "plt.plot(p_perm, ee[14], '.', label='mlp', alpha=.7)\n",
    "#     plt.plot(eeval[k],'.', label=k, alpha=.7)\n",
    "plt.xticks(range(len(Plin))[::5], [np.round(pl,1) for pl in Plin[::5]])\n",
    "plt.legend()\n",
    "plt.show()"
   ]
  },
  {
   "cell_type": "code",
   "execution_count": null,
   "metadata": {},
   "outputs": [],
   "source": []
  },
  {
   "cell_type": "code",
   "execution_count": null,
   "metadata": {},
   "outputs": [],
   "source": []
  },
  {
   "cell_type": "code",
   "execution_count": null,
   "metadata": {},
   "outputs": [],
   "source": []
  },
  {
   "cell_type": "code",
   "execution_count": null,
   "metadata": {},
   "outputs": [],
   "source": []
  },
  {
   "cell_type": "code",
   "execution_count": null,
   "metadata": {},
   "outputs": [],
   "source": [
    "\n",
    "        "
   ]
  },
  {
   "cell_type": "code",
   "execution_count": null,
   "metadata": {
    "scrolled": true
   },
   "outputs": [],
   "source": [
    "p0, Pmax, model.pvar\n",
    "f(model.pvar.detach().numpy(), h0)"
   ]
  },
  {
   "cell_type": "code",
   "execution_count": null,
   "metadata": {
    "scrolled": true
   },
   "outputs": [],
   "source": [
    "fig, ax = plt.subplots(1,2,figsize=(9,3))\n",
    "\n",
    "ax[0].plot(np.array(ll).mean(-1))\n",
    "\n",
    "ax[1].plot(ee)\n",
    "\n",
    "plt.show()"
   ]
  },
  {
   "cell_type": "code",
   "execution_count": null,
   "metadata": {},
   "outputs": [],
   "source": [
    "fig, ax = plt.subplots(1,2,figsize=(9,3))\n",
    "\n",
    "ax[0].plot(np.array(ll).mean(-1))\n",
    "\n",
    "ax[1].plot(ee)\n",
    "\n",
    "plt.show()"
   ]
  }
 ],
 "metadata": {
  "kernelspec": {
   "display_name": "Python 3",
   "language": "python",
   "name": "python3"
  },
  "language_info": {
   "codemirror_mode": {
    "name": "ipython",
    "version": 3
   },
   "file_extension": ".py",
   "mimetype": "text/x-python",
   "name": "python",
   "nbconvert_exporter": "python",
   "pygments_lexer": "ipython3",
   "version": "3.7.7"
  }
 },
 "nbformat": 4,
 "nbformat_minor": 4
}
